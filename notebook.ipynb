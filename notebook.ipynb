{
  "cells": [
    {
      "cell_type": "markdown",
      "metadata": {
        "id": "V1iSP1XtTB73"
      },
      "source": [
        "# Books Recommender System\n",
        "\n",
        "Industri buku telah mengalami pertumbuhan yang signifikan dalam beberapa tahun terakhir, dengan ribuan judul baru diterbitkan setiap tahunnya. Di Indonesia, data dari Ikatan Penerbit Indonesia (IKAPI) menunjukkan bahwa lebih dari 30.000 judul buku diterbitkan setiap tahun [[1]](https://kumparan.com/kumparannews/industri-buku-di-indonesia/full). Namun, rata-rata masyarakat Indonesia hanya membeli dua buku per tahun, yang menunjukkan tantangan dalam meningkatkan minat baca.\n",
        "\n",
        "Selain itu, data dari Perpustakaan Nasional (Perpusnas) menunjukkan bahwa pada tahun 2021, hampir 160.000 ISBN diterbitkan, dengan 147.000 di antaranya adalah buku. Namun, jumlah ini menurun menjadi 107.800 ISBN pada tahun 2022 dan sedikit meningkat menjadi 108.000 ISBN pada tahun 2023. Hingga pertengahan 2024, sudah ada 70.000 ISBN yang diterbitkan, dengan 65.000 di antaranya untuk buku [[2]](https://data.goodstats.id/statistic/jumlah-isbn-indonesia-turun-sejak-2021-jZosj). Dengan semakin banyaknya buku yang diterbitkan setiap tahun, pengguna sering mengalami kesulitan dalam menemukan buku yang sesuai dengan preferensi mereka, khususnya buku digital yang kian menjadi metode berbeda untuk membaca dan menemukan buku baru [[3]](https://www.researchgate.net/publication/383038644_Sistem_Rekomendasi_Buku_Berbasis_Konten_Menggunakan_Metode_Collaborative_Filtering). Hal ini menekankan pentingnya sistem rekomendasi buku yang efektif untuk membantu pembaca menavigasi pilihan yang luas dan menemukan bacaan yang sesuai dengan minat mereka. \n",
        "\n",
        "Data berdasarkan penelitian menunjukkan bahwa penggunaan sistem rekomendasi berbasis content-based filtering dapat meningkatkan user engagement dan membantu pengguna dalam menemukan buku yang relevan dengan preferensi mereka [[4]](https://www.researchgate.net/publication/348968927_Personalized_Book_Recommendation_System_using_Machine_Learning_Algorithm). Sejalan dengan ini, studi lain mengonfirmasi bahwa algoritma machine learning berbasis collaborative filtering dapat meningkatkan akurasi rekomendasi buku secara signifikan [[5]](https://ieeexplore.ieee.org/document/7019651).\n",
        "\n",
        "Sistem rekomendasi buku menjadi sangat penting karena beberapa alasan:\n",
        "1. Membantu pengguna menemukan konten yang relevan di antara ribuan pilihan yang ada.\n",
        "2. Meningkatkan engagement user pada platform penjualan atau penyedia layanan buku.\n",
        "3. Memberikan pengalaman personalisasi yang lebih baik kepada pembaca.\n",
        "4. Membantu penerbit dan distributor buku dalam memasarkan konten mereka secara lebih efektif.\n",
        "\n",
        "**Referensi Riset Terkait:**\n",
        "\n",
        "[1] [Industri Buku di Indonesia](https://kumparan.com/kumparannews/industri-buku-di-indonesia/full)  \n",
        "[2] [Jumlah ISBN Indonesia Turun Sejak 2021](https://data.goodstats.id/statistic/jumlah-isbn-indonesia-turun-sejak-2021-jZosj)  \n",
        "[3] [Sistem Rekomendasi Buku Berbasis Konten Menggunakan Metode Collaborative Filtering](https://www.researchgate.net/publication/383038644_Sistem_Rekomendasi_Buku_Berbasis_Konten_Menggunakan_Metode_Collaborative_Filtering)  \n",
        "[4] [Personalized Book Recommendation System using Machine Learning Algorithm](https://www.researchgate.net/publication/348968927_Personalized_Book_Recommendation_System_using_Machine_Learning_Algorithm)  \n",
        "[5] [Book recommendation system based on collaborative filtering and association rule mining for college students](https://ieeexplore.ieee.org/document/7019651)"
      ]
    },
    {
      "cell_type": "markdown",
      "metadata": {
        "id": "9txvK6wMl5wq"
      },
      "source": [
        "## Data Understanding\n",
        "\n",
        "Dataset yang digunakan adalah [Book Recommendation Dataset](https://www.kaggle.com/datasets/arashnic/book-recommendation-dataset/data) dari Kaggle. Dataset ini terdiri dari tiga file yaitu books.csv, ratings.csv, dan users.csv, berikut adalah informasi mengenai dataset:\n",
        "\n",
        "### Informasi Dataset:\n",
        "- Jumlah Data:\n",
        "  - books.csv: 271.360 rows, 8 columns\n",
        "  - ratings.csv: 1.149.780 rows, 3 columns\n",
        "  - users.csv: 278.858 rows, 3 columns\n",
        "\n",
        "### Variabel-variabel pada Dataset:\n",
        "\n",
        "1. books.csv (271.360 entries):\n",
        "   - ISBN: ID unik untuk setiap buku\n",
        "   - Book-Title: Judul buku\n",
        "   - Book-Author: Penulis buku\n",
        "   - Year-Of-Publication: Tahun terbit buku\n",
        "   - Publisher: Penerbit buku\n",
        "   - Image-URL-S: URL gambar sampul buku\n",
        "   - Image-URL-M: URL gambar sampul buku\n",
        "   - Image-URL-L: URL gambar sampul buku\n",
        "\n",
        "2. ratings.csv (1.149.780 users):\n",
        "   - User-ID: ID unik untuk setiap user\n",
        "   - ISBN: ID buku yang diberi rating\n",
        "   - Book-Rating: Rating yang diberikan (skala 0-10)\n",
        "\n",
        "3. users.csv (278.858 users):\n",
        "   - User-ID: ID unik untuk setiap user\n",
        "   - Location: Lokasi pengguna\n",
        "   - Age: Usia pengguna"
      ]
    },
    {
      "cell_type": "markdown",
      "metadata": {
        "id": "VPWJZXo1lbRQ"
      },
      "source": [
        "## Data Preparation"
      ]
    },
    {
      "cell_type": "code",
      "execution_count": 23,
      "metadata": {
        "id": "g0WMkmDZpUiI"
      },
      "outputs": [],
      "source": [
        "import os\n",
        "from google.colab import drive\n",
        "import pandas as pd\n",
        "import numpy as np\n",
        "from matplotlib import pyplot as plt\n",
        "import seaborn as sns\n",
        "from sklearn.feature_extraction.text import TfidfVectorizer\n",
        "from sklearn.metrics.pairwise import cosine_similarity\n",
        "import tensorflow as tf\n",
        "from tensorflow.keras import layers, models"
      ]
    },
    {
      "cell_type": "markdown",
      "metadata": {
        "id": "RyjJljCnpjrQ"
      },
      "source": [
        "Mount google drive untuk menyimpan dataset yang didownload dari kaggle"
      ]
    },
    {
      "cell_type": "code",
      "execution_count": 2,
      "metadata": {
        "colab": {
          "base_uri": "https://localhost:8080/"
        },
        "id": "T8y0-b70n_8I",
        "outputId": "c1ebb8a9-44da-468e-a79a-c162a98b996d"
      },
      "outputs": [
        {
          "name": "stdout",
          "output_type": "stream",
          "text": [
            "Mounted at /content/drive\n"
          ]
        }
      ],
      "source": [
        "# Mount Google Drive\n",
        "drive.mount('/content/drive')"
      ]
    },
    {
      "cell_type": "markdown",
      "metadata": {
        "id": "84sYWNSgpqvI"
      },
      "source": [
        "Persiapkan Kaggle dengan melakukan instalasi dan konfigurasi kaggle.json"
      ]
    },
    {
      "cell_type": "code",
      "execution_count": null,
      "metadata": {
        "colab": {
          "base_uri": "https://localhost:8080/"
        },
        "id": "G3HPDaPnS9WG",
        "outputId": "ac391372-613c-4544-864d-2e71e69e2969"
      },
      "outputs": [
        {
          "name": "stdout",
          "output_type": "stream",
          "text": [
            "Requirement already satisfied: kaggle in /usr/local/lib/python3.11/dist-packages (1.6.17)\n",
            "Requirement already satisfied: six>=1.10 in /usr/local/lib/python3.11/dist-packages (from kaggle) (1.17.0)\n",
            "Requirement already satisfied: certifi>=2023.7.22 in /usr/local/lib/python3.11/dist-packages (from kaggle) (2025.1.31)\n",
            "Requirement already satisfied: python-dateutil in /usr/local/lib/python3.11/dist-packages (from kaggle) (2.8.2)\n",
            "Requirement already satisfied: requests in /usr/local/lib/python3.11/dist-packages (from kaggle) (2.32.3)\n",
            "Requirement already satisfied: tqdm in /usr/local/lib/python3.11/dist-packages (from kaggle) (4.67.1)\n",
            "Requirement already satisfied: python-slugify in /usr/local/lib/python3.11/dist-packages (from kaggle) (8.0.4)\n",
            "Requirement already satisfied: urllib3 in /usr/local/lib/python3.11/dist-packages (from kaggle) (2.3.0)\n",
            "Requirement already satisfied: bleach in /usr/local/lib/python3.11/dist-packages (from kaggle) (6.2.0)\n",
            "Requirement already satisfied: webencodings in /usr/local/lib/python3.11/dist-packages (from bleach->kaggle) (0.5.1)\n",
            "Requirement already satisfied: text-unidecode>=1.3 in /usr/local/lib/python3.11/dist-packages (from python-slugify->kaggle) (1.3)\n",
            "Requirement already satisfied: charset-normalizer<4,>=2 in /usr/local/lib/python3.11/dist-packages (from requests->kaggle) (3.4.1)\n",
            "Requirement already satisfied: idna<4,>=2.5 in /usr/local/lib/python3.11/dist-packages (from requests->kaggle) (3.10)\n",
            "mkdir: cannot create directory ‘/root/.kaggle’: File exists\n"
          ]
        }
      ],
      "source": [
        "# Prepare Kaggle\n",
        "!pip install kaggle\n",
        "!mkdir ~/.kaggle\n",
        "!cp /content/drive/MyDrive/Kaggle/kaggle.json ~/.kaggle/kaggle.json\n",
        "!chmod 600 ~/.kaggle/kaggle.json"
      ]
    },
    {
      "cell_type": "markdown",
      "metadata": {
        "id": "8AYo-NTgp1eY"
      },
      "source": [
        "Download dataset book-recommendations-dataset"
      ]
    },
    {
      "cell_type": "code",
      "execution_count": null,
      "metadata": {
        "colab": {
          "base_uri": "https://localhost:8080/"
        },
        "id": "l_QkbK_Fn48X",
        "outputId": "5bb4c612-699e-4b8e-aabf-2ff37c3cb023"
      },
      "outputs": [
        {
          "name": "stdout",
          "output_type": "stream",
          "text": [
            "Dataset URL: https://www.kaggle.com/datasets/arashnic/book-recommendation-dataset\n",
            "License(s): CC0-1.0\n",
            "Downloading book-recommendation-dataset.zip to /content/drive/MyDrive/Kaggle/Dataset\n",
            " 86% 21.0M/24.3M [00:01<00:00, 16.2MB/s]\n",
            "100% 24.3M/24.3M [00:01<00:00, 16.4MB/s]\n"
          ]
        }
      ],
      "source": [
        "# Download dataset\n",
        "!kaggle datasets download -d arashnic/book-recommendation-dataset -p /content/drive/MyDrive/Kaggle/Dataset"
      ]
    },
    {
      "cell_type": "markdown",
      "metadata": {
        "id": "8-NpIBbPp5FQ"
      },
      "source": [
        "Unzip dataset yang telah di-download"
      ]
    },
    {
      "cell_type": "code",
      "execution_count": null,
      "metadata": {
        "colab": {
          "base_uri": "https://localhost:8080/"
        },
        "id": "cmVbf0hyn2Jg",
        "outputId": "0f86beef-fcd0-4493-de7b-56c00e103b39"
      },
      "outputs": [
        {
          "name": "stdout",
          "output_type": "stream",
          "text": [
            "Archive:  /content/drive/MyDrive/Kaggle/Dataset/book-recommendation-dataset.zip\n",
            "  inflating: /content/drive/MyDrive/Kaggle/Dataset/Books.csv  \n",
            "  inflating: /content/drive/MyDrive/Kaggle/Dataset/DeepRec.png  \n",
            "  inflating: /content/drive/MyDrive/Kaggle/Dataset/Ratings.csv  \n",
            "  inflating: /content/drive/MyDrive/Kaggle/Dataset/Users.csv  \n",
            "  inflating: /content/drive/MyDrive/Kaggle/Dataset/classicRec.png  \n",
            "  inflating: /content/drive/MyDrive/Kaggle/Dataset/recsys_taxonomy2.png  \n"
          ]
        }
      ],
      "source": [
        "# Unzip dataset\n",
        "!unzip /content/drive/MyDrive/Kaggle/Dataset/book-recommendation-dataset.zip -d /content/drive/MyDrive/Kaggle/Dataset"
      ]
    },
    {
      "cell_type": "markdown",
      "metadata": {
        "id": "UQv5blU4peNQ"
      },
      "source": [
        "Selanjutnya mari kita baca file Books.csv, rating.csv dan users.csv, lalu lihat berapa data yang ada dalam file tersebut. Data books.csv memiliki terlalu banyak data yang dapat membuat crash pada notebook, maka kita akan menggunakan sebagian data saja dengan mengambil 85.000 data acak dan 5 kolom saja."
      ]
    },
    {
      "cell_type": "code",
      "execution_count": 2,
      "metadata": {
        "colab": {
          "base_uri": "https://localhost:8080/"
        },
        "id": "r3CcG4npqIPp",
        "outputId": "cd7f392d-08dd-4c6e-84de-091f9598a25a"
      },
      "outputs": [
        {
          "name": "stderr",
          "output_type": "stream",
          "text": [
            "<ipython-input-2-6bbee0778be7>:2: DtypeWarning: Columns (3) have mixed types. Specify dtype option on import or set low_memory=False.\n",
            "  books = pd.read_csv('/content/drive/MyDrive/Kaggle/Dataset/Books.csv', usecols=cols)\n"
          ]
        },
        {
          "name": "stdout",
          "output_type": "stream",
          "text": [
            "Books: (271360, 5)\n",
            "Rating: (1149780, 3)\n",
            "Users: (278858, 3)\n"
          ]
        }
      ],
      "source": [
        "cols = ['ISBN', 'Book-Title', 'Book-Author', 'Year-Of-Publication', 'Publisher']\n",
        "books = pd.read_csv('/content/drive/MyDrive/Kaggle/Dataset/Books.csv', usecols=cols)\n",
        "ratings = pd.read_csv('/content/drive/MyDrive/Kaggle/Dataset/Ratings.csv')\n",
        "users = pd.read_csv('/content/drive/MyDrive/Kaggle/Dataset/Users.csv')\n",
        "\n",
        "print(f'Books: {books.shape}')\n",
        "print(f'Rating: {ratings.shape}')\n",
        "print(f'Users: {users.shape}')"
      ]
    },
    {
      "cell_type": "markdown",
      "metadata": {
        "id": "-1auuGduqp9Y"
      },
      "source": [
        "File Books.csv memiliki 271.360 baris dan 5 kolom, file ratings.csv memiliki 1.149.780 baris dan 3 kolom, dan file users.csv memiliki 278.858 baris dan 3 kolom."
      ]
    },
    {
      "cell_type": "markdown",
      "metadata": {
        "id": "sJglPSnFrAF4"
      },
      "source": [
        "## Univariate Exploratory Data Analysis"
      ]
    },
    {
      "cell_type": "markdown",
      "metadata": {
        "id": "BRo_XL8HrFXg"
      },
      "source": [
        "Mari kita telusuri lebih dalam 3 file tersebut untuk memahami lebih lanjut apa yang disediakan dataset dan bagaimana kondisinya"
      ]
    },
    {
      "cell_type": "markdown",
      "metadata": {
        "id": "uO8Nj2VGrXsg"
      },
      "source": [
        "### Books.csv"
      ]
    },
    {
      "cell_type": "code",
      "execution_count": 20,
      "metadata": {
        "colab": {
          "base_uri": "https://localhost:8080/"
        },
        "id": "kaDbLwngrC7B",
        "outputId": "7831c376-28fa-469e-851e-795deff9b731"
      },
      "outputs": [
        {
          "name": "stdout",
          "output_type": "stream",
          "text": [
            "<class 'pandas.core.frame.DataFrame'>\n",
            "RangeIndex: 271360 entries, 0 to 271359\n",
            "Data columns (total 5 columns):\n",
            " #   Column               Non-Null Count   Dtype \n",
            "---  ------               --------------   ----- \n",
            " 0   ISBN                 271360 non-null  object\n",
            " 1   Book-Title           271360 non-null  object\n",
            " 2   Book-Author          271358 non-null  object\n",
            " 3   Year-Of-Publication  271360 non-null  object\n",
            " 4   Publisher            271358 non-null  object\n",
            "dtypes: object(5)\n",
            "memory usage: 10.4+ MB\n"
          ]
        }
      ],
      "source": [
        "books.info()"
      ]
    },
    {
      "cell_type": "code",
      "execution_count": 21,
      "metadata": {
        "colab": {
          "base_uri": "https://localhost:8080/",
          "height": 175
        },
        "id": "KFRtEj3JriTo",
        "outputId": "2976720f-ea21-4e77-bdac-16ea8738c1f6"
      },
      "outputs": [
        {
          "data": {
            "application/vnd.google.colaboratory.intrinsic+json": {
              "summary": "{\n  \"name\": \"books\",\n  \"rows\": 4,\n  \"fields\": [\n    {\n      \"column\": \"ISBN\",\n      \"properties\": {\n        \"dtype\": \"string\",\n        \"num_unique_values\": 3,\n        \"samples\": [\n          \"271360\",\n          \"0195153448\",\n          \"1\"\n        ],\n        \"semantic_type\": \"\",\n        \"description\": \"\"\n      }\n    },\n    {\n      \"column\": \"Book-Title\",\n      \"properties\": {\n        \"dtype\": \"string\",\n        \"num_unique_values\": 4,\n        \"samples\": [\n          242135,\n          \"27\",\n          \"271360\"\n        ],\n        \"semantic_type\": \"\",\n        \"description\": \"\"\n      }\n    },\n    {\n      \"column\": \"Book-Author\",\n      \"properties\": {\n        \"dtype\": \"string\",\n        \"num_unique_values\": 4,\n        \"samples\": [\n          102022,\n          \"632\",\n          \"271358\"\n        ],\n        \"semantic_type\": \"\",\n        \"description\": \"\"\n      }\n    },\n    {\n      \"column\": \"Year-Of-Publication\",\n      \"properties\": {\n        \"dtype\": \"number\",\n        \"std\": 133134,\n        \"min\": 202,\n        \"max\": 271360,\n        \"num_unique_values\": 4,\n        \"samples\": [\n          202,\n          13903,\n          271360\n        ],\n        \"semantic_type\": \"\",\n        \"description\": \"\"\n      }\n    },\n    {\n      \"column\": \"Publisher\",\n      \"properties\": {\n        \"dtype\": \"string\",\n        \"num_unique_values\": 4,\n        \"samples\": [\n          16807,\n          \"7535\",\n          \"271358\"\n        ],\n        \"semantic_type\": \"\",\n        \"description\": \"\"\n      }\n    }\n  ]\n}",
              "type": "dataframe"
            },
            "text/html": [
              "\n",
              "  <div id=\"df-b32c669d-429a-43c5-a562-47a08e257337\" class=\"colab-df-container\">\n",
              "    <div>\n",
              "<style scoped>\n",
              "    .dataframe tbody tr th:only-of-type {\n",
              "        vertical-align: middle;\n",
              "    }\n",
              "\n",
              "    .dataframe tbody tr th {\n",
              "        vertical-align: top;\n",
              "    }\n",
              "\n",
              "    .dataframe thead th {\n",
              "        text-align: right;\n",
              "    }\n",
              "</style>\n",
              "<table border=\"1\" class=\"dataframe\">\n",
              "  <thead>\n",
              "    <tr style=\"text-align: right;\">\n",
              "      <th></th>\n",
              "      <th>ISBN</th>\n",
              "      <th>Book-Title</th>\n",
              "      <th>Book-Author</th>\n",
              "      <th>Year-Of-Publication</th>\n",
              "      <th>Publisher</th>\n",
              "    </tr>\n",
              "  </thead>\n",
              "  <tbody>\n",
              "    <tr>\n",
              "      <th>count</th>\n",
              "      <td>271360</td>\n",
              "      <td>271360</td>\n",
              "      <td>271358</td>\n",
              "      <td>271360</td>\n",
              "      <td>271358</td>\n",
              "    </tr>\n",
              "    <tr>\n",
              "      <th>unique</th>\n",
              "      <td>271360</td>\n",
              "      <td>242135</td>\n",
              "      <td>102022</td>\n",
              "      <td>202</td>\n",
              "      <td>16807</td>\n",
              "    </tr>\n",
              "    <tr>\n",
              "      <th>top</th>\n",
              "      <td>0195153448</td>\n",
              "      <td>Selected Poems</td>\n",
              "      <td>Agatha Christie</td>\n",
              "      <td>2002</td>\n",
              "      <td>Harlequin</td>\n",
              "    </tr>\n",
              "    <tr>\n",
              "      <th>freq</th>\n",
              "      <td>1</td>\n",
              "      <td>27</td>\n",
              "      <td>632</td>\n",
              "      <td>13903</td>\n",
              "      <td>7535</td>\n",
              "    </tr>\n",
              "  </tbody>\n",
              "</table>\n",
              "</div>\n",
              "    <div class=\"colab-df-buttons\">\n",
              "\n",
              "  <div class=\"colab-df-container\">\n",
              "    <button class=\"colab-df-convert\" onclick=\"convertToInteractive('df-b32c669d-429a-43c5-a562-47a08e257337')\"\n",
              "            title=\"Convert this dataframe to an interactive table.\"\n",
              "            style=\"display:none;\">\n",
              "\n",
              "  <svg xmlns=\"http://www.w3.org/2000/svg\" height=\"24px\" viewBox=\"0 -960 960 960\">\n",
              "    <path d=\"M120-120v-720h720v720H120Zm60-500h600v-160H180v160Zm220 220h160v-160H400v160Zm0 220h160v-160H400v160ZM180-400h160v-160H180v160Zm440 0h160v-160H620v160ZM180-180h160v-160H180v160Zm440 0h160v-160H620v160Z\"/>\n",
              "  </svg>\n",
              "    </button>\n",
              "\n",
              "  <style>\n",
              "    .colab-df-container {\n",
              "      display:flex;\n",
              "      gap: 12px;\n",
              "    }\n",
              "\n",
              "    .colab-df-convert {\n",
              "      background-color: #E8F0FE;\n",
              "      border: none;\n",
              "      border-radius: 50%;\n",
              "      cursor: pointer;\n",
              "      display: none;\n",
              "      fill: #1967D2;\n",
              "      height: 32px;\n",
              "      padding: 0 0 0 0;\n",
              "      width: 32px;\n",
              "    }\n",
              "\n",
              "    .colab-df-convert:hover {\n",
              "      background-color: #E2EBFA;\n",
              "      box-shadow: 0px 1px 2px rgba(60, 64, 67, 0.3), 0px 1px 3px 1px rgba(60, 64, 67, 0.15);\n",
              "      fill: #174EA6;\n",
              "    }\n",
              "\n",
              "    .colab-df-buttons div {\n",
              "      margin-bottom: 4px;\n",
              "    }\n",
              "\n",
              "    [theme=dark] .colab-df-convert {\n",
              "      background-color: #3B4455;\n",
              "      fill: #D2E3FC;\n",
              "    }\n",
              "\n",
              "    [theme=dark] .colab-df-convert:hover {\n",
              "      background-color: #434B5C;\n",
              "      box-shadow: 0px 1px 3px 1px rgba(0, 0, 0, 0.15);\n",
              "      filter: drop-shadow(0px 1px 2px rgba(0, 0, 0, 0.3));\n",
              "      fill: #FFFFFF;\n",
              "    }\n",
              "  </style>\n",
              "\n",
              "    <script>\n",
              "      const buttonEl =\n",
              "        document.querySelector('#df-b32c669d-429a-43c5-a562-47a08e257337 button.colab-df-convert');\n",
              "      buttonEl.style.display =\n",
              "        google.colab.kernel.accessAllowed ? 'block' : 'none';\n",
              "\n",
              "      async function convertToInteractive(key) {\n",
              "        const element = document.querySelector('#df-b32c669d-429a-43c5-a562-47a08e257337');\n",
              "        const dataTable =\n",
              "          await google.colab.kernel.invokeFunction('convertToInteractive',\n",
              "                                                    [key], {});\n",
              "        if (!dataTable) return;\n",
              "\n",
              "        const docLinkHtml = 'Like what you see? Visit the ' +\n",
              "          '<a target=\"_blank\" href=https://colab.research.google.com/notebooks/data_table.ipynb>data table notebook</a>'\n",
              "          + ' to learn more about interactive tables.';\n",
              "        element.innerHTML = '';\n",
              "        dataTable['output_type'] = 'display_data';\n",
              "        await google.colab.output.renderOutput(dataTable, element);\n",
              "        const docLink = document.createElement('div');\n",
              "        docLink.innerHTML = docLinkHtml;\n",
              "        element.appendChild(docLink);\n",
              "      }\n",
              "    </script>\n",
              "  </div>\n",
              "\n",
              "\n",
              "<div id=\"df-ff7f0b72-d44b-46ff-b13c-6db682dde844\">\n",
              "  <button class=\"colab-df-quickchart\" onclick=\"quickchart('df-ff7f0b72-d44b-46ff-b13c-6db682dde844')\"\n",
              "            title=\"Suggest charts\"\n",
              "            style=\"display:none;\">\n",
              "\n",
              "<svg xmlns=\"http://www.w3.org/2000/svg\" height=\"24px\"viewBox=\"0 0 24 24\"\n",
              "     width=\"24px\">\n",
              "    <g>\n",
              "        <path d=\"M19 3H5c-1.1 0-2 .9-2 2v14c0 1.1.9 2 2 2h14c1.1 0 2-.9 2-2V5c0-1.1-.9-2-2-2zM9 17H7v-7h2v7zm4 0h-2V7h2v10zm4 0h-2v-4h2v4z\"/>\n",
              "    </g>\n",
              "</svg>\n",
              "  </button>\n",
              "\n",
              "<style>\n",
              "  .colab-df-quickchart {\n",
              "      --bg-color: #E8F0FE;\n",
              "      --fill-color: #1967D2;\n",
              "      --hover-bg-color: #E2EBFA;\n",
              "      --hover-fill-color: #174EA6;\n",
              "      --disabled-fill-color: #AAA;\n",
              "      --disabled-bg-color: #DDD;\n",
              "  }\n",
              "\n",
              "  [theme=dark] .colab-df-quickchart {\n",
              "      --bg-color: #3B4455;\n",
              "      --fill-color: #D2E3FC;\n",
              "      --hover-bg-color: #434B5C;\n",
              "      --hover-fill-color: #FFFFFF;\n",
              "      --disabled-bg-color: #3B4455;\n",
              "      --disabled-fill-color: #666;\n",
              "  }\n",
              "\n",
              "  .colab-df-quickchart {\n",
              "    background-color: var(--bg-color);\n",
              "    border: none;\n",
              "    border-radius: 50%;\n",
              "    cursor: pointer;\n",
              "    display: none;\n",
              "    fill: var(--fill-color);\n",
              "    height: 32px;\n",
              "    padding: 0;\n",
              "    width: 32px;\n",
              "  }\n",
              "\n",
              "  .colab-df-quickchart:hover {\n",
              "    background-color: var(--hover-bg-color);\n",
              "    box-shadow: 0 1px 2px rgba(60, 64, 67, 0.3), 0 1px 3px 1px rgba(60, 64, 67, 0.15);\n",
              "    fill: var(--button-hover-fill-color);\n",
              "  }\n",
              "\n",
              "  .colab-df-quickchart-complete:disabled,\n",
              "  .colab-df-quickchart-complete:disabled:hover {\n",
              "    background-color: var(--disabled-bg-color);\n",
              "    fill: var(--disabled-fill-color);\n",
              "    box-shadow: none;\n",
              "  }\n",
              "\n",
              "  .colab-df-spinner {\n",
              "    border: 2px solid var(--fill-color);\n",
              "    border-color: transparent;\n",
              "    border-bottom-color: var(--fill-color);\n",
              "    animation:\n",
              "      spin 1s steps(1) infinite;\n",
              "  }\n",
              "\n",
              "  @keyframes spin {\n",
              "    0% {\n",
              "      border-color: transparent;\n",
              "      border-bottom-color: var(--fill-color);\n",
              "      border-left-color: var(--fill-color);\n",
              "    }\n",
              "    20% {\n",
              "      border-color: transparent;\n",
              "      border-left-color: var(--fill-color);\n",
              "      border-top-color: var(--fill-color);\n",
              "    }\n",
              "    30% {\n",
              "      border-color: transparent;\n",
              "      border-left-color: var(--fill-color);\n",
              "      border-top-color: var(--fill-color);\n",
              "      border-right-color: var(--fill-color);\n",
              "    }\n",
              "    40% {\n",
              "      border-color: transparent;\n",
              "      border-right-color: var(--fill-color);\n",
              "      border-top-color: var(--fill-color);\n",
              "    }\n",
              "    60% {\n",
              "      border-color: transparent;\n",
              "      border-right-color: var(--fill-color);\n",
              "    }\n",
              "    80% {\n",
              "      border-color: transparent;\n",
              "      border-right-color: var(--fill-color);\n",
              "      border-bottom-color: var(--fill-color);\n",
              "    }\n",
              "    90% {\n",
              "      border-color: transparent;\n",
              "      border-bottom-color: var(--fill-color);\n",
              "    }\n",
              "  }\n",
              "</style>\n",
              "\n",
              "  <script>\n",
              "    async function quickchart(key) {\n",
              "      const quickchartButtonEl =\n",
              "        document.querySelector('#' + key + ' button');\n",
              "      quickchartButtonEl.disabled = true;  // To prevent multiple clicks.\n",
              "      quickchartButtonEl.classList.add('colab-df-spinner');\n",
              "      try {\n",
              "        const charts = await google.colab.kernel.invokeFunction(\n",
              "            'suggestCharts', [key], {});\n",
              "      } catch (error) {\n",
              "        console.error('Error during call to suggestCharts:', error);\n",
              "      }\n",
              "      quickchartButtonEl.classList.remove('colab-df-spinner');\n",
              "      quickchartButtonEl.classList.add('colab-df-quickchart-complete');\n",
              "    }\n",
              "    (() => {\n",
              "      let quickchartButtonEl =\n",
              "        document.querySelector('#df-ff7f0b72-d44b-46ff-b13c-6db682dde844 button');\n",
              "      quickchartButtonEl.style.display =\n",
              "        google.colab.kernel.accessAllowed ? 'block' : 'none';\n",
              "    })();\n",
              "  </script>\n",
              "</div>\n",
              "\n",
              "    </div>\n",
              "  </div>\n"
            ],
            "text/plain": [
              "              ISBN      Book-Title      Book-Author  Year-Of-Publication  \\\n",
              "count       271360          271360           271358               271360   \n",
              "unique      271360          242135           102022                  202   \n",
              "top     0195153448  Selected Poems  Agatha Christie                 2002   \n",
              "freq             1              27              632                13903   \n",
              "\n",
              "        Publisher  \n",
              "count      271358  \n",
              "unique      16807  \n",
              "top     Harlequin  \n",
              "freq         7535  "
            ]
          },
          "execution_count": 21,
          "metadata": {},
          "output_type": "execute_result"
        }
      ],
      "source": [
        "books.describe()"
      ]
    },
    {
      "cell_type": "markdown",
      "metadata": {
        "id": "LZHKseppuj2S"
      },
      "source": [
        "Hasil ini menunjukan bahwa terdapat 271.360 buku yang terdaftar dalam dataset dengan top author adalah `Agatha Christie` dan Publisher `Harlequin`. Berikut adalah 5 data pertama dari file books.csv:"
      ]
    },
    {
      "cell_type": "code",
      "execution_count": 22,
      "metadata": {
        "colab": {
          "base_uri": "https://localhost:8080/",
          "height": 206
        },
        "id": "Te0CeWjdrk-Y",
        "outputId": "a76c8ce9-5150-47ee-fea8-0793a676bd47"
      },
      "outputs": [
        {
          "data": {
            "application/vnd.google.colaboratory.intrinsic+json": {
              "type": "dataframe",
              "variable_name": "books"
            },
            "text/html": [
              "\n",
              "  <div id=\"df-87115f67-4dca-4b2b-9754-6e5ae31bf2d0\" class=\"colab-df-container\">\n",
              "    <div>\n",
              "<style scoped>\n",
              "    .dataframe tbody tr th:only-of-type {\n",
              "        vertical-align: middle;\n",
              "    }\n",
              "\n",
              "    .dataframe tbody tr th {\n",
              "        vertical-align: top;\n",
              "    }\n",
              "\n",
              "    .dataframe thead th {\n",
              "        text-align: right;\n",
              "    }\n",
              "</style>\n",
              "<table border=\"1\" class=\"dataframe\">\n",
              "  <thead>\n",
              "    <tr style=\"text-align: right;\">\n",
              "      <th></th>\n",
              "      <th>ISBN</th>\n",
              "      <th>Book-Title</th>\n",
              "      <th>Book-Author</th>\n",
              "      <th>Year-Of-Publication</th>\n",
              "      <th>Publisher</th>\n",
              "    </tr>\n",
              "  </thead>\n",
              "  <tbody>\n",
              "    <tr>\n",
              "      <th>0</th>\n",
              "      <td>0195153448</td>\n",
              "      <td>Classical Mythology</td>\n",
              "      <td>Mark P. O. Morford</td>\n",
              "      <td>2002</td>\n",
              "      <td>Oxford University Press</td>\n",
              "    </tr>\n",
              "    <tr>\n",
              "      <th>1</th>\n",
              "      <td>0002005018</td>\n",
              "      <td>Clara Callan</td>\n",
              "      <td>Richard Bruce Wright</td>\n",
              "      <td>2001</td>\n",
              "      <td>HarperFlamingo Canada</td>\n",
              "    </tr>\n",
              "    <tr>\n",
              "      <th>2</th>\n",
              "      <td>0060973129</td>\n",
              "      <td>Decision in Normandy</td>\n",
              "      <td>Carlo D'Este</td>\n",
              "      <td>1991</td>\n",
              "      <td>HarperPerennial</td>\n",
              "    </tr>\n",
              "    <tr>\n",
              "      <th>3</th>\n",
              "      <td>0374157065</td>\n",
              "      <td>Flu: The Story of the Great Influenza Pandemic...</td>\n",
              "      <td>Gina Bari Kolata</td>\n",
              "      <td>1999</td>\n",
              "      <td>Farrar Straus Giroux</td>\n",
              "    </tr>\n",
              "    <tr>\n",
              "      <th>4</th>\n",
              "      <td>0393045218</td>\n",
              "      <td>The Mummies of Urumchi</td>\n",
              "      <td>E. J. W. Barber</td>\n",
              "      <td>1999</td>\n",
              "      <td>W. W. Norton &amp;amp; Company</td>\n",
              "    </tr>\n",
              "  </tbody>\n",
              "</table>\n",
              "</div>\n",
              "    <div class=\"colab-df-buttons\">\n",
              "\n",
              "  <div class=\"colab-df-container\">\n",
              "    <button class=\"colab-df-convert\" onclick=\"convertToInteractive('df-87115f67-4dca-4b2b-9754-6e5ae31bf2d0')\"\n",
              "            title=\"Convert this dataframe to an interactive table.\"\n",
              "            style=\"display:none;\">\n",
              "\n",
              "  <svg xmlns=\"http://www.w3.org/2000/svg\" height=\"24px\" viewBox=\"0 -960 960 960\">\n",
              "    <path d=\"M120-120v-720h720v720H120Zm60-500h600v-160H180v160Zm220 220h160v-160H400v160Zm0 220h160v-160H400v160ZM180-400h160v-160H180v160Zm440 0h160v-160H620v160ZM180-180h160v-160H180v160Zm440 0h160v-160H620v160Z\"/>\n",
              "  </svg>\n",
              "    </button>\n",
              "\n",
              "  <style>\n",
              "    .colab-df-container {\n",
              "      display:flex;\n",
              "      gap: 12px;\n",
              "    }\n",
              "\n",
              "    .colab-df-convert {\n",
              "      background-color: #E8F0FE;\n",
              "      border: none;\n",
              "      border-radius: 50%;\n",
              "      cursor: pointer;\n",
              "      display: none;\n",
              "      fill: #1967D2;\n",
              "      height: 32px;\n",
              "      padding: 0 0 0 0;\n",
              "      width: 32px;\n",
              "    }\n",
              "\n",
              "    .colab-df-convert:hover {\n",
              "      background-color: #E2EBFA;\n",
              "      box-shadow: 0px 1px 2px rgba(60, 64, 67, 0.3), 0px 1px 3px 1px rgba(60, 64, 67, 0.15);\n",
              "      fill: #174EA6;\n",
              "    }\n",
              "\n",
              "    .colab-df-buttons div {\n",
              "      margin-bottom: 4px;\n",
              "    }\n",
              "\n",
              "    [theme=dark] .colab-df-convert {\n",
              "      background-color: #3B4455;\n",
              "      fill: #D2E3FC;\n",
              "    }\n",
              "\n",
              "    [theme=dark] .colab-df-convert:hover {\n",
              "      background-color: #434B5C;\n",
              "      box-shadow: 0px 1px 3px 1px rgba(0, 0, 0, 0.15);\n",
              "      filter: drop-shadow(0px 1px 2px rgba(0, 0, 0, 0.3));\n",
              "      fill: #FFFFFF;\n",
              "    }\n",
              "  </style>\n",
              "\n",
              "    <script>\n",
              "      const buttonEl =\n",
              "        document.querySelector('#df-87115f67-4dca-4b2b-9754-6e5ae31bf2d0 button.colab-df-convert');\n",
              "      buttonEl.style.display =\n",
              "        google.colab.kernel.accessAllowed ? 'block' : 'none';\n",
              "\n",
              "      async function convertToInteractive(key) {\n",
              "        const element = document.querySelector('#df-87115f67-4dca-4b2b-9754-6e5ae31bf2d0');\n",
              "        const dataTable =\n",
              "          await google.colab.kernel.invokeFunction('convertToInteractive',\n",
              "                                                    [key], {});\n",
              "        if (!dataTable) return;\n",
              "\n",
              "        const docLinkHtml = 'Like what you see? Visit the ' +\n",
              "          '<a target=\"_blank\" href=https://colab.research.google.com/notebooks/data_table.ipynb>data table notebook</a>'\n",
              "          + ' to learn more about interactive tables.';\n",
              "        element.innerHTML = '';\n",
              "        dataTable['output_type'] = 'display_data';\n",
              "        await google.colab.output.renderOutput(dataTable, element);\n",
              "        const docLink = document.createElement('div');\n",
              "        docLink.innerHTML = docLinkHtml;\n",
              "        element.appendChild(docLink);\n",
              "      }\n",
              "    </script>\n",
              "  </div>\n",
              "\n",
              "\n",
              "<div id=\"df-61be0ecc-cc01-4d77-aecc-ef029bfb5f52\">\n",
              "  <button class=\"colab-df-quickchart\" onclick=\"quickchart('df-61be0ecc-cc01-4d77-aecc-ef029bfb5f52')\"\n",
              "            title=\"Suggest charts\"\n",
              "            style=\"display:none;\">\n",
              "\n",
              "<svg xmlns=\"http://www.w3.org/2000/svg\" height=\"24px\"viewBox=\"0 0 24 24\"\n",
              "     width=\"24px\">\n",
              "    <g>\n",
              "        <path d=\"M19 3H5c-1.1 0-2 .9-2 2v14c0 1.1.9 2 2 2h14c1.1 0 2-.9 2-2V5c0-1.1-.9-2-2-2zM9 17H7v-7h2v7zm4 0h-2V7h2v10zm4 0h-2v-4h2v4z\"/>\n",
              "    </g>\n",
              "</svg>\n",
              "  </button>\n",
              "\n",
              "<style>\n",
              "  .colab-df-quickchart {\n",
              "      --bg-color: #E8F0FE;\n",
              "      --fill-color: #1967D2;\n",
              "      --hover-bg-color: #E2EBFA;\n",
              "      --hover-fill-color: #174EA6;\n",
              "      --disabled-fill-color: #AAA;\n",
              "      --disabled-bg-color: #DDD;\n",
              "  }\n",
              "\n",
              "  [theme=dark] .colab-df-quickchart {\n",
              "      --bg-color: #3B4455;\n",
              "      --fill-color: #D2E3FC;\n",
              "      --hover-bg-color: #434B5C;\n",
              "      --hover-fill-color: #FFFFFF;\n",
              "      --disabled-bg-color: #3B4455;\n",
              "      --disabled-fill-color: #666;\n",
              "  }\n",
              "\n",
              "  .colab-df-quickchart {\n",
              "    background-color: var(--bg-color);\n",
              "    border: none;\n",
              "    border-radius: 50%;\n",
              "    cursor: pointer;\n",
              "    display: none;\n",
              "    fill: var(--fill-color);\n",
              "    height: 32px;\n",
              "    padding: 0;\n",
              "    width: 32px;\n",
              "  }\n",
              "\n",
              "  .colab-df-quickchart:hover {\n",
              "    background-color: var(--hover-bg-color);\n",
              "    box-shadow: 0 1px 2px rgba(60, 64, 67, 0.3), 0 1px 3px 1px rgba(60, 64, 67, 0.15);\n",
              "    fill: var(--button-hover-fill-color);\n",
              "  }\n",
              "\n",
              "  .colab-df-quickchart-complete:disabled,\n",
              "  .colab-df-quickchart-complete:disabled:hover {\n",
              "    background-color: var(--disabled-bg-color);\n",
              "    fill: var(--disabled-fill-color);\n",
              "    box-shadow: none;\n",
              "  }\n",
              "\n",
              "  .colab-df-spinner {\n",
              "    border: 2px solid var(--fill-color);\n",
              "    border-color: transparent;\n",
              "    border-bottom-color: var(--fill-color);\n",
              "    animation:\n",
              "      spin 1s steps(1) infinite;\n",
              "  }\n",
              "\n",
              "  @keyframes spin {\n",
              "    0% {\n",
              "      border-color: transparent;\n",
              "      border-bottom-color: var(--fill-color);\n",
              "      border-left-color: var(--fill-color);\n",
              "    }\n",
              "    20% {\n",
              "      border-color: transparent;\n",
              "      border-left-color: var(--fill-color);\n",
              "      border-top-color: var(--fill-color);\n",
              "    }\n",
              "    30% {\n",
              "      border-color: transparent;\n",
              "      border-left-color: var(--fill-color);\n",
              "      border-top-color: var(--fill-color);\n",
              "      border-right-color: var(--fill-color);\n",
              "    }\n",
              "    40% {\n",
              "      border-color: transparent;\n",
              "      border-right-color: var(--fill-color);\n",
              "      border-top-color: var(--fill-color);\n",
              "    }\n",
              "    60% {\n",
              "      border-color: transparent;\n",
              "      border-right-color: var(--fill-color);\n",
              "    }\n",
              "    80% {\n",
              "      border-color: transparent;\n",
              "      border-right-color: var(--fill-color);\n",
              "      border-bottom-color: var(--fill-color);\n",
              "    }\n",
              "    90% {\n",
              "      border-color: transparent;\n",
              "      border-bottom-color: var(--fill-color);\n",
              "    }\n",
              "  }\n",
              "</style>\n",
              "\n",
              "  <script>\n",
              "    async function quickchart(key) {\n",
              "      const quickchartButtonEl =\n",
              "        document.querySelector('#' + key + ' button');\n",
              "      quickchartButtonEl.disabled = true;  // To prevent multiple clicks.\n",
              "      quickchartButtonEl.classList.add('colab-df-spinner');\n",
              "      try {\n",
              "        const charts = await google.colab.kernel.invokeFunction(\n",
              "            'suggestCharts', [key], {});\n",
              "      } catch (error) {\n",
              "        console.error('Error during call to suggestCharts:', error);\n",
              "      }\n",
              "      quickchartButtonEl.classList.remove('colab-df-spinner');\n",
              "      quickchartButtonEl.classList.add('colab-df-quickchart-complete');\n",
              "    }\n",
              "    (() => {\n",
              "      let quickchartButtonEl =\n",
              "        document.querySelector('#df-61be0ecc-cc01-4d77-aecc-ef029bfb5f52 button');\n",
              "      quickchartButtonEl.style.display =\n",
              "        google.colab.kernel.accessAllowed ? 'block' : 'none';\n",
              "    })();\n",
              "  </script>\n",
              "</div>\n",
              "\n",
              "    </div>\n",
              "  </div>\n"
            ],
            "text/plain": [
              "         ISBN                                         Book-Title  \\\n",
              "0  0195153448                                Classical Mythology   \n",
              "1  0002005018                                       Clara Callan   \n",
              "2  0060973129                               Decision in Normandy   \n",
              "3  0374157065  Flu: The Story of the Great Influenza Pandemic...   \n",
              "4  0393045218                             The Mummies of Urumchi   \n",
              "\n",
              "            Book-Author Year-Of-Publication                   Publisher  \n",
              "0    Mark P. O. Morford                2002     Oxford University Press  \n",
              "1  Richard Bruce Wright                2001       HarperFlamingo Canada  \n",
              "2          Carlo D'Este                1991             HarperPerennial  \n",
              "3      Gina Bari Kolata                1999        Farrar Straus Giroux  \n",
              "4       E. J. W. Barber                1999  W. W. Norton &amp; Company  "
            ]
          },
          "execution_count": 22,
          "metadata": {},
          "output_type": "execute_result"
        }
      ],
      "source": [
        "books.head()"
      ]
    },
    {
      "cell_type": "code",
      "execution_count": 23,
      "metadata": {
        "colab": {
          "base_uri": "https://localhost:8080/",
          "height": 241
        },
        "id": "WRcraqt-uVy-",
        "outputId": "00b9998d-62bf-4f91-8d95-dd747a7b99ce"
      },
      "outputs": [
        {
          "data": {
            "text/html": [
              "<div>\n",
              "<style scoped>\n",
              "    .dataframe tbody tr th:only-of-type {\n",
              "        vertical-align: middle;\n",
              "    }\n",
              "\n",
              "    .dataframe tbody tr th {\n",
              "        vertical-align: top;\n",
              "    }\n",
              "\n",
              "    .dataframe thead th {\n",
              "        text-align: right;\n",
              "    }\n",
              "</style>\n",
              "<table border=\"1\" class=\"dataframe\">\n",
              "  <thead>\n",
              "    <tr style=\"text-align: right;\">\n",
              "      <th></th>\n",
              "      <th>0</th>\n",
              "    </tr>\n",
              "  </thead>\n",
              "  <tbody>\n",
              "    <tr>\n",
              "      <th>ISBN</th>\n",
              "      <td>0</td>\n",
              "    </tr>\n",
              "    <tr>\n",
              "      <th>Book-Title</th>\n",
              "      <td>0</td>\n",
              "    </tr>\n",
              "    <tr>\n",
              "      <th>Book-Author</th>\n",
              "      <td>2</td>\n",
              "    </tr>\n",
              "    <tr>\n",
              "      <th>Year-Of-Publication</th>\n",
              "      <td>0</td>\n",
              "    </tr>\n",
              "    <tr>\n",
              "      <th>Publisher</th>\n",
              "      <td>2</td>\n",
              "    </tr>\n",
              "  </tbody>\n",
              "</table>\n",
              "</div><br><label><b>dtype:</b> int64</label>"
            ],
            "text/plain": [
              "ISBN                   0\n",
              "Book-Title             0\n",
              "Book-Author            2\n",
              "Year-Of-Publication    0\n",
              "Publisher              2\n",
              "dtype: int64"
            ]
          },
          "execution_count": 23,
          "metadata": {},
          "output_type": "execute_result"
        }
      ],
      "source": [
        "books.isnull().sum()"
      ]
    },
    {
      "cell_type": "markdown",
      "metadata": {},
      "source": [
        "Terdapat 4 buah missing values yaitu 2 pada kolom `Book-Author` dan 2 pada kolom `Publisher`."
      ]
    },
    {
      "cell_type": "code",
      "execution_count": 24,
      "metadata": {
        "colab": {
          "base_uri": "https://localhost:8080/"
        },
        "id": "j1zHOhXAuZUY",
        "outputId": "a03d9315-ec2c-4874-fa3b-9d5c7b4e438f"
      },
      "outputs": [
        {
          "data": {
            "text/plain": [
              "0"
            ]
          },
          "execution_count": 24,
          "metadata": {},
          "output_type": "execute_result"
        }
      ],
      "source": [
        "books.duplicated().sum()"
      ]
    },
    {
      "cell_type": "markdown",
      "metadata": {},
      "source": [
        "Tidak ada data duplikat pada file books.csv"
      ]
    },
    {
      "cell_type": "code",
      "execution_count": null,
      "metadata": {
        "colab": {
          "base_uri": "https://localhost:8080/"
        },
        "id": "cAhN13sMqPLn",
        "outputId": "7a857b52-89a3-49a7-9aad-21bd5dbe7abc"
      },
      "outputs": [
        {
          "name": "stdout",
          "output_type": "stream",
          "text": [
            "[2002 2001 1991 1999 2000 1993 1996 1988 2004 1998 1994 2003 1997 1983\n",
            " 1979 1995 1982 1985 1992 1986 1978 1980 1952 1987 1990 1981 1989 1984 0\n",
            " 1968 1961 1958 1974 1976 1971 1977 1975 1965 1941 1970 1962 1973 1972\n",
            " 1960 1966 1920 1956 1959 1953 1951 1942 1963 1964 1969 1954 1950 1967\n",
            " 2005 1957 1940 1937 1955 1946 1936 1930 2011 1925 1948 1943 1947 1945\n",
            " 1923 2020 1939 1926 1938 2030 1911 1904 1949 1932 1928 1929 1927 1931\n",
            " 1914 2050 1934 1910 1933 1902 1924 1921 1900 2038 2026 1944 1917 1901\n",
            " 2010 1908 1906 1935 1806 2021 '2000' '1995' '1999' '2004' '2003' '1990'\n",
            " '1994' '1986' '1989' '2002' '1981' '1993' '1983' '1982' '1976' '1991'\n",
            " '1977' '1998' '1992' '1996' '0' '1997' '2001' '1974' '1968' '1987' '1984'\n",
            " '1988' '1963' '1956' '1970' '1985' '1978' '1973' '1980' '1979' '1975'\n",
            " '1969' '1961' '1965' '1939' '1958' '1950' '1953' '1966' '1971' '1959'\n",
            " '1972' '1955' '1957' '1945' '1960' '1967' '1932' '1924' '1964' '2012'\n",
            " '1911' '1927' '1948' '1962' '2006' '1952' '1940' '1951' '1931' '1954'\n",
            " '2005' '1930' '1941' '1944' 'DK Publishing Inc' '1943' '1938' '1900'\n",
            " '1942' '1923' '1920' '1933' 'Gallimard' '1909' '1946' '2008' '1378'\n",
            " '2030' '1936' '1947' '2011' '2020' '1919' '1949' '1922' '1897' '2024'\n",
            " '1376' '1926' '2037']\n"
          ]
        }
      ],
      "source": [
        "# Check for unique values\n",
        "print(books['Year-Of-Publication'].unique())"
      ]
    },
    {
      "cell_type": "markdown",
      "metadata": {},
      "source": [
        "Berdasarkan hasil di atas, kita dapat melihat bahwa kolom `Year-Of-Publication` memiliki data yang tidak konsisten, seperti `0` dan `DK Publishing Inc`. Kita akan melakukan cleaning data pada kolom tersebut."
      ]
    },
    {
      "cell_type": "code",
      "execution_count": 26,
      "metadata": {
        "colab": {
          "base_uri": "https://localhost:8080/",
          "height": 458
        },
        "id": "flItT2FAtsI2",
        "outputId": "bee7dc1a-23f9-40ea-b1b0-b0b77be548c2"
      },
      "outputs": [
        {
          "data": {
            "text/html": [
              "<div>\n",
              "<style scoped>\n",
              "    .dataframe tbody tr th:only-of-type {\n",
              "        vertical-align: middle;\n",
              "    }\n",
              "\n",
              "    .dataframe tbody tr th {\n",
              "        vertical-align: top;\n",
              "    }\n",
              "\n",
              "    .dataframe thead th {\n",
              "        text-align: right;\n",
              "    }\n",
              "</style>\n",
              "<table border=\"1\" class=\"dataframe\">\n",
              "  <thead>\n",
              "    <tr style=\"text-align: right;\">\n",
              "      <th></th>\n",
              "      <th>Year-Of-Publication</th>\n",
              "    </tr>\n",
              "  </thead>\n",
              "  <tbody>\n",
              "    <tr>\n",
              "      <th>196656</th>\n",
              "      <td>0</td>\n",
              "    </tr>\n",
              "    <tr>\n",
              "      <th>196678</th>\n",
              "      <td>0</td>\n",
              "    </tr>\n",
              "    <tr>\n",
              "      <th>196680</th>\n",
              "      <td>0</td>\n",
              "    </tr>\n",
              "    <tr>\n",
              "      <th>196685</th>\n",
              "      <td>0</td>\n",
              "    </tr>\n",
              "    <tr>\n",
              "      <th>196734</th>\n",
              "      <td>0</td>\n",
              "    </tr>\n",
              "    <tr>\n",
              "      <th>...</th>\n",
              "      <td>...</td>\n",
              "    </tr>\n",
              "    <tr>\n",
              "      <th>261929</th>\n",
              "      <td>0</td>\n",
              "    </tr>\n",
              "    <tr>\n",
              "      <th>261930</th>\n",
              "      <td>0</td>\n",
              "    </tr>\n",
              "    <tr>\n",
              "      <th>261931</th>\n",
              "      <td>0</td>\n",
              "    </tr>\n",
              "    <tr>\n",
              "      <th>262120</th>\n",
              "      <td>0</td>\n",
              "    </tr>\n",
              "    <tr>\n",
              "      <th>262121</th>\n",
              "      <td>0</td>\n",
              "    </tr>\n",
              "  </tbody>\n",
              "</table>\n",
              "<p>1048 rows × 1 columns</p>\n",
              "</div><br><label><b>dtype:</b> object</label>"
            ],
            "text/plain": [
              "196656    0\n",
              "196678    0\n",
              "196680    0\n",
              "196685    0\n",
              "196734    0\n",
              "         ..\n",
              "261929    0\n",
              "261930    0\n",
              "261931    0\n",
              "262120    0\n",
              "262121    0\n",
              "Name: Year-Of-Publication, Length: 1048, dtype: object"
            ]
          },
          "execution_count": 26,
          "metadata": {},
          "output_type": "execute_result"
        }
      ],
      "source": [
        "books['Year-Of-Publication'][books['Year-Of-Publication'] == '0']"
      ]
    },
    {
      "cell_type": "markdown",
      "metadata": {},
      "source": [
        "Terdapat 1048 baris yang memiliki nilai `0` pada kolom `Year-Of-Publication`, kita akan menghapusnya nanti."
      ]
    },
    {
      "cell_type": "code",
      "execution_count": 27,
      "metadata": {
        "colab": {
          "base_uri": "https://localhost:8080/",
          "height": 490
        },
        "id": "uBKZusVZtVsH",
        "outputId": "3da7eaad-06c2-48d8-eb88-736f2093586c"
      },
      "outputs": [
        {
          "data": {
            "text/html": [
              "<div>\n",
              "<style scoped>\n",
              "    .dataframe tbody tr th:only-of-type {\n",
              "        vertical-align: middle;\n",
              "    }\n",
              "\n",
              "    .dataframe tbody tr th {\n",
              "        vertical-align: top;\n",
              "    }\n",
              "\n",
              "    .dataframe thead th {\n",
              "        text-align: right;\n",
              "    }\n",
              "</style>\n",
              "<table border=\"1\" class=\"dataframe\">\n",
              "  <thead>\n",
              "    <tr style=\"text-align: right;\">\n",
              "      <th></th>\n",
              "      <th>count</th>\n",
              "    </tr>\n",
              "    <tr>\n",
              "      <th>Year-Of-Publication</th>\n",
              "      <th></th>\n",
              "    </tr>\n",
              "  </thead>\n",
              "  <tbody>\n",
              "    <tr>\n",
              "      <th>2002</th>\n",
              "      <td>13903</td>\n",
              "    </tr>\n",
              "    <tr>\n",
              "      <th>2001</th>\n",
              "      <td>13715</td>\n",
              "    </tr>\n",
              "    <tr>\n",
              "      <th>1999</th>\n",
              "      <td>13414</td>\n",
              "    </tr>\n",
              "    <tr>\n",
              "      <th>2000</th>\n",
              "      <td>13373</td>\n",
              "    </tr>\n",
              "    <tr>\n",
              "      <th>1998</th>\n",
              "      <td>12116</td>\n",
              "    </tr>\n",
              "    <tr>\n",
              "      <th>...</th>\n",
              "      <td>...</td>\n",
              "    </tr>\n",
              "    <tr>\n",
              "      <th>1924</th>\n",
              "      <td>1</td>\n",
              "    </tr>\n",
              "    <tr>\n",
              "      <th>2012</th>\n",
              "      <td>1</td>\n",
              "    </tr>\n",
              "    <tr>\n",
              "      <th>1927</th>\n",
              "      <td>1</td>\n",
              "    </tr>\n",
              "    <tr>\n",
              "      <th>1931</th>\n",
              "      <td>1</td>\n",
              "    </tr>\n",
              "    <tr>\n",
              "      <th>2037</th>\n",
              "      <td>1</td>\n",
              "    </tr>\n",
              "  </tbody>\n",
              "</table>\n",
              "<p>202 rows × 1 columns</p>\n",
              "</div><br><label><b>dtype:</b> int64</label>"
            ],
            "text/plain": [
              "Year-Of-Publication\n",
              "2002    13903\n",
              "2001    13715\n",
              "1999    13414\n",
              "2000    13373\n",
              "1998    12116\n",
              "        ...  \n",
              "1924        1\n",
              "2012        1\n",
              "1927        1\n",
              "1931        1\n",
              "2037        1\n",
              "Name: count, Length: 202, dtype: int64"
            ]
          },
          "execution_count": 27,
          "metadata": {},
          "output_type": "execute_result"
        }
      ],
      "source": [
        "books['Year-Of-Publication'].value_counts()"
      ]
    },
    {
      "cell_type": "markdown",
      "metadata": {
        "id": "fUWI8DiLwj96"
      },
      "source": [
        "Untuk memahami lebih dalam terkait file books.csv mari kita lihat distribusi data dengan melakukan visualisasi data. Agar kolom `Year-Of-Publication` dapat divisualisasikan, kita akan melakukan cleaning data terlebih dahulu dengan membuat copy dari dataframes books.csv."
      ]
    },
    {
      "cell_type": "code",
      "execution_count": 28,
      "metadata": {
        "id": "y5yvqi0OsuWH"
      },
      "outputs": [],
      "source": [
        "# buat copy agar dataframe utama tidak berubah\n",
        "books_eda = books.copy()\n",
        "\n",
        "# Menghapus data yang memiliki year of publication tidak valid\n",
        "books_eda[\"Year-Of-Publication\"] = pd.to_numeric(books[\"Year-Of-Publication\"], errors=\"coerce\")\n",
        "books_eda = books_eda.dropna(subset=[\"Year-Of-Publication\"])\n",
        "books_eda[\"Year-Of-Publication\"] = books_eda[\"Year-Of-Publication\"].astype(int)\n"
      ]
    },
    {
      "cell_type": "code",
      "execution_count": 29,
      "metadata": {
        "colab": {
          "base_uri": "https://localhost:8080/",
          "height": 487
        },
        "id": "scwroX3ywDWK",
        "outputId": "42bab116-3977-47da-b99c-4a27b35d0778"
      },
      "outputs": [
        {
          "data": {
            "image/png": "[encoded data removed]",
            "text/plain": [
              "<Figure size 1000x500 with 1 Axes>"
            ]
          },
          "metadata": {},
          "output_type": "display_data"
        }
      ],
      "source": [
        "plt.figure(figsize=(10, 5))\n",
        "sns.histplot(books_eda['Year-Of-Publication'], bins=50, kde=True)\n",
        "plt.xlabel(\"Year of Publication\")\n",
        "plt.ylabel(\"Count\")\n",
        "plt.title(\"Distribution of Book Publication Years\")\n",
        "plt.show()"
      ]
    },
    {
      "cell_type": "markdown",
      "metadata": {},
      "source": [
        "Distribusi data pada kolom `Year-Of-Publication` menunjukan rentang tahun yang jauh sekali, dengan konsentrasi data pada tahun 2000an."
      ]
    },
    {
      "cell_type": "code",
      "execution_count": 30,
      "metadata": {
        "colab": {
          "base_uri": "https://localhost:8080/",
          "height": 487
        },
        "id": "r-UnGE4Vr4vQ",
        "outputId": "b9ffe0b8-f443-41f5-a65e-c5e5fc3670de"
      },
      "outputs": [
        {
          "data": {
            "image/png": "[encoded data removed]",
            "text/plain": [
              "<Figure size 1000x500 with 1 Axes>"
            ]
          },
          "metadata": {},
          "output_type": "display_data"
        }
      ],
      "source": [
        "# Top 10 Publisher\n",
        "top_publishers = books_eda['Publisher'].value_counts().head(10)\n",
        "plt.figure(figsize=(10, 5))\n",
        "sns.barplot(x=top_publishers.values, y=top_publishers.index, palette=\"viridis\", hue=top_publishers.index)\n",
        "plt.xlabel(\"Number of Books\")\n",
        "plt.ylabel(\"Publisher\")\n",
        "plt.title(\"Top 10 Publishers by Number of Books\")\n",
        "\n",
        "for i, v in enumerate(top_publishers.values):\n",
        "    plt.text(v + 1, i, str(v), color='black', va='center')\n",
        "\n",
        "plt.show()"
      ]
    },
    {
      "cell_type": "markdown",
      "metadata": {},
      "source": [
        "Berdasarkan visualisasi data di atas, kita dapat melihat bahwa publisher `Harlequin` adalah publisher yang paling banyak menerbitkan buku dengan jumlah 7535 buku."
      ]
    },
    {
      "cell_type": "code",
      "execution_count": 31,
      "metadata": {
        "colab": {
          "base_uri": "https://localhost:8080/",
          "height": 487
        },
        "id": "yhfX8jzrrcrX",
        "outputId": "997c14c7-f21d-47d8-c0b8-c9cba004d81d"
      },
      "outputs": [
        {
          "data": {
            "image/png": "[encoded data removed]",
            "text/plain": [
              "<Figure size 1000x500 with 1 Axes>"
            ]
          },
          "metadata": {},
          "output_type": "display_data"
        }
      ],
      "source": [
        "# Top 10 Author\n",
        "top_authors = books_eda['Book-Author'].value_counts().head(10)\n",
        "plt.figure(figsize=(10, 5))\n",
        "sns.barplot(x=top_authors.values, y=top_authors.index, palette=\"viridis\", hue=top_authors.index)\n",
        "plt.xlabel(\"Number of Books\")\n",
        "plt.ylabel(\"Author\")\n",
        "plt.title(\"Top 10 Authors by Number of Books\")\n",
        "\n",
        "for i, v in enumerate(top_authors.values):\n",
        "    plt.text(v + 1, i, str(v), color='black', va='center')\n",
        "\n",
        "plt.show()\n"
      ]
    },
    {
      "cell_type": "markdown",
      "metadata": {},
      "source": [
        "Visualisasi data di atas menunjukkan bahwa author `Agatha Christie` adalah author yang paling banyak menerbitkan buku dengan jumlah 632 buku."
      ]
    },
    {
      "cell_type": "markdown",
      "metadata": {
        "id": "zf6j7i6UrZHw"
      },
      "source": [
        "### Ratings.CSV\n",
        "\n",
        "Selanjutnya mari kita eksplorasi file ratings.csv untuk memahami lebih dalam dataset tersebut"
      ]
    },
    {
      "cell_type": "code",
      "execution_count": 32,
      "metadata": {
        "colab": {
          "base_uri": "https://localhost:8080/"
        },
        "id": "Rl0Kc_SAzTES",
        "outputId": "2eaa4bfa-c045-4789-80d0-5fc04d7a8c03"
      },
      "outputs": [
        {
          "name": "stdout",
          "output_type": "stream",
          "text": [
            "<class 'pandas.core.frame.DataFrame'>\n",
            "RangeIndex: 1149780 entries, 0 to 1149779\n",
            "Data columns (total 3 columns):\n",
            " #   Column       Non-Null Count    Dtype \n",
            "---  ------       --------------    ----- \n",
            " 0   User-ID      1149780 non-null  int64 \n",
            " 1   ISBN         1149780 non-null  object\n",
            " 2   Book-Rating  1149780 non-null  int64 \n",
            "dtypes: int64(2), object(1)\n",
            "memory usage: 26.3+ MB\n"
          ]
        }
      ],
      "source": [
        "ratings.info()"
      ]
    },
    {
      "cell_type": "markdown",
      "metadata": {
        "id": "pvro20OS0efq"
      },
      "source": [
        "File rating.csv memiliki size 26.3 MB dan terdapat 1.149.780 data rating buku yang diberikan oleh user."
      ]
    },
    {
      "cell_type": "code",
      "execution_count": 33,
      "metadata": {
        "colab": {
          "base_uri": "https://localhost:8080/",
          "height": 300
        },
        "id": "o88WUZ5EzYbK",
        "outputId": "cf894fed-67c6-497c-fe42-eafa74216143"
      },
      "outputs": [
        {
          "data": {
            "application/vnd.google.colaboratory.intrinsic+json": {
              "summary": "{\n  \"name\": \"ratings\",\n  \"rows\": 8,\n  \"fields\": [\n    {\n      \"column\": \"User-ID\",\n      \"properties\": {\n        \"dtype\": \"number\",\n        \"std\": 370074.5144065263,\n        \"min\": 2.0,\n        \"max\": 1149780.0,\n        \"num_unique_values\": 8,\n        \"samples\": [\n          140386.39512602412,\n          141010.0,\n          1149780.0\n        ],\n        \"semantic_type\": \"\",\n        \"description\": \"\"\n      }\n    },\n    {\n      \"column\": \"Book-Rating\",\n      \"properties\": {\n        \"dtype\": \"number\",\n        \"std\": 406507.41935424885,\n        \"min\": 0.0,\n        \"max\": 1149780.0,\n        \"num_unique_values\": 6,\n        \"samples\": [\n          1149780.0,\n          2.8669501991685364,\n          10.0\n        ],\n        \"semantic_type\": \"\",\n        \"description\": \"\"\n      }\n    }\n  ]\n}",
              "type": "dataframe"
            },
            "text/html": [
              "\n",
              "  <div id=\"df-2c1aa49f-6737-4039-952e-239f170ecdaa\" class=\"colab-df-container\">\n",
              "    <div>\n",
              "<style scoped>\n",
              "    .dataframe tbody tr th:only-of-type {\n",
              "        vertical-align: middle;\n",
              "    }\n",
              "\n",
              "    .dataframe tbody tr th {\n",
              "        vertical-align: top;\n",
              "    }\n",
              "\n",
              "    .dataframe thead th {\n",
              "        text-align: right;\n",
              "    }\n",
              "</style>\n",
              "<table border=\"1\" class=\"dataframe\">\n",
              "  <thead>\n",
              "    <tr style=\"text-align: right;\">\n",
              "      <th></th>\n",
              "      <th>User-ID</th>\n",
              "      <th>Book-Rating</th>\n",
              "    </tr>\n",
              "  </thead>\n",
              "  <tbody>\n",
              "    <tr>\n",
              "      <th>count</th>\n",
              "      <td>1.149780e+06</td>\n",
              "      <td>1.149780e+06</td>\n",
              "    </tr>\n",
              "    <tr>\n",
              "      <th>mean</th>\n",
              "      <td>1.403864e+05</td>\n",
              "      <td>2.866950e+00</td>\n",
              "    </tr>\n",
              "    <tr>\n",
              "      <th>std</th>\n",
              "      <td>8.056228e+04</td>\n",
              "      <td>3.854184e+00</td>\n",
              "    </tr>\n",
              "    <tr>\n",
              "      <th>min</th>\n",
              "      <td>2.000000e+00</td>\n",
              "      <td>0.000000e+00</td>\n",
              "    </tr>\n",
              "    <tr>\n",
              "      <th>25%</th>\n",
              "      <td>7.034500e+04</td>\n",
              "      <td>0.000000e+00</td>\n",
              "    </tr>\n",
              "    <tr>\n",
              "      <th>50%</th>\n",
              "      <td>1.410100e+05</td>\n",
              "      <td>0.000000e+00</td>\n",
              "    </tr>\n",
              "    <tr>\n",
              "      <th>75%</th>\n",
              "      <td>2.110280e+05</td>\n",
              "      <td>7.000000e+00</td>\n",
              "    </tr>\n",
              "    <tr>\n",
              "      <th>max</th>\n",
              "      <td>2.788540e+05</td>\n",
              "      <td>1.000000e+01</td>\n",
              "    </tr>\n",
              "  </tbody>\n",
              "</table>\n",
              "</div>\n",
              "    <div class=\"colab-df-buttons\">\n",
              "\n",
              "  <div class=\"colab-df-container\">\n",
              "    <button class=\"colab-df-convert\" onclick=\"convertToInteractive('df-2c1aa49f-6737-4039-952e-239f170ecdaa')\"\n",
              "            title=\"Convert this dataframe to an interactive table.\"\n",
              "            style=\"display:none;\">\n",
              "\n",
              "  <svg xmlns=\"http://www.w3.org/2000/svg\" height=\"24px\" viewBox=\"0 -960 960 960\">\n",
              "    <path d=\"M120-120v-720h720v720H120Zm60-500h600v-160H180v160Zm220 220h160v-160H400v160Zm0 220h160v-160H400v160ZM180-400h160v-160H180v160Zm440 0h160v-160H620v160ZM180-180h160v-160H180v160Zm440 0h160v-160H620v160Z\"/>\n",
              "  </svg>\n",
              "    </button>\n",
              "\n",
              "  <style>\n",
              "    .colab-df-container {\n",
              "      display:flex;\n",
              "      gap: 12px;\n",
              "    }\n",
              "\n",
              "    .colab-df-convert {\n",
              "      background-color: #E8F0FE;\n",
              "      border: none;\n",
              "      border-radius: 50%;\n",
              "      cursor: pointer;\n",
              "      display: none;\n",
              "      fill: #1967D2;\n",
              "      height: 32px;\n",
              "      padding: 0 0 0 0;\n",
              "      width: 32px;\n",
              "    }\n",
              "\n",
              "    .colab-df-convert:hover {\n",
              "      background-color: #E2EBFA;\n",
              "      box-shadow: 0px 1px 2px rgba(60, 64, 67, 0.3), 0px 1px 3px 1px rgba(60, 64, 67, 0.15);\n",
              "      fill: #174EA6;\n",
              "    }\n",
              "\n",
              "    .colab-df-buttons div {\n",
              "      margin-bottom: 4px;\n",
              "    }\n",
              "\n",
              "    [theme=dark] .colab-df-convert {\n",
              "      background-color: #3B4455;\n",
              "      fill: #D2E3FC;\n",
              "    }\n",
              "\n",
              "    [theme=dark] .colab-df-convert:hover {\n",
              "      background-color: #434B5C;\n",
              "      box-shadow: 0px 1px 3px 1px rgba(0, 0, 0, 0.15);\n",
              "      filter: drop-shadow(0px 1px 2px rgba(0, 0, 0, 0.3));\n",
              "      fill: #FFFFFF;\n",
              "    }\n",
              "  </style>\n",
              "\n",
              "    <script>\n",
              "      const buttonEl =\n",
              "        document.querySelector('#df-2c1aa49f-6737-4039-952e-239f170ecdaa button.colab-df-convert');\n",
              "      buttonEl.style.display =\n",
              "        google.colab.kernel.accessAllowed ? 'block' : 'none';\n",
              "\n",
              "      async function convertToInteractive(key) {\n",
              "        const element = document.querySelector('#df-2c1aa49f-6737-4039-952e-239f170ecdaa');\n",
              "        const dataTable =\n",
              "          await google.colab.kernel.invokeFunction('convertToInteractive',\n",
              "                                                    [key], {});\n",
              "        if (!dataTable) return;\n",
              "\n",
              "        const docLinkHtml = 'Like what you see? Visit the ' +\n",
              "          '<a target=\"_blank\" href=https://colab.research.google.com/notebooks/data_table.ipynb>data table notebook</a>'\n",
              "          + ' to learn more about interactive tables.';\n",
              "        element.innerHTML = '';\n",
              "        dataTable['output_type'] = 'display_data';\n",
              "        await google.colab.output.renderOutput(dataTable, element);\n",
              "        const docLink = document.createElement('div');\n",
              "        docLink.innerHTML = docLinkHtml;\n",
              "        element.appendChild(docLink);\n",
              "      }\n",
              "    </script>\n",
              "  </div>\n",
              "\n",
              "\n",
              "<div id=\"df-ad4fc525-3b6b-40fb-b997-5dccec49c283\">\n",
              "  <button class=\"colab-df-quickchart\" onclick=\"quickchart('df-ad4fc525-3b6b-40fb-b997-5dccec49c283')\"\n",
              "            title=\"Suggest charts\"\n",
              "            style=\"display:none;\">\n",
              "\n",
              "<svg xmlns=\"http://www.w3.org/2000/svg\" height=\"24px\"viewBox=\"0 0 24 24\"\n",
              "     width=\"24px\">\n",
              "    <g>\n",
              "        <path d=\"M19 3H5c-1.1 0-2 .9-2 2v14c0 1.1.9 2 2 2h14c1.1 0 2-.9 2-2V5c0-1.1-.9-2-2-2zM9 17H7v-7h2v7zm4 0h-2V7h2v10zm4 0h-2v-4h2v4z\"/>\n",
              "    </g>\n",
              "</svg>\n",
              "  </button>\n",
              "\n",
              "<style>\n",
              "  .colab-df-quickchart {\n",
              "      --bg-color: #E8F0FE;\n",
              "      --fill-color: #1967D2;\n",
              "      --hover-bg-color: #E2EBFA;\n",
              "      --hover-fill-color: #174EA6;\n",
              "      --disabled-fill-color: #AAA;\n",
              "      --disabled-bg-color: #DDD;\n",
              "  }\n",
              "\n",
              "  [theme=dark] .colab-df-quickchart {\n",
              "      --bg-color: #3B4455;\n",
              "      --fill-color: #D2E3FC;\n",
              "      --hover-bg-color: #434B5C;\n",
              "      --hover-fill-color: #FFFFFF;\n",
              "      --disabled-bg-color: #3B4455;\n",
              "      --disabled-fill-color: #666;\n",
              "  }\n",
              "\n",
              "  .colab-df-quickchart {\n",
              "    background-color: var(--bg-color);\n",
              "    border: none;\n",
              "    border-radius: 50%;\n",
              "    cursor: pointer;\n",
              "    display: none;\n",
              "    fill: var(--fill-color);\n",
              "    height: 32px;\n",
              "    padding: 0;\n",
              "    width: 32px;\n",
              "  }\n",
              "\n",
              "  .colab-df-quickchart:hover {\n",
              "    background-color: var(--hover-bg-color);\n",
              "    box-shadow: 0 1px 2px rgba(60, 64, 67, 0.3), 0 1px 3px 1px rgba(60, 64, 67, 0.15);\n",
              "    fill: var(--button-hover-fill-color);\n",
              "  }\n",
              "\n",
              "  .colab-df-quickchart-complete:disabled,\n",
              "  .colab-df-quickchart-complete:disabled:hover {\n",
              "    background-color: var(--disabled-bg-color);\n",
              "    fill: var(--disabled-fill-color);\n",
              "    box-shadow: none;\n",
              "  }\n",
              "\n",
              "  .colab-df-spinner {\n",
              "    border: 2px solid var(--fill-color);\n",
              "    border-color: transparent;\n",
              "    border-bottom-color: var(--fill-color);\n",
              "    animation:\n",
              "      spin 1s steps(1) infinite;\n",
              "  }\n",
              "\n",
              "  @keyframes spin {\n",
              "    0% {\n",
              "      border-color: transparent;\n",
              "      border-bottom-color: var(--fill-color);\n",
              "      border-left-color: var(--fill-color);\n",
              "    }\n",
              "    20% {\n",
              "      border-color: transparent;\n",
              "      border-left-color: var(--fill-color);\n",
              "      border-top-color: var(--fill-color);\n",
              "    }\n",
              "    30% {\n",
              "      border-color: transparent;\n",
              "      border-left-color: var(--fill-color);\n",
              "      border-top-color: var(--fill-color);\n",
              "      border-right-color: var(--fill-color);\n",
              "    }\n",
              "    40% {\n",
              "      border-color: transparent;\n",
              "      border-right-color: var(--fill-color);\n",
              "      border-top-color: var(--fill-color);\n",
              "    }\n",
              "    60% {\n",
              "      border-color: transparent;\n",
              "      border-right-color: var(--fill-color);\n",
              "    }\n",
              "    80% {\n",
              "      border-color: transparent;\n",
              "      border-right-color: var(--fill-color);\n",
              "      border-bottom-color: var(--fill-color);\n",
              "    }\n",
              "    90% {\n",
              "      border-color: transparent;\n",
              "      border-bottom-color: var(--fill-color);\n",
              "    }\n",
              "  }\n",
              "</style>\n",
              "\n",
              "  <script>\n",
              "    async function quickchart(key) {\n",
              "      const quickchartButtonEl =\n",
              "        document.querySelector('#' + key + ' button');\n",
              "      quickchartButtonEl.disabled = true;  // To prevent multiple clicks.\n",
              "      quickchartButtonEl.classList.add('colab-df-spinner');\n",
              "      try {\n",
              "        const charts = await google.colab.kernel.invokeFunction(\n",
              "            'suggestCharts', [key], {});\n",
              "      } catch (error) {\n",
              "        console.error('Error during call to suggestCharts:', error);\n",
              "      }\n",
              "      quickchartButtonEl.classList.remove('colab-df-spinner');\n",
              "      quickchartButtonEl.classList.add('colab-df-quickchart-complete');\n",
              "    }\n",
              "    (() => {\n",
              "      let quickchartButtonEl =\n",
              "        document.querySelector('#df-ad4fc525-3b6b-40fb-b997-5dccec49c283 button');\n",
              "      quickchartButtonEl.style.display =\n",
              "        google.colab.kernel.accessAllowed ? 'block' : 'none';\n",
              "    })();\n",
              "  </script>\n",
              "</div>\n",
              "\n",
              "    </div>\n",
              "  </div>\n"
            ],
            "text/plain": [
              "            User-ID   Book-Rating\n",
              "count  1.149780e+06  1.149780e+06\n",
              "mean   1.403864e+05  2.866950e+00\n",
              "std    8.056228e+04  3.854184e+00\n",
              "min    2.000000e+00  0.000000e+00\n",
              "25%    7.034500e+04  0.000000e+00\n",
              "50%    1.410100e+05  0.000000e+00\n",
              "75%    2.110280e+05  7.000000e+00\n",
              "max    2.788540e+05  1.000000e+01"
            ]
          },
          "execution_count": 33,
          "metadata": {},
          "output_type": "execute_result"
        }
      ],
      "source": [
        "ratings.describe()"
      ]
    },
    {
      "cell_type": "code",
      "execution_count": 34,
      "metadata": {
        "colab": {
          "base_uri": "https://localhost:8080/",
          "height": 178
        },
        "id": "DbshEa5Hu_vg",
        "outputId": "6f604ec2-530b-4ec6-81ae-ad20b23f32d6"
      },
      "outputs": [
        {
          "data": {
            "text/html": [
              "<div>\n",
              "<style scoped>\n",
              "    .dataframe tbody tr th:only-of-type {\n",
              "        vertical-align: middle;\n",
              "    }\n",
              "\n",
              "    .dataframe tbody tr th {\n",
              "        vertical-align: top;\n",
              "    }\n",
              "\n",
              "    .dataframe thead th {\n",
              "        text-align: right;\n",
              "    }\n",
              "</style>\n",
              "<table border=\"1\" class=\"dataframe\">\n",
              "  <thead>\n",
              "    <tr style=\"text-align: right;\">\n",
              "      <th></th>\n",
              "      <th>0</th>\n",
              "    </tr>\n",
              "  </thead>\n",
              "  <tbody>\n",
              "    <tr>\n",
              "      <th>User-ID</th>\n",
              "      <td>0</td>\n",
              "    </tr>\n",
              "    <tr>\n",
              "      <th>ISBN</th>\n",
              "      <td>0</td>\n",
              "    </tr>\n",
              "    <tr>\n",
              "      <th>Book-Rating</th>\n",
              "      <td>0</td>\n",
              "    </tr>\n",
              "  </tbody>\n",
              "</table>\n",
              "</div><br><label><b>dtype:</b> int64</label>"
            ],
            "text/plain": [
              "User-ID        0\n",
              "ISBN           0\n",
              "Book-Rating    0\n",
              "dtype: int64"
            ]
          },
          "execution_count": 34,
          "metadata": {},
          "output_type": "execute_result"
        }
      ],
      "source": [
        "ratings.isnull().sum()"
      ]
    },
    {
      "cell_type": "markdown",
      "metadata": {},
      "source": [
        "Tidak terdapat missing values pada file ratings.csv"
      ]
    },
    {
      "cell_type": "code",
      "execution_count": 35,
      "metadata": {
        "colab": {
          "base_uri": "https://localhost:8080/"
        },
        "id": "rmEA4SPWvCFu",
        "outputId": "8f40359f-9ff7-421d-c3c0-94a41a99f1ca"
      },
      "outputs": [
        {
          "data": {
            "text/plain": [
              "0"
            ]
          },
          "execution_count": 35,
          "metadata": {},
          "output_type": "execute_result"
        }
      ],
      "source": [
        "ratings.duplicated().sum()"
      ]
    },
    {
      "cell_type": "markdown",
      "metadata": {},
      "source": [
        "Tidak terdapat data duplikat pada file ratings.csv"
      ]
    },
    {
      "cell_type": "code",
      "execution_count": 36,
      "metadata": {
        "colab": {
          "base_uri": "https://localhost:8080/",
          "height": 206
        },
        "id": "Nirhx7i4zbeK",
        "outputId": "dce0034c-d424-447d-d328-0b1b4c9ab9c0"
      },
      "outputs": [
        {
          "data": {
            "application/vnd.google.colaboratory.intrinsic+json": {
              "type": "dataframe",
              "variable_name": "ratings"
            },
            "text/html": [
              "\n",
              "  <div id=\"df-2f02cbad-20cf-49ae-8a23-5afcf90d7418\" class=\"colab-df-container\">\n",
              "    <div>\n",
              "<style scoped>\n",
              "    .dataframe tbody tr th:only-of-type {\n",
              "        vertical-align: middle;\n",
              "    }\n",
              "\n",
              "    .dataframe tbody tr th {\n",
              "        vertical-align: top;\n",
              "    }\n",
              "\n",
              "    .dataframe thead th {\n",
              "        text-align: right;\n",
              "    }\n",
              "</style>\n",
              "<table border=\"1\" class=\"dataframe\">\n",
              "  <thead>\n",
              "    <tr style=\"text-align: right;\">\n",
              "      <th></th>\n",
              "      <th>User-ID</th>\n",
              "      <th>ISBN</th>\n",
              "      <th>Book-Rating</th>\n",
              "    </tr>\n",
              "  </thead>\n",
              "  <tbody>\n",
              "    <tr>\n",
              "      <th>0</th>\n",
              "      <td>276725</td>\n",
              "      <td>034545104X</td>\n",
              "      <td>0</td>\n",
              "    </tr>\n",
              "    <tr>\n",
              "      <th>1</th>\n",
              "      <td>276726</td>\n",
              "      <td>0155061224</td>\n",
              "      <td>5</td>\n",
              "    </tr>\n",
              "    <tr>\n",
              "      <th>2</th>\n",
              "      <td>276727</td>\n",
              "      <td>0446520802</td>\n",
              "      <td>0</td>\n",
              "    </tr>\n",
              "    <tr>\n",
              "      <th>3</th>\n",
              "      <td>276729</td>\n",
              "      <td>052165615X</td>\n",
              "      <td>3</td>\n",
              "    </tr>\n",
              "    <tr>\n",
              "      <th>4</th>\n",
              "      <td>276729</td>\n",
              "      <td>0521795028</td>\n",
              "      <td>6</td>\n",
              "    </tr>\n",
              "  </tbody>\n",
              "</table>\n",
              "</div>\n",
              "    <div class=\"colab-df-buttons\">\n",
              "\n",
              "  <div class=\"colab-df-container\">\n",
              "    <button class=\"colab-df-convert\" onclick=\"convertToInteractive('df-2f02cbad-20cf-49ae-8a23-5afcf90d7418')\"\n",
              "            title=\"Convert this dataframe to an interactive table.\"\n",
              "            style=\"display:none;\">\n",
              "\n",
              "  <svg xmlns=\"http://www.w3.org/2000/svg\" height=\"24px\" viewBox=\"0 -960 960 960\">\n",
              "    <path d=\"M120-120v-720h720v720H120Zm60-500h600v-160H180v160Zm220 220h160v-160H400v160Zm0 220h160v-160H400v160ZM180-400h160v-160H180v160Zm440 0h160v-160H620v160ZM180-180h160v-160H180v160Zm440 0h160v-160H620v160Z\"/>\n",
              "  </svg>\n",
              "    </button>\n",
              "\n",
              "  <style>\n",
              "    .colab-df-container {\n",
              "      display:flex;\n",
              "      gap: 12px;\n",
              "    }\n",
              "\n",
              "    .colab-df-convert {\n",
              "      background-color: #E8F0FE;\n",
              "      border: none;\n",
              "      border-radius: 50%;\n",
              "      cursor: pointer;\n",
              "      display: none;\n",
              "      fill: #1967D2;\n",
              "      height: 32px;\n",
              "      padding: 0 0 0 0;\n",
              "      width: 32px;\n",
              "    }\n",
              "\n",
              "    .colab-df-convert:hover {\n",
              "      background-color: #E2EBFA;\n",
              "      box-shadow: 0px 1px 2px rgba(60, 64, 67, 0.3), 0px 1px 3px 1px rgba(60, 64, 67, 0.15);\n",
              "      fill: #174EA6;\n",
              "    }\n",
              "\n",
              "    .colab-df-buttons div {\n",
              "      margin-bottom: 4px;\n",
              "    }\n",
              "\n",
              "    [theme=dark] .colab-df-convert {\n",
              "      background-color: #3B4455;\n",
              "      fill: #D2E3FC;\n",
              "    }\n",
              "\n",
              "    [theme=dark] .colab-df-convert:hover {\n",
              "      background-color: #434B5C;\n",
              "      box-shadow: 0px 1px 3px 1px rgba(0, 0, 0, 0.15);\n",
              "      filter: drop-shadow(0px 1px 2px rgba(0, 0, 0, 0.3));\n",
              "      fill: #FFFFFF;\n",
              "    }\n",
              "  </style>\n",
              "\n",
              "    <script>\n",
              "      const buttonEl =\n",
              "        document.querySelector('#df-2f02cbad-20cf-49ae-8a23-5afcf90d7418 button.colab-df-convert');\n",
              "      buttonEl.style.display =\n",
              "        google.colab.kernel.accessAllowed ? 'block' : 'none';\n",
              "\n",
              "      async function convertToInteractive(key) {\n",
              "        const element = document.querySelector('#df-2f02cbad-20cf-49ae-8a23-5afcf90d7418');\n",
              "        const dataTable =\n",
              "          await google.colab.kernel.invokeFunction('convertToInteractive',\n",
              "                                                    [key], {});\n",
              "        if (!dataTable) return;\n",
              "\n",
              "        const docLinkHtml = 'Like what you see? Visit the ' +\n",
              "          '<a target=\"_blank\" href=https://colab.research.google.com/notebooks/data_table.ipynb>data table notebook</a>'\n",
              "          + ' to learn more about interactive tables.';\n",
              "        element.innerHTML = '';\n",
              "        dataTable['output_type'] = 'display_data';\n",
              "        await google.colab.output.renderOutput(dataTable, element);\n",
              "        const docLink = document.createElement('div');\n",
              "        docLink.innerHTML = docLinkHtml;\n",
              "        element.appendChild(docLink);\n",
              "      }\n",
              "    </script>\n",
              "  </div>\n",
              "\n",
              "\n",
              "<div id=\"df-87017945-db21-4a75-a3f3-5be35c872042\">\n",
              "  <button class=\"colab-df-quickchart\" onclick=\"quickchart('df-87017945-db21-4a75-a3f3-5be35c872042')\"\n",
              "            title=\"Suggest charts\"\n",
              "            style=\"display:none;\">\n",
              "\n",
              "<svg xmlns=\"http://www.w3.org/2000/svg\" height=\"24px\"viewBox=\"0 0 24 24\"\n",
              "     width=\"24px\">\n",
              "    <g>\n",
              "        <path d=\"M19 3H5c-1.1 0-2 .9-2 2v14c0 1.1.9 2 2 2h14c1.1 0 2-.9 2-2V5c0-1.1-.9-2-2-2zM9 17H7v-7h2v7zm4 0h-2V7h2v10zm4 0h-2v-4h2v4z\"/>\n",
              "    </g>\n",
              "</svg>\n",
              "  </button>\n",
              "\n",
              "<style>\n",
              "  .colab-df-quickchart {\n",
              "      --bg-color: #E8F0FE;\n",
              "      --fill-color: #1967D2;\n",
              "      --hover-bg-color: #E2EBFA;\n",
              "      --hover-fill-color: #174EA6;\n",
              "      --disabled-fill-color: #AAA;\n",
              "      --disabled-bg-color: #DDD;\n",
              "  }\n",
              "\n",
              "  [theme=dark] .colab-df-quickchart {\n",
              "      --bg-color: #3B4455;\n",
              "      --fill-color: #D2E3FC;\n",
              "      --hover-bg-color: #434B5C;\n",
              "      --hover-fill-color: #FFFFFF;\n",
              "      --disabled-bg-color: #3B4455;\n",
              "      --disabled-fill-color: #666;\n",
              "  }\n",
              "\n",
              "  .colab-df-quickchart {\n",
              "    background-color: var(--bg-color);\n",
              "    border: none;\n",
              "    border-radius: 50%;\n",
              "    cursor: pointer;\n",
              "    display: none;\n",
              "    fill: var(--fill-color);\n",
              "    height: 32px;\n",
              "    padding: 0;\n",
              "    width: 32px;\n",
              "  }\n",
              "\n",
              "  .colab-df-quickchart:hover {\n",
              "    background-color: var(--hover-bg-color);\n",
              "    box-shadow: 0 1px 2px rgba(60, 64, 67, 0.3), 0 1px 3px 1px rgba(60, 64, 67, 0.15);\n",
              "    fill: var(--button-hover-fill-color);\n",
              "  }\n",
              "\n",
              "  .colab-df-quickchart-complete:disabled,\n",
              "  .colab-df-quickchart-complete:disabled:hover {\n",
              "    background-color: var(--disabled-bg-color);\n",
              "    fill: var(--disabled-fill-color);\n",
              "    box-shadow: none;\n",
              "  }\n",
              "\n",
              "  .colab-df-spinner {\n",
              "    border: 2px solid var(--fill-color);\n",
              "    border-color: transparent;\n",
              "    border-bottom-color: var(--fill-color);\n",
              "    animation:\n",
              "      spin 1s steps(1) infinite;\n",
              "  }\n",
              "\n",
              "  @keyframes spin {\n",
              "    0% {\n",
              "      border-color: transparent;\n",
              "      border-bottom-color: var(--fill-color);\n",
              "      border-left-color: var(--fill-color);\n",
              "    }\n",
              "    20% {\n",
              "      border-color: transparent;\n",
              "      border-left-color: var(--fill-color);\n",
              "      border-top-color: var(--fill-color);\n",
              "    }\n",
              "    30% {\n",
              "      border-color: transparent;\n",
              "      border-left-color: var(--fill-color);\n",
              "      border-top-color: var(--fill-color);\n",
              "      border-right-color: var(--fill-color);\n",
              "    }\n",
              "    40% {\n",
              "      border-color: transparent;\n",
              "      border-right-color: var(--fill-color);\n",
              "      border-top-color: var(--fill-color);\n",
              "    }\n",
              "    60% {\n",
              "      border-color: transparent;\n",
              "      border-right-color: var(--fill-color);\n",
              "    }\n",
              "    80% {\n",
              "      border-color: transparent;\n",
              "      border-right-color: var(--fill-color);\n",
              "      border-bottom-color: var(--fill-color);\n",
              "    }\n",
              "    90% {\n",
              "      border-color: transparent;\n",
              "      border-bottom-color: var(--fill-color);\n",
              "    }\n",
              "  }\n",
              "</style>\n",
              "\n",
              "  <script>\n",
              "    async function quickchart(key) {\n",
              "      const quickchartButtonEl =\n",
              "        document.querySelector('#' + key + ' button');\n",
              "      quickchartButtonEl.disabled = true;  // To prevent multiple clicks.\n",
              "      quickchartButtonEl.classList.add('colab-df-spinner');\n",
              "      try {\n",
              "        const charts = await google.colab.kernel.invokeFunction(\n",
              "            'suggestCharts', [key], {});\n",
              "      } catch (error) {\n",
              "        console.error('Error during call to suggestCharts:', error);\n",
              "      }\n",
              "      quickchartButtonEl.classList.remove('colab-df-spinner');\n",
              "      quickchartButtonEl.classList.add('colab-df-quickchart-complete');\n",
              "    }\n",
              "    (() => {\n",
              "      let quickchartButtonEl =\n",
              "        document.querySelector('#df-87017945-db21-4a75-a3f3-5be35c872042 button');\n",
              "      quickchartButtonEl.style.display =\n",
              "        google.colab.kernel.accessAllowed ? 'block' : 'none';\n",
              "    })();\n",
              "  </script>\n",
              "</div>\n",
              "\n",
              "    </div>\n",
              "  </div>\n"
            ],
            "text/plain": [
              "   User-ID        ISBN  Book-Rating\n",
              "0   276725  034545104X            0\n",
              "1   276726  0155061224            5\n",
              "2   276727  0446520802            0\n",
              "3   276729  052165615X            3\n",
              "4   276729  0521795028            6"
            ]
          },
          "execution_count": 36,
          "metadata": {},
          "output_type": "execute_result"
        }
      ],
      "source": [
        "ratings.head()"
      ]
    },
    {
      "cell_type": "code",
      "execution_count": 37,
      "metadata": {
        "colab": {
          "base_uri": "https://localhost:8080/",
          "height": 718
        },
        "id": "StufXSFqv0eU",
        "outputId": "aad076a4-0568-4fea-a3a6-cd2bd41989a3"
      },
      "outputs": [
        {
          "data": {
            "image/png": "[encoded data removed]",
            "text/plain": [
              "<Figure size 1000x800 with 1 Axes>"
            ]
          },
          "metadata": {},
          "output_type": "display_data"
        }
      ],
      "source": [
        "plt.figure(figsize=(10, 8))\n",
        "ax = sns.countplot(x=ratings[\"Book-Rating\"], palette=\"coolwarm\", hue=ratings[\"Book-Rating\"])\n",
        "plt.xlabel(\"Book Rating\")\n",
        "plt.ylabel(\"Count\")\n",
        "plt.title(\"Distribution of Book Ratings\")\n",
        "plt.xticks(range(11))\n",
        "\n",
        "for p in ax.patches:\n",
        "    ax.annotate(f'{p.get_height()}', (p.get_x() + p.get_width() / 2., p.get_height()),\n",
        "                ha='center', va='center', xytext=(0, 10), textcoords='offset points')\n",
        "\n",
        "plt.show()"
      ]
    },
    {
      "cell_type": "markdown",
      "metadata": {
        "id": "Bceix5Ga1zeS"
      },
      "source": [
        "Dari visualisasi tersebut terdapat 716109 data yang memiliki rating 0, yang mungkin menunjukkan bahwa user tersebut belum memberikan rating pada buku tersebut. Data ini tidak relevan untuk digunakan dalam sistem rekomendasi, maka kita akan menghapus data tersebut. Di sisi lain rating 8 adalah rating yang paling banyak diberikan oleh user dan rating 1 adalah rating yang paling sedikit diberikan oleh user."
      ]
    },
    {
      "cell_type": "markdown",
      "metadata": {
        "id": "SgESwyiAwz-v"
      },
      "source": [
        "### Users.CSV\n",
        "\n",
        "Selanjutnya mari kita eksplorasi file users.csv untuk memahami lebih dalam dataset tersebut"
      ]
    },
    {
      "cell_type": "code",
      "execution_count": 38,
      "metadata": {
        "colab": {
          "base_uri": "https://localhost:8080/"
        },
        "id": "-KqYE0sUxUcW",
        "outputId": "9267e815-8118-4e81-842c-e9ad68fe757f"
      },
      "outputs": [
        {
          "name": "stdout",
          "output_type": "stream",
          "text": [
            "<class 'pandas.core.frame.DataFrame'>\n",
            "RangeIndex: 278858 entries, 0 to 278857\n",
            "Data columns (total 3 columns):\n",
            " #   Column    Non-Null Count   Dtype  \n",
            "---  ------    --------------   -----  \n",
            " 0   User-ID   278858 non-null  int64  \n",
            " 1   Location  278858 non-null  object \n",
            " 2   Age       168096 non-null  float64\n",
            "dtypes: float64(1), int64(1), object(1)\n",
            "memory usage: 6.4+ MB\n"
          ]
        }
      ],
      "source": [
        "users.info()"
      ]
    },
    {
      "cell_type": "code",
      "execution_count": 39,
      "metadata": {
        "colab": {
          "base_uri": "https://localhost:8080/",
          "height": 300
        },
        "id": "nYo7V3tBxZa-",
        "outputId": "6468ff1c-46a1-416d-8e31-c1f1cc2c1984"
      },
      "outputs": [
        {
          "data": {
            "application/vnd.google.colaboratory.intrinsic+json": {
              "summary": "{\n  \"name\": \"users\",\n  \"rows\": 8,\n  \"fields\": [\n    {\n      \"column\": \"User-ID\",\n      \"properties\": {\n        \"dtype\": \"number\",\n        \"std\": 100501.4675852522,\n        \"min\": 1.0,\n        \"max\": 278858.0,\n        \"num_unique_values\": 6,\n        \"samples\": [\n          278858.0,\n          139429.5,\n          209143.75\n        ],\n        \"semantic_type\": \"\",\n        \"description\": \"\"\n      }\n    },\n    {\n      \"column\": \"Age\",\n      \"properties\": {\n        \"dtype\": \"number\",\n        \"std\": 59411.10316076062,\n        \"min\": 0.0,\n        \"max\": 168096.0,\n        \"num_unique_values\": 8,\n        \"samples\": [\n          34.75143370454978,\n          32.0,\n          168096.0\n        ],\n        \"semantic_type\": \"\",\n        \"description\": \"\"\n      }\n    }\n  ]\n}",
              "type": "dataframe"
            },
            "text/html": [
              "\n",
              "  <div id=\"df-1007fba8-ba41-4b23-ad2d-a8a2ca026579\" class=\"colab-df-container\">\n",
              "    <div>\n",
              "<style scoped>\n",
              "    .dataframe tbody tr th:only-of-type {\n",
              "        vertical-align: middle;\n",
              "    }\n",
              "\n",
              "    .dataframe tbody tr th {\n",
              "        vertical-align: top;\n",
              "    }\n",
              "\n",
              "    .dataframe thead th {\n",
              "        text-align: right;\n",
              "    }\n",
              "</style>\n",
              "<table border=\"1\" class=\"dataframe\">\n",
              "  <thead>\n",
              "    <tr style=\"text-align: right;\">\n",
              "      <th></th>\n",
              "      <th>User-ID</th>\n",
              "      <th>Age</th>\n",
              "    </tr>\n",
              "  </thead>\n",
              "  <tbody>\n",
              "    <tr>\n",
              "      <th>count</th>\n",
              "      <td>278858.00000</td>\n",
              "      <td>168096.000000</td>\n",
              "    </tr>\n",
              "    <tr>\n",
              "      <th>mean</th>\n",
              "      <td>139429.50000</td>\n",
              "      <td>34.751434</td>\n",
              "    </tr>\n",
              "    <tr>\n",
              "      <th>std</th>\n",
              "      <td>80499.51502</td>\n",
              "      <td>14.428097</td>\n",
              "    </tr>\n",
              "    <tr>\n",
              "      <th>min</th>\n",
              "      <td>1.00000</td>\n",
              "      <td>0.000000</td>\n",
              "    </tr>\n",
              "    <tr>\n",
              "      <th>25%</th>\n",
              "      <td>69715.25000</td>\n",
              "      <td>24.000000</td>\n",
              "    </tr>\n",
              "    <tr>\n",
              "      <th>50%</th>\n",
              "      <td>139429.50000</td>\n",
              "      <td>32.000000</td>\n",
              "    </tr>\n",
              "    <tr>\n",
              "      <th>75%</th>\n",
              "      <td>209143.75000</td>\n",
              "      <td>44.000000</td>\n",
              "    </tr>\n",
              "    <tr>\n",
              "      <th>max</th>\n",
              "      <td>278858.00000</td>\n",
              "      <td>244.000000</td>\n",
              "    </tr>\n",
              "  </tbody>\n",
              "</table>\n",
              "</div>\n",
              "    <div class=\"colab-df-buttons\">\n",
              "\n",
              "  <div class=\"colab-df-container\">\n",
              "    <button class=\"colab-df-convert\" onclick=\"convertToInteractive('df-1007fba8-ba41-4b23-ad2d-a8a2ca026579')\"\n",
              "            title=\"Convert this dataframe to an interactive table.\"\n",
              "            style=\"display:none;\">\n",
              "\n",
              "  <svg xmlns=\"http://www.w3.org/2000/svg\" height=\"24px\" viewBox=\"0 -960 960 960\">\n",
              "    <path d=\"M120-120v-720h720v720H120Zm60-500h600v-160H180v160Zm220 220h160v-160H400v160Zm0 220h160v-160H400v160ZM180-400h160v-160H180v160Zm440 0h160v-160H620v160ZM180-180h160v-160H180v160Zm440 0h160v-160H620v160Z\"/>\n",
              "  </svg>\n",
              "    </button>\n",
              "\n",
              "  <style>\n",
              "    .colab-df-container {\n",
              "      display:flex;\n",
              "      gap: 12px;\n",
              "    }\n",
              "\n",
              "    .colab-df-convert {\n",
              "      background-color: #E8F0FE;\n",
              "      border: none;\n",
              "      border-radius: 50%;\n",
              "      cursor: pointer;\n",
              "      display: none;\n",
              "      fill: #1967D2;\n",
              "      height: 32px;\n",
              "      padding: 0 0 0 0;\n",
              "      width: 32px;\n",
              "    }\n",
              "\n",
              "    .colab-df-convert:hover {\n",
              "      background-color: #E2EBFA;\n",
              "      box-shadow: 0px 1px 2px rgba(60, 64, 67, 0.3), 0px 1px 3px 1px rgba(60, 64, 67, 0.15);\n",
              "      fill: #174EA6;\n",
              "    }\n",
              "\n",
              "    .colab-df-buttons div {\n",
              "      margin-bottom: 4px;\n",
              "    }\n",
              "\n",
              "    [theme=dark] .colab-df-convert {\n",
              "      background-color: #3B4455;\n",
              "      fill: #D2E3FC;\n",
              "    }\n",
              "\n",
              "    [theme=dark] .colab-df-convert:hover {\n",
              "      background-color: #434B5C;\n",
              "      box-shadow: 0px 1px 3px 1px rgba(0, 0, 0, 0.15);\n",
              "      filter: drop-shadow(0px 1px 2px rgba(0, 0, 0, 0.3));\n",
              "      fill: #FFFFFF;\n",
              "    }\n",
              "  </style>\n",
              "\n",
              "    <script>\n",
              "      const buttonEl =\n",
              "        document.querySelector('#df-1007fba8-ba41-4b23-ad2d-a8a2ca026579 button.colab-df-convert');\n",
              "      buttonEl.style.display =\n",
              "        google.colab.kernel.accessAllowed ? 'block' : 'none';\n",
              "\n",
              "      async function convertToInteractive(key) {\n",
              "        const element = document.querySelector('#df-1007fba8-ba41-4b23-ad2d-a8a2ca026579');\n",
              "        const dataTable =\n",
              "          await google.colab.kernel.invokeFunction('convertToInteractive',\n",
              "                                                    [key], {});\n",
              "        if (!dataTable) return;\n",
              "\n",
              "        const docLinkHtml = 'Like what you see? Visit the ' +\n",
              "          '<a target=\"_blank\" href=https://colab.research.google.com/notebooks/data_table.ipynb>data table notebook</a>'\n",
              "          + ' to learn more about interactive tables.';\n",
              "        element.innerHTML = '';\n",
              "        dataTable['output_type'] = 'display_data';\n",
              "        await google.colab.output.renderOutput(dataTable, element);\n",
              "        const docLink = document.createElement('div');\n",
              "        docLink.innerHTML = docLinkHtml;\n",
              "        element.appendChild(docLink);\n",
              "      }\n",
              "    </script>\n",
              "  </div>\n",
              "\n",
              "\n",
              "<div id=\"df-ae7dc278-86b7-45e7-b0c1-9614e98d736c\">\n",
              "  <button class=\"colab-df-quickchart\" onclick=\"quickchart('df-ae7dc278-86b7-45e7-b0c1-9614e98d736c')\"\n",
              "            title=\"Suggest charts\"\n",
              "            style=\"display:none;\">\n",
              "\n",
              "<svg xmlns=\"http://www.w3.org/2000/svg\" height=\"24px\"viewBox=\"0 0 24 24\"\n",
              "     width=\"24px\">\n",
              "    <g>\n",
              "        <path d=\"M19 3H5c-1.1 0-2 .9-2 2v14c0 1.1.9 2 2 2h14c1.1 0 2-.9 2-2V5c0-1.1-.9-2-2-2zM9 17H7v-7h2v7zm4 0h-2V7h2v10zm4 0h-2v-4h2v4z\"/>\n",
              "    </g>\n",
              "</svg>\n",
              "  </button>\n",
              "\n",
              "<style>\n",
              "  .colab-df-quickchart {\n",
              "      --bg-color: #E8F0FE;\n",
              "      --fill-color: #1967D2;\n",
              "      --hover-bg-color: #E2EBFA;\n",
              "      --hover-fill-color: #174EA6;\n",
              "      --disabled-fill-color: #AAA;\n",
              "      --disabled-bg-color: #DDD;\n",
              "  }\n",
              "\n",
              "  [theme=dark] .colab-df-quickchart {\n",
              "      --bg-color: #3B4455;\n",
              "      --fill-color: #D2E3FC;\n",
              "      --hover-bg-color: #434B5C;\n",
              "      --hover-fill-color: #FFFFFF;\n",
              "      --disabled-bg-color: #3B4455;\n",
              "      --disabled-fill-color: #666;\n",
              "  }\n",
              "\n",
              "  .colab-df-quickchart {\n",
              "    background-color: var(--bg-color);\n",
              "    border: none;\n",
              "    border-radius: 50%;\n",
              "    cursor: pointer;\n",
              "    display: none;\n",
              "    fill: var(--fill-color);\n",
              "    height: 32px;\n",
              "    padding: 0;\n",
              "    width: 32px;\n",
              "  }\n",
              "\n",
              "  .colab-df-quickchart:hover {\n",
              "    background-color: var(--hover-bg-color);\n",
              "    box-shadow: 0 1px 2px rgba(60, 64, 67, 0.3), 0 1px 3px 1px rgba(60, 64, 67, 0.15);\n",
              "    fill: var(--button-hover-fill-color);\n",
              "  }\n",
              "\n",
              "  .colab-df-quickchart-complete:disabled,\n",
              "  .colab-df-quickchart-complete:disabled:hover {\n",
              "    background-color: var(--disabled-bg-color);\n",
              "    fill: var(--disabled-fill-color);\n",
              "    box-shadow: none;\n",
              "  }\n",
              "\n",
              "  .colab-df-spinner {\n",
              "    border: 2px solid var(--fill-color);\n",
              "    border-color: transparent;\n",
              "    border-bottom-color: var(--fill-color);\n",
              "    animation:\n",
              "      spin 1s steps(1) infinite;\n",
              "  }\n",
              "\n",
              "  @keyframes spin {\n",
              "    0% {\n",
              "      border-color: transparent;\n",
              "      border-bottom-color: var(--fill-color);\n",
              "      border-left-color: var(--fill-color);\n",
              "    }\n",
              "    20% {\n",
              "      border-color: transparent;\n",
              "      border-left-color: var(--fill-color);\n",
              "      border-top-color: var(--fill-color);\n",
              "    }\n",
              "    30% {\n",
              "      border-color: transparent;\n",
              "      border-left-color: var(--fill-color);\n",
              "      border-top-color: var(--fill-color);\n",
              "      border-right-color: var(--fill-color);\n",
              "    }\n",
              "    40% {\n",
              "      border-color: transparent;\n",
              "      border-right-color: var(--fill-color);\n",
              "      border-top-color: var(--fill-color);\n",
              "    }\n",
              "    60% {\n",
              "      border-color: transparent;\n",
              "      border-right-color: var(--fill-color);\n",
              "    }\n",
              "    80% {\n",
              "      border-color: transparent;\n",
              "      border-right-color: var(--fill-color);\n",
              "      border-bottom-color: var(--fill-color);\n",
              "    }\n",
              "    90% {\n",
              "      border-color: transparent;\n",
              "      border-bottom-color: var(--fill-color);\n",
              "    }\n",
              "  }\n",
              "</style>\n",
              "\n",
              "  <script>\n",
              "    async function quickchart(key) {\n",
              "      const quickchartButtonEl =\n",
              "        document.querySelector('#' + key + ' button');\n",
              "      quickchartButtonEl.disabled = true;  // To prevent multiple clicks.\n",
              "      quickchartButtonEl.classList.add('colab-df-spinner');\n",
              "      try {\n",
              "        const charts = await google.colab.kernel.invokeFunction(\n",
              "            'suggestCharts', [key], {});\n",
              "      } catch (error) {\n",
              "        console.error('Error during call to suggestCharts:', error);\n",
              "      }\n",
              "      quickchartButtonEl.classList.remove('colab-df-spinner');\n",
              "      quickchartButtonEl.classList.add('colab-df-quickchart-complete');\n",
              "    }\n",
              "    (() => {\n",
              "      let quickchartButtonEl =\n",
              "        document.querySelector('#df-ae7dc278-86b7-45e7-b0c1-9614e98d736c button');\n",
              "      quickchartButtonEl.style.display =\n",
              "        google.colab.kernel.accessAllowed ? 'block' : 'none';\n",
              "    })();\n",
              "  </script>\n",
              "</div>\n",
              "\n",
              "    </div>\n",
              "  </div>\n"
            ],
            "text/plain": [
              "            User-ID            Age\n",
              "count  278858.00000  168096.000000\n",
              "mean   139429.50000      34.751434\n",
              "std     80499.51502      14.428097\n",
              "min         1.00000       0.000000\n",
              "25%     69715.25000      24.000000\n",
              "50%    139429.50000      32.000000\n",
              "75%    209143.75000      44.000000\n",
              "max    278858.00000     244.000000"
            ]
          },
          "execution_count": 39,
          "metadata": {},
          "output_type": "execute_result"
        }
      ],
      "source": [
        "users.describe()"
      ]
    },
    {
      "cell_type": "markdown",
      "metadata": {},
      "source": [
        "Berdasarkan statistik deskriptif di atas, kita dapat melihat bahwa usia pengguna memiliki rentang nilai dari 0 hingga 244. Kita akan melakukan cleaning data pada kolom `Age` dengan menghapus data yang tidak relevan."
      ]
    },
    {
      "cell_type": "code",
      "execution_count": 40,
      "metadata": {
        "colab": {
          "base_uri": "https://localhost:8080/",
          "height": 178
        },
        "id": "Y83Z5PBNxdfW",
        "outputId": "51601f62-d5b1-4741-ac01-2a963579e303"
      },
      "outputs": [
        {
          "data": {
            "text/html": [
              "<div>\n",
              "<style scoped>\n",
              "    .dataframe tbody tr th:only-of-type {\n",
              "        vertical-align: middle;\n",
              "    }\n",
              "\n",
              "    .dataframe tbody tr th {\n",
              "        vertical-align: top;\n",
              "    }\n",
              "\n",
              "    .dataframe thead th {\n",
              "        text-align: right;\n",
              "    }\n",
              "</style>\n",
              "<table border=\"1\" class=\"dataframe\">\n",
              "  <thead>\n",
              "    <tr style=\"text-align: right;\">\n",
              "      <th></th>\n",
              "      <th>0</th>\n",
              "    </tr>\n",
              "  </thead>\n",
              "  <tbody>\n",
              "    <tr>\n",
              "      <th>User-ID</th>\n",
              "      <td>0</td>\n",
              "    </tr>\n",
              "    <tr>\n",
              "      <th>Location</th>\n",
              "      <td>0</td>\n",
              "    </tr>\n",
              "    <tr>\n",
              "      <th>Age</th>\n",
              "      <td>110762</td>\n",
              "    </tr>\n",
              "  </tbody>\n",
              "</table>\n",
              "</div><br><label><b>dtype:</b> int64</label>"
            ],
            "text/plain": [
              "User-ID          0\n",
              "Location         0\n",
              "Age         110762\n",
              "dtype: int64"
            ]
          },
          "execution_count": 40,
          "metadata": {},
          "output_type": "execute_result"
        }
      ],
      "source": [
        "users.isnull().sum()"
      ]
    },
    {
      "cell_type": "markdown",
      "metadata": {},
      "source": [
        "Data pada kolom `Age` memiliki missing values sebanyak 110.762 data, kita akan melakukan imputasi data pada kolom tersebut dengan menggunakan median."
      ]
    },
    {
      "cell_type": "code",
      "execution_count": 41,
      "metadata": {
        "colab": {
          "base_uri": "https://localhost:8080/"
        },
        "id": "3TQdrMjnxfyV",
        "outputId": "e5138d9a-0777-479b-c3a8-c4f4bdb9e6b4"
      },
      "outputs": [
        {
          "data": {
            "text/plain": [
              "0"
            ]
          },
          "execution_count": 41,
          "metadata": {},
          "output_type": "execute_result"
        }
      ],
      "source": [
        "users.duplicated().sum()"
      ]
    },
    {
      "cell_type": "markdown",
      "metadata": {},
      "source": [
        "Tidak terdapat data duplikat pada file users.csv"
      ]
    },
    {
      "cell_type": "code",
      "execution_count": 42,
      "metadata": {
        "colab": {
          "base_uri": "https://localhost:8080/",
          "height": 206
        },
        "id": "H2XwiKPDxrB1",
        "outputId": "12ac23d3-a924-4e27-adf1-32c938393e44"
      },
      "outputs": [
        {
          "data": {
            "application/vnd.google.colaboratory.intrinsic+json": {
              "type": "dataframe",
              "variable_name": "users"
            },
            "text/html": [
              "\n",
              "  <div id=\"df-ff887f26-1e21-49a6-ae21-deef570d2701\" class=\"colab-df-container\">\n",
              "    <div>\n",
              "<style scoped>\n",
              "    .dataframe tbody tr th:only-of-type {\n",
              "        vertical-align: middle;\n",
              "    }\n",
              "\n",
              "    .dataframe tbody tr th {\n",
              "        vertical-align: top;\n",
              "    }\n",
              "\n",
              "    .dataframe thead th {\n",
              "        text-align: right;\n",
              "    }\n",
              "</style>\n",
              "<table border=\"1\" class=\"dataframe\">\n",
              "  <thead>\n",
              "    <tr style=\"text-align: right;\">\n",
              "      <th></th>\n",
              "      <th>User-ID</th>\n",
              "      <th>Location</th>\n",
              "      <th>Age</th>\n",
              "    </tr>\n",
              "  </thead>\n",
              "  <tbody>\n",
              "    <tr>\n",
              "      <th>0</th>\n",
              "      <td>1</td>\n",
              "      <td>nyc, new york, usa</td>\n",
              "      <td>NaN</td>\n",
              "    </tr>\n",
              "    <tr>\n",
              "      <th>1</th>\n",
              "      <td>2</td>\n",
              "      <td>stockton, california, usa</td>\n",
              "      <td>18.0</td>\n",
              "    </tr>\n",
              "    <tr>\n",
              "      <th>2</th>\n",
              "      <td>3</td>\n",
              "      <td>moscow, yukon territory, russia</td>\n",
              "      <td>NaN</td>\n",
              "    </tr>\n",
              "    <tr>\n",
              "      <th>3</th>\n",
              "      <td>4</td>\n",
              "      <td>porto, v.n.gaia, portugal</td>\n",
              "      <td>17.0</td>\n",
              "    </tr>\n",
              "    <tr>\n",
              "      <th>4</th>\n",
              "      <td>5</td>\n",
              "      <td>farnborough, hants, united kingdom</td>\n",
              "      <td>NaN</td>\n",
              "    </tr>\n",
              "  </tbody>\n",
              "</table>\n",
              "</div>\n",
              "    <div class=\"colab-df-buttons\">\n",
              "\n",
              "  <div class=\"colab-df-container\">\n",
              "    <button class=\"colab-df-convert\" onclick=\"convertToInteractive('df-ff887f26-1e21-49a6-ae21-deef570d2701')\"\n",
              "            title=\"Convert this dataframe to an interactive table.\"\n",
              "            style=\"display:none;\">\n",
              "\n",
              "  <svg xmlns=\"http://www.w3.org/2000/svg\" height=\"24px\" viewBox=\"0 -960 960 960\">\n",
              "    <path d=\"M120-120v-720h720v720H120Zm60-500h600v-160H180v160Zm220 220h160v-160H400v160Zm0 220h160v-160H400v160ZM180-400h160v-160H180v160Zm440 0h160v-160H620v160ZM180-180h160v-160H180v160Zm440 0h160v-160H620v160Z\"/>\n",
              "  </svg>\n",
              "    </button>\n",
              "\n",
              "  <style>\n",
              "    .colab-df-container {\n",
              "      display:flex;\n",
              "      gap: 12px;\n",
              "    }\n",
              "\n",
              "    .colab-df-convert {\n",
              "      background-color: #E8F0FE;\n",
              "      border: none;\n",
              "      border-radius: 50%;\n",
              "      cursor: pointer;\n",
              "      display: none;\n",
              "      fill: #1967D2;\n",
              "      height: 32px;\n",
              "      padding: 0 0 0 0;\n",
              "      width: 32px;\n",
              "    }\n",
              "\n",
              "    .colab-df-convert:hover {\n",
              "      background-color: #E2EBFA;\n",
              "      box-shadow: 0px 1px 2px rgba(60, 64, 67, 0.3), 0px 1px 3px 1px rgba(60, 64, 67, 0.15);\n",
              "      fill: #174EA6;\n",
              "    }\n",
              "\n",
              "    .colab-df-buttons div {\n",
              "      margin-bottom: 4px;\n",
              "    }\n",
              "\n",
              "    [theme=dark] .colab-df-convert {\n",
              "      background-color: #3B4455;\n",
              "      fill: #D2E3FC;\n",
              "    }\n",
              "\n",
              "    [theme=dark] .colab-df-convert:hover {\n",
              "      background-color: #434B5C;\n",
              "      box-shadow: 0px 1px 3px 1px rgba(0, 0, 0, 0.15);\n",
              "      filter: drop-shadow(0px 1px 2px rgba(0, 0, 0, 0.3));\n",
              "      fill: #FFFFFF;\n",
              "    }\n",
              "  </style>\n",
              "\n",
              "    <script>\n",
              "      const buttonEl =\n",
              "        document.querySelector('#df-ff887f26-1e21-49a6-ae21-deef570d2701 button.colab-df-convert');\n",
              "      buttonEl.style.display =\n",
              "        google.colab.kernel.accessAllowed ? 'block' : 'none';\n",
              "\n",
              "      async function convertToInteractive(key) {\n",
              "        const element = document.querySelector('#df-ff887f26-1e21-49a6-ae21-deef570d2701');\n",
              "        const dataTable =\n",
              "          await google.colab.kernel.invokeFunction('convertToInteractive',\n",
              "                                                    [key], {});\n",
              "        if (!dataTable) return;\n",
              "\n",
              "        const docLinkHtml = 'Like what you see? Visit the ' +\n",
              "          '<a target=\"_blank\" href=https://colab.research.google.com/notebooks/data_table.ipynb>data table notebook</a>'\n",
              "          + ' to learn more about interactive tables.';\n",
              "        element.innerHTML = '';\n",
              "        dataTable['output_type'] = 'display_data';\n",
              "        await google.colab.output.renderOutput(dataTable, element);\n",
              "        const docLink = document.createElement('div');\n",
              "        docLink.innerHTML = docLinkHtml;\n",
              "        element.appendChild(docLink);\n",
              "      }\n",
              "    </script>\n",
              "  </div>\n",
              "\n",
              "\n",
              "<div id=\"df-2a461dfd-d41b-44a6-b3db-6150690128fc\">\n",
              "  <button class=\"colab-df-quickchart\" onclick=\"quickchart('df-2a461dfd-d41b-44a6-b3db-6150690128fc')\"\n",
              "            title=\"Suggest charts\"\n",
              "            style=\"display:none;\">\n",
              "\n",
              "<svg xmlns=\"http://www.w3.org/2000/svg\" height=\"24px\"viewBox=\"0 0 24 24\"\n",
              "     width=\"24px\">\n",
              "    <g>\n",
              "        <path d=\"M19 3H5c-1.1 0-2 .9-2 2v14c0 1.1.9 2 2 2h14c1.1 0 2-.9 2-2V5c0-1.1-.9-2-2-2zM9 17H7v-7h2v7zm4 0h-2V7h2v10zm4 0h-2v-4h2v4z\"/>\n",
              "    </g>\n",
              "</svg>\n",
              "  </button>\n",
              "\n",
              "<style>\n",
              "  .colab-df-quickchart {\n",
              "      --bg-color: #E8F0FE;\n",
              "      --fill-color: #1967D2;\n",
              "      --hover-bg-color: #E2EBFA;\n",
              "      --hover-fill-color: #174EA6;\n",
              "      --disabled-fill-color: #AAA;\n",
              "      --disabled-bg-color: #DDD;\n",
              "  }\n",
              "\n",
              "  [theme=dark] .colab-df-quickchart {\n",
              "      --bg-color: #3B4455;\n",
              "      --fill-color: #D2E3FC;\n",
              "      --hover-bg-color: #434B5C;\n",
              "      --hover-fill-color: #FFFFFF;\n",
              "      --disabled-bg-color: #3B4455;\n",
              "      --disabled-fill-color: #666;\n",
              "  }\n",
              "\n",
              "  .colab-df-quickchart {\n",
              "    background-color: var(--bg-color);\n",
              "    border: none;\n",
              "    border-radius: 50%;\n",
              "    cursor: pointer;\n",
              "    display: none;\n",
              "    fill: var(--fill-color);\n",
              "    height: 32px;\n",
              "    padding: 0;\n",
              "    width: 32px;\n",
              "  }\n",
              "\n",
              "  .colab-df-quickchart:hover {\n",
              "    background-color: var(--hover-bg-color);\n",
              "    box-shadow: 0 1px 2px rgba(60, 64, 67, 0.3), 0 1px 3px 1px rgba(60, 64, 67, 0.15);\n",
              "    fill: var(--button-hover-fill-color);\n",
              "  }\n",
              "\n",
              "  .colab-df-quickchart-complete:disabled,\n",
              "  .colab-df-quickchart-complete:disabled:hover {\n",
              "    background-color: var(--disabled-bg-color);\n",
              "    fill: var(--disabled-fill-color);\n",
              "    box-shadow: none;\n",
              "  }\n",
              "\n",
              "  .colab-df-spinner {\n",
              "    border: 2px solid var(--fill-color);\n",
              "    border-color: transparent;\n",
              "    border-bottom-color: var(--fill-color);\n",
              "    animation:\n",
              "      spin 1s steps(1) infinite;\n",
              "  }\n",
              "\n",
              "  @keyframes spin {\n",
              "    0% {\n",
              "      border-color: transparent;\n",
              "      border-bottom-color: var(--fill-color);\n",
              "      border-left-color: var(--fill-color);\n",
              "    }\n",
              "    20% {\n",
              "      border-color: transparent;\n",
              "      border-left-color: var(--fill-color);\n",
              "      border-top-color: var(--fill-color);\n",
              "    }\n",
              "    30% {\n",
              "      border-color: transparent;\n",
              "      border-left-color: var(--fill-color);\n",
              "      border-top-color: var(--fill-color);\n",
              "      border-right-color: var(--fill-color);\n",
              "    }\n",
              "    40% {\n",
              "      border-color: transparent;\n",
              "      border-right-color: var(--fill-color);\n",
              "      border-top-color: var(--fill-color);\n",
              "    }\n",
              "    60% {\n",
              "      border-color: transparent;\n",
              "      border-right-color: var(--fill-color);\n",
              "    }\n",
              "    80% {\n",
              "      border-color: transparent;\n",
              "      border-right-color: var(--fill-color);\n",
              "      border-bottom-color: var(--fill-color);\n",
              "    }\n",
              "    90% {\n",
              "      border-color: transparent;\n",
              "      border-bottom-color: var(--fill-color);\n",
              "    }\n",
              "  }\n",
              "</style>\n",
              "\n",
              "  <script>\n",
              "    async function quickchart(key) {\n",
              "      const quickchartButtonEl =\n",
              "        document.querySelector('#' + key + ' button');\n",
              "      quickchartButtonEl.disabled = true;  // To prevent multiple clicks.\n",
              "      quickchartButtonEl.classList.add('colab-df-spinner');\n",
              "      try {\n",
              "        const charts = await google.colab.kernel.invokeFunction(\n",
              "            'suggestCharts', [key], {});\n",
              "      } catch (error) {\n",
              "        console.error('Error during call to suggestCharts:', error);\n",
              "      }\n",
              "      quickchartButtonEl.classList.remove('colab-df-spinner');\n",
              "      quickchartButtonEl.classList.add('colab-df-quickchart-complete');\n",
              "    }\n",
              "    (() => {\n",
              "      let quickchartButtonEl =\n",
              "        document.querySelector('#df-2a461dfd-d41b-44a6-b3db-6150690128fc button');\n",
              "      quickchartButtonEl.style.display =\n",
              "        google.colab.kernel.accessAllowed ? 'block' : 'none';\n",
              "    })();\n",
              "  </script>\n",
              "</div>\n",
              "\n",
              "    </div>\n",
              "  </div>\n"
            ],
            "text/plain": [
              "   User-ID                            Location   Age\n",
              "0        1                  nyc, new york, usa   NaN\n",
              "1        2           stockton, california, usa  18.0\n",
              "2        3     moscow, yukon territory, russia   NaN\n",
              "3        4           porto, v.n.gaia, portugal  17.0\n",
              "4        5  farnborough, hants, united kingdom   NaN"
            ]
          },
          "execution_count": 42,
          "metadata": {},
          "output_type": "execute_result"
        }
      ],
      "source": [
        "users.head()"
      ]
    },
    {
      "cell_type": "code",
      "execution_count": 43,
      "metadata": {
        "colab": {
          "base_uri": "https://localhost:8080/",
          "height": 487
        },
        "id": "Bftu7iQuxvu2",
        "outputId": "8c584613-4ee2-408f-da6d-f248f03899d3"
      },
      "outputs": [
        {
          "data": {
            "image/png": "[encoded data removed]",
            "text/plain": [
              "<Figure size 1000x500 with 1 Axes>"
            ]
          },
          "metadata": {},
          "output_type": "display_data"
        }
      ],
      "source": [
        "plt.figure(figsize=(10, 5))\n",
        "sns.histplot(users[\"Age\"].dropna(), bins=30, kde=True)\n",
        "plt.xlabel(\"User Age\")\n",
        "plt.ylabel(\"Count\")\n",
        "plt.title(\"Distribution of User Ages\")\n",
        "plt.show()"
      ]
    },
    {
      "cell_type": "markdown",
      "metadata": {},
      "source": [
        "Berdasarkan visualisasi data di atas, kita dapat melihat bahwa mayoritas pengguna berusia antara 20-30 tahun, dengan rentang data yang sangat jauh dari 0 hingga 244."
      ]
    },
    {
      "cell_type": "code",
      "execution_count": 44,
      "metadata": {
        "colab": {
          "base_uri": "https://localhost:8080/",
          "height": 487
        },
        "id": "9yrzi-YTyBMF",
        "outputId": "c5144602-d72e-4e65-a00e-53a717dcf3c9"
      },
      "outputs": [
        {
          "data": {
            "image/png": "[encoded data removed]",
            "text/plain": [
              "<Figure size 1000x500 with 1 Axes>"
            ]
          },
          "metadata": {},
          "output_type": "display_data"
        }
      ],
      "source": [
        "top_locations = users[\"Location\"].value_counts().head(10)\n",
        "plt.figure(figsize=(10, 5))\n",
        "sns.barplot(x=top_locations.values, y=top_locations.index, palette=\"magma\", hue=top_locations.index)\n",
        "plt.xlabel(\"Number of Users\")\n",
        "plt.ylabel(\"Location\")\n",
        "plt.title(\"Top 10 User Locations\")\n",
        "\n",
        "for i, v in enumerate(top_locations.values):\n",
        "    plt.text(v + 1, i, str(v), color='black', va='center')\n",
        "\n",
        "plt.show()"
      ]
    },
    {
      "cell_type": "markdown",
      "metadata": {},
      "source": [
        "Top 10 lokasi pengguna yang paling banyak terdaftar dalam dataset adalah `london, england, united kingdom` dengan jumlah 2506 pengguna."
      ]
    },
    {
      "cell_type": "markdown",
      "metadata": {
        "id": "rt4vndz83ovb"
      },
      "source": [
        "## Data Preparation\n",
        "\n",
        "Sebelum melakukan modeling, data harus bersih dan rapi terlebih dahulu, maka dari itu kita harus melakukan pembersihan data dari duplikasi, dan missing values."
      ]
    },
    {
      "cell_type": "markdown",
      "metadata": {
        "id": "FgOFeFQLysGe"
      },
      "source": [
        "### Books.csv\n",
        "\n",
        "Berdasarkan EDA yang telah dilakukan, terdapat beberapa missing values dalam data books.csv yaitu:\n",
        "- 2 missing values pada kolom `Book-Author`\n",
        "- 2 missing values pada kolom `Publisher`\n",
        "\n",
        "Selain itu, terdapat data yang tidak valid pada kolom `Year-Of-Publication` yaitu:\n",
        "- `DK Publishing Inc`\n",
        "- `Gallimard`\n",
        "- Tahun 0\n",
        "- Tahun 2037\n",
        "\n",
        "Mari kita lakukan pembersihan data. Untuk missing values pada kolom `Book-Author` dan `Publisher`, kita akan menghapusnya. Sedangkan untuk data yang tidak valid pada kolom `Year-Of-Publication`, kita akan menghapus data yang bukan rentang dari tahun 1960 hingga 2025. Hal ini dilakukan karena data yang tidak valid tersebut hanya sedikit dan tidak akan mempengaruhi hasil rekomendasi."
      ]
    },
    {
      "cell_type": "code",
      "execution_count": 3,
      "metadata": {
        "colab": {
          "base_uri": "https://localhost:8080/"
        },
        "id": "osZ4cWu-3KKO",
        "outputId": "0476f7a8-4e6e-4a56-9f77-dd59cd22837a"
      },
      "outputs": [
        {
          "name": "stdout",
          "output_type": "stream",
          "text": [
            "Missing Values in Books:\n",
            " ISBN                   0\n",
            "Book-Title             0\n",
            "Book-Author            2\n",
            "Year-Of-Publication    0\n",
            "Publisher              2\n",
            "dtype: int64 \n",
            "\n",
            "Duplicated Data in Books:\n",
            " 0\n"
          ]
        }
      ],
      "source": [
        "print(\"Missing Values in Books:\\n\", books.isnull().sum(), \"\\n\")\n",
        "print(\"Duplicated Data in Books:\\n\", books.duplicated().sum())"
      ]
    },
    {
      "cell_type": "code",
      "execution_count": null,
      "metadata": {
        "colab": {
          "base_uri": "https://localhost:8080/"
        },
        "id": "C-0y7syz1M1H",
        "outputId": "7c33d96b-f379-4a39-d607-d5b5b45c1b39"
      },
      "outputs": [
        {
          "name": "stderr",
          "output_type": "stream",
          "text": [
            "<ipython-input-4-a864fd9c8f8b>:4: SettingWithCopyWarning: \n",
            "A value is trying to be set on a copy of a slice from a DataFrame.\n",
            "Try using .loc[row_indexer,col_indexer] = value instead\n",
            "\n",
            "See the caveats in the documentation: https://pandas.pydata.org/pandas-docs/stable/user_guide/indexing.html#returning-a-view-versus-a-copy\n",
            "  books['Year-Of-Publication'] = books['Year-Of-Publication'].astype(int)\n"
          ]
        }
      ],
      "source": [
        "# Handle invalid 'Year-Of-Publication' values\n",
        "books['Year-Of-Publication'] = pd.to_numeric(books['Year-Of-Publication'], errors='coerce')\n",
        "books = books.dropna(subset=['Year-Of-Publication'])\n",
        "books['Year-Of-Publication'] = books['Year-Of-Publication'].astype(int)\n",
        "# Filter books published between 1960 and 2025\n",
        "books = books[(books[\"Year-Of-Publication\"] >= 1960) & (books[\"Year-Of-Publication\"] <= 2025)]\n",
        "\n",
        "books = books.dropna()\n",
        "books = books.drop_duplicates()"
      ]
    },
    {
      "cell_type": "markdown",
      "metadata": {
        "id": "lB0H2dqX8cCj"
      },
      "source": [
        "Setelah selesai melakukan pemberishan, mari kita cek sekali lagi apakah masih terdapat missing values atau tidak"
      ]
    },
    {
      "cell_type": "code",
      "execution_count": null,
      "metadata": {
        "colab": {
          "base_uri": "https://localhost:8080/",
          "height": 241
        },
        "id": "KvvAizUh-dar",
        "outputId": "bf092e16-c499-402c-9291-25cddfb3a55e"
      },
      "outputs": [
        {
          "data": {
            "text/html": [
              "<div>\n",
              "<style scoped>\n",
              "    .dataframe tbody tr th:only-of-type {\n",
              "        vertical-align: middle;\n",
              "    }\n",
              "\n",
              "    .dataframe tbody tr th {\n",
              "        vertical-align: top;\n",
              "    }\n",
              "\n",
              "    .dataframe thead th {\n",
              "        text-align: right;\n",
              "    }\n",
              "</style>\n",
              "<table border=\"1\" class=\"dataframe\">\n",
              "  <thead>\n",
              "    <tr style=\"text-align: right;\">\n",
              "      <th></th>\n",
              "      <th>0</th>\n",
              "    </tr>\n",
              "  </thead>\n",
              "  <tbody>\n",
              "    <tr>\n",
              "      <th>ISBN</th>\n",
              "      <td>0</td>\n",
              "    </tr>\n",
              "    <tr>\n",
              "      <th>Book-Title</th>\n",
              "      <td>0</td>\n",
              "    </tr>\n",
              "    <tr>\n",
              "      <th>Book-Author</th>\n",
              "      <td>0</td>\n",
              "    </tr>\n",
              "    <tr>\n",
              "      <th>Year-Of-Publication</th>\n",
              "      <td>0</td>\n",
              "    </tr>\n",
              "    <tr>\n",
              "      <th>Publisher</th>\n",
              "      <td>0</td>\n",
              "    </tr>\n",
              "  </tbody>\n",
              "</table>\n",
              "</div><br><label><b>dtype:</b> int64</label>"
            ],
            "text/plain": [
              "ISBN                   0\n",
              "Book-Title             0\n",
              "Book-Author            0\n",
              "Year-Of-Publication    0\n",
              "Publisher              0\n",
              "dtype: int64"
            ]
          },
          "execution_count": 5,
          "metadata": {},
          "output_type": "execute_result"
        }
      ],
      "source": [
        "# Missing Values data books\n",
        "books.isnull().sum()"
      ]
    },
    {
      "cell_type": "code",
      "execution_count": null,
      "metadata": {
        "colab": {
          "base_uri": "https://localhost:8080/"
        },
        "id": "EJtTiCGF4wRL",
        "outputId": "a3f2811d-8544-42dd-9a4a-51393470776c"
      },
      "outputs": [
        {
          "data": {
            "text/plain": [
              "0"
            ]
          },
          "execution_count": 6,
          "metadata": {},
          "output_type": "execute_result"
        }
      ],
      "source": [
        "# Duplicated data books\n",
        "books.duplicated().sum()"
      ]
    },
    {
      "cell_type": "code",
      "execution_count": 7,
      "metadata": {
        "colab": {
          "base_uri": "https://localhost:8080/"
        },
        "id": "ItN2qKLP13V2",
        "outputId": "3e34e2e1-cefc-451f-f6a6-b4cad1981598"
      },
      "outputs": [
        {
          "name": "stdout",
          "output_type": "stream",
          "text": [
            "[2002 2001 1991 1999 2000 1993 1996 1988 2004 1998 1994 2003 1997 1983\n",
            " 1979 1995 1982 1985 1992 1986 1978 1980 1987 1990 1981 1989 1984 1968\n",
            " 1961 1974 1976 1971 1977 1975 1965 1970 1962 1973 1972 1960 1966 1963\n",
            " 1964 1969 1967 2005 2011 2020 2010 2021 2012 2006 2008 2024]\n"
          ]
        }
      ],
      "source": [
        "# Mengecek nilai unik di kolom 'Year-Of-Publication'\n",
        "print(books['Year-Of-Publication'].unique())"
      ]
    },
    {
      "cell_type": "markdown",
      "metadata": {},
      "source": [
        "Sekarang, data sudah bersih mari kita lakukan visualisasi data untuk melihat distribusi data kembali."
      ]
    },
    {
      "cell_type": "markdown",
      "metadata": {
        "id": "zrcpE7UW2GHF"
      },
      "source": [
        "#### Advanced EDA After Cleaning"
      ]
    },
    {
      "cell_type": "code",
      "execution_count": 50,
      "metadata": {
        "colab": {
          "base_uri": "https://localhost:8080/",
          "height": 487
        },
        "id": "RFBZWZUI2LaG",
        "outputId": "60a23e83-5d08-4e73-8c16-4d50f0b4be49"
      },
      "outputs": [
        {
          "data": {
            "image/png": "[encoded data removed]",
            "text/plain": [
              "<Figure size 1000x500 with 1 Axes>"
            ]
          },
          "metadata": {},
          "output_type": "display_data"
        }
      ],
      "source": [
        "plt.figure(figsize=(10, 5))\n",
        "sns.histplot(books['Year-Of-Publication'], bins=50, kde=True)\n",
        "plt.xlabel(\"Year of Publication\")\n",
        "plt.ylabel(\"Count\")\n",
        "plt.title(\"Distribution of Book Publication Years\")\n",
        "plt.show()"
      ]
    },
    {
      "cell_type": "markdown",
      "metadata": {},
      "source": [
        "Sekarang kita dapat melihat distribusi data yang lebih baik setelah melakukan cleaning data. Distribusi data pada kolom `Year-Of-Publication` menunjukan rentang tahun yang lebih konsisten, dengan konsentrasi data pada tahun 2000an."
      ]
    },
    {
      "cell_type": "code",
      "execution_count": 51,
      "metadata": {
        "colab": {
          "base_uri": "https://localhost:8080/",
          "height": 487
        },
        "id": "DV55K81j2Vzt",
        "outputId": "69d08a29-2302-4b85-9fee-0ddbfece000b"
      },
      "outputs": [
        {
          "data": {
            "image/png": "[encoded data removed]",
            "text/plain": [
              "<Figure size 1000x500 with 1 Axes>"
            ]
          },
          "metadata": {},
          "output_type": "display_data"
        }
      ],
      "source": [
        "# Top 10 Publisher\n",
        "top_publishers = books['Publisher'].value_counts().head(10)\n",
        "plt.figure(figsize=(10, 5))\n",
        "sns.barplot(x=top_publishers.values, y=top_publishers.index, palette=\"viridis\", hue=top_publishers.index)\n",
        "plt.xlabel(\"Number of Books\")\n",
        "plt.ylabel(\"Publisher\")\n",
        "plt.title(\"Top 10 Publishers by Number of Books\")\n",
        "\n",
        "for i, v in enumerate(top_publishers.values):\n",
        "    plt.text(v + 1, i, str(v), color='black', va='center')\n",
        "\n",
        "plt.show()"
      ]
    },
    {
      "cell_type": "markdown",
      "metadata": {},
      "source": [
        "Setelah dilakukan cleaning data, publisher `Harlequin` masih menjadi publisher yang paling banyak menerbitkan buku dengan jumlah 7534 buku."
      ]
    },
    {
      "cell_type": "code",
      "execution_count": 52,
      "metadata": {
        "colab": {
          "base_uri": "https://localhost:8080/",
          "height": 487
        },
        "id": "BiVRg_pe2WVG",
        "outputId": "66fd8060-415e-477b-991d-2ae2a99b1310"
      },
      "outputs": [
        {
          "data": {
            "image/png": "[encoded data removed]",
            "text/plain": [
              "<Figure size 1000x500 with 1 Axes>"
            ]
          },
          "metadata": {},
          "output_type": "display_data"
        }
      ],
      "source": [
        "# Top 10 Author\n",
        "top_authors = books['Book-Author'].value_counts().head(10)\n",
        "plt.figure(figsize=(10, 5))\n",
        "sns.barplot(x=top_authors.values, y=top_authors.index, palette=\"viridis\", hue=top_authors.index)\n",
        "plt.xlabel(\"Number of Books\")\n",
        "plt.ylabel(\"Author\")\n",
        "plt.title(\"Top 10 Authors by Number of Books\")\n",
        "\n",
        "for i, v in enumerate(top_authors.values):\n",
        "    plt.text(v + 1, i, str(v), color='black', va='center')\n",
        "\n",
        "plt.show()\n"
      ]
    },
    {
      "cell_type": "markdown",
      "metadata": {},
      "source": [
        "Begitupun dengan author `Agatha Christie` masih menjadi author yang paling banyak menerbitkan buku dengan jumlah 594 buku meskipun mengalami penurunan."
      ]
    },
    {
      "cell_type": "markdown",
      "metadata": {
        "id": "o-ucajOqy1bu"
      },
      "source": [
        "### Ratings.csv\n",
        "\n",
        "Berdasarkan EDA yang telah dilakukan, tidak terdapat missing values dan duplicated data pada file ratings.csv. Namun, terdapat 716.109 data rating 0, artinya tidak relevan karena user tersebut belum memberikan rating pada buku tersebut. Data ini tidak relevan untuk digunakan dalam sistem rekomendasi, maka kita akan menghapus data tersebut."
      ]
    },
    {
      "cell_type": "code",
      "execution_count": 8,
      "metadata": {
        "colab": {
          "base_uri": "https://localhost:8080/"
        },
        "id": "4IC_1bc026AW",
        "outputId": "f578c9e7-81d5-4fe9-9087-cb796e6f95ee"
      },
      "outputs": [
        {
          "name": "stdout",
          "output_type": "stream",
          "text": [
            "Missing Values in Ratings:\n",
            " User-ID        0\n",
            "ISBN           0\n",
            "Book-Rating    0\n",
            "dtype: int64 \n",
            "\n",
            "Duplicated Data in Ratings:\n",
            " 0\n"
          ]
        }
      ],
      "source": [
        "print(\"Missing Values in Ratings:\\n\", ratings.isnull().sum(), \"\\n\")\n",
        "print(\"Duplicated Data in Ratings:\\n\", ratings.duplicated().sum())"
      ]
    },
    {
      "cell_type": "code",
      "execution_count": null,
      "metadata": {
        "colab": {
          "base_uri": "https://localhost:8080/"
        },
        "id": "2_r-fM4a3QwN",
        "outputId": "1426fe02-ec44-4b13-d1b3-096ea675d015"
      },
      "outputs": [
        {
          "data": {
            "text/plain": [
              "(433671, 3)"
            ]
          },
          "execution_count": 9,
          "metadata": {},
          "output_type": "execute_result"
        }
      ],
      "source": [
        "# Drop rows where 'Book-Rating' is 0\n",
        "ratings = ratings[ratings['Book-Rating'] != 0]\n",
        "ratings.shape"
      ]
    },
    {
      "cell_type": "code",
      "execution_count": 10,
      "metadata": {
        "colab": {
          "base_uri": "https://localhost:8080/",
          "height": 300
        },
        "id": "wjki4iwL-P61",
        "outputId": "363be684-e6f3-45e7-f84d-57365724e847"
      },
      "outputs": [
        {
          "data": {
            "application/vnd.google.colaboratory.intrinsic+json": {
              "summary": "{\n  \"name\": \"ratings\",\n  \"rows\": 8,\n  \"fields\": [\n    {\n      \"column\": \"User-ID\",\n      \"properties\": {\n        \"dtype\": \"number\",\n        \"std\": 137673.1147008922,\n        \"min\": 8.0,\n        \"max\": 433671.0,\n        \"num_unique_values\": 8,\n        \"samples\": [\n          135458.74345068034,\n          133184.0,\n          433671.0\n        ],\n        \"semantic_type\": \"\",\n        \"description\": \"\"\n      }\n    },\n    {\n      \"column\": \"Book-Rating\",\n      \"properties\": {\n        \"dtype\": \"number\",\n        \"std\": 153323.6076818253,\n        \"min\": 1.0,\n        \"max\": 433671.0,\n        \"num_unique_values\": 8,\n        \"samples\": [\n          7.601066246071331,\n          8.0,\n          433671.0\n        ],\n        \"semantic_type\": \"\",\n        \"description\": \"\"\n      }\n    }\n  ]\n}",
              "type": "dataframe"
            },
            "text/html": [
              "\n",
              "  <div id=\"df-66065816-9dab-4d4d-91cd-5ab0aefba18d\" class=\"colab-df-container\">\n",
              "    <div>\n",
              "<style scoped>\n",
              "    .dataframe tbody tr th:only-of-type {\n",
              "        vertical-align: middle;\n",
              "    }\n",
              "\n",
              "    .dataframe tbody tr th {\n",
              "        vertical-align: top;\n",
              "    }\n",
              "\n",
              "    .dataframe thead th {\n",
              "        text-align: right;\n",
              "    }\n",
              "</style>\n",
              "<table border=\"1\" class=\"dataframe\">\n",
              "  <thead>\n",
              "    <tr style=\"text-align: right;\">\n",
              "      <th></th>\n",
              "      <th>User-ID</th>\n",
              "      <th>Book-Rating</th>\n",
              "    </tr>\n",
              "  </thead>\n",
              "  <tbody>\n",
              "    <tr>\n",
              "      <th>count</th>\n",
              "      <td>433671.000000</td>\n",
              "      <td>433671.000000</td>\n",
              "    </tr>\n",
              "    <tr>\n",
              "      <th>mean</th>\n",
              "      <td>135458.743451</td>\n",
              "      <td>7.601066</td>\n",
              "    </tr>\n",
              "    <tr>\n",
              "      <th>std</th>\n",
              "      <td>80678.385078</td>\n",
              "      <td>1.843798</td>\n",
              "    </tr>\n",
              "    <tr>\n",
              "      <th>min</th>\n",
              "      <td>8.000000</td>\n",
              "      <td>1.000000</td>\n",
              "    </tr>\n",
              "    <tr>\n",
              "      <th>25%</th>\n",
              "      <td>66619.000000</td>\n",
              "      <td>7.000000</td>\n",
              "    </tr>\n",
              "    <tr>\n",
              "      <th>50%</th>\n",
              "      <td>133184.000000</td>\n",
              "      <td>8.000000</td>\n",
              "    </tr>\n",
              "    <tr>\n",
              "      <th>75%</th>\n",
              "      <td>205735.000000</td>\n",
              "      <td>9.000000</td>\n",
              "    </tr>\n",
              "    <tr>\n",
              "      <th>max</th>\n",
              "      <td>278854.000000</td>\n",
              "      <td>10.000000</td>\n",
              "    </tr>\n",
              "  </tbody>\n",
              "</table>\n",
              "</div>\n",
              "    <div class=\"colab-df-buttons\">\n",
              "\n",
              "  <div class=\"colab-df-container\">\n",
              "    <button class=\"colab-df-convert\" onclick=\"convertToInteractive('df-66065816-9dab-4d4d-91cd-5ab0aefba18d')\"\n",
              "            title=\"Convert this dataframe to an interactive table.\"\n",
              "            style=\"display:none;\">\n",
              "\n",
              "  <svg xmlns=\"http://www.w3.org/2000/svg\" height=\"24px\" viewBox=\"0 -960 960 960\">\n",
              "    <path d=\"M120-120v-720h720v720H120Zm60-500h600v-160H180v160Zm220 220h160v-160H400v160Zm0 220h160v-160H400v160ZM180-400h160v-160H180v160Zm440 0h160v-160H620v160ZM180-180h160v-160H180v160Zm440 0h160v-160H620v160Z\"/>\n",
              "  </svg>\n",
              "    </button>\n",
              "\n",
              "  <style>\n",
              "    .colab-df-container {\n",
              "      display:flex;\n",
              "      gap: 12px;\n",
              "    }\n",
              "\n",
              "    .colab-df-convert {\n",
              "      background-color: #E8F0FE;\n",
              "      border: none;\n",
              "      border-radius: 50%;\n",
              "      cursor: pointer;\n",
              "      display: none;\n",
              "      fill: #1967D2;\n",
              "      height: 32px;\n",
              "      padding: 0 0 0 0;\n",
              "      width: 32px;\n",
              "    }\n",
              "\n",
              "    .colab-df-convert:hover {\n",
              "      background-color: #E2EBFA;\n",
              "      box-shadow: 0px 1px 2px rgba(60, 64, 67, 0.3), 0px 1px 3px 1px rgba(60, 64, 67, 0.15);\n",
              "      fill: #174EA6;\n",
              "    }\n",
              "\n",
              "    .colab-df-buttons div {\n",
              "      margin-bottom: 4px;\n",
              "    }\n",
              "\n",
              "    [theme=dark] .colab-df-convert {\n",
              "      background-color: #3B4455;\n",
              "      fill: #D2E3FC;\n",
              "    }\n",
              "\n",
              "    [theme=dark] .colab-df-convert:hover {\n",
              "      background-color: #434B5C;\n",
              "      box-shadow: 0px 1px 3px 1px rgba(0, 0, 0, 0.15);\n",
              "      filter: drop-shadow(0px 1px 2px rgba(0, 0, 0, 0.3));\n",
              "      fill: #FFFFFF;\n",
              "    }\n",
              "  </style>\n",
              "\n",
              "    <script>\n",
              "      const buttonEl =\n",
              "        document.querySelector('#df-66065816-9dab-4d4d-91cd-5ab0aefba18d button.colab-df-convert');\n",
              "      buttonEl.style.display =\n",
              "        google.colab.kernel.accessAllowed ? 'block' : 'none';\n",
              "\n",
              "      async function convertToInteractive(key) {\n",
              "        const element = document.querySelector('#df-66065816-9dab-4d4d-91cd-5ab0aefba18d');\n",
              "        const dataTable =\n",
              "          await google.colab.kernel.invokeFunction('convertToInteractive',\n",
              "                                                    [key], {});\n",
              "        if (!dataTable) return;\n",
              "\n",
              "        const docLinkHtml = 'Like what you see? Visit the ' +\n",
              "          '<a target=\"_blank\" href=https://colab.research.google.com/notebooks/data_table.ipynb>data table notebook</a>'\n",
              "          + ' to learn more about interactive tables.';\n",
              "        element.innerHTML = '';\n",
              "        dataTable['output_type'] = 'display_data';\n",
              "        await google.colab.output.renderOutput(dataTable, element);\n",
              "        const docLink = document.createElement('div');\n",
              "        docLink.innerHTML = docLinkHtml;\n",
              "        element.appendChild(docLink);\n",
              "      }\n",
              "    </script>\n",
              "  </div>\n",
              "\n",
              "\n",
              "<div id=\"df-6a3a7e5a-026d-4043-8dcd-dd5d3e746b9c\">\n",
              "  <button class=\"colab-df-quickchart\" onclick=\"quickchart('df-6a3a7e5a-026d-4043-8dcd-dd5d3e746b9c')\"\n",
              "            title=\"Suggest charts\"\n",
              "            style=\"display:none;\">\n",
              "\n",
              "<svg xmlns=\"http://www.w3.org/2000/svg\" height=\"24px\"viewBox=\"0 0 24 24\"\n",
              "     width=\"24px\">\n",
              "    <g>\n",
              "        <path d=\"M19 3H5c-1.1 0-2 .9-2 2v14c0 1.1.9 2 2 2h14c1.1 0 2-.9 2-2V5c0-1.1-.9-2-2-2zM9 17H7v-7h2v7zm4 0h-2V7h2v10zm4 0h-2v-4h2v4z\"/>\n",
              "    </g>\n",
              "</svg>\n",
              "  </button>\n",
              "\n",
              "<style>\n",
              "  .colab-df-quickchart {\n",
              "      --bg-color: #E8F0FE;\n",
              "      --fill-color: #1967D2;\n",
              "      --hover-bg-color: #E2EBFA;\n",
              "      --hover-fill-color: #174EA6;\n",
              "      --disabled-fill-color: #AAA;\n",
              "      --disabled-bg-color: #DDD;\n",
              "  }\n",
              "\n",
              "  [theme=dark] .colab-df-quickchart {\n",
              "      --bg-color: #3B4455;\n",
              "      --fill-color: #D2E3FC;\n",
              "      --hover-bg-color: #434B5C;\n",
              "      --hover-fill-color: #FFFFFF;\n",
              "      --disabled-bg-color: #3B4455;\n",
              "      --disabled-fill-color: #666;\n",
              "  }\n",
              "\n",
              "  .colab-df-quickchart {\n",
              "    background-color: var(--bg-color);\n",
              "    border: none;\n",
              "    border-radius: 50%;\n",
              "    cursor: pointer;\n",
              "    display: none;\n",
              "    fill: var(--fill-color);\n",
              "    height: 32px;\n",
              "    padding: 0;\n",
              "    width: 32px;\n",
              "  }\n",
              "\n",
              "  .colab-df-quickchart:hover {\n",
              "    background-color: var(--hover-bg-color);\n",
              "    box-shadow: 0 1px 2px rgba(60, 64, 67, 0.3), 0 1px 3px 1px rgba(60, 64, 67, 0.15);\n",
              "    fill: var(--button-hover-fill-color);\n",
              "  }\n",
              "\n",
              "  .colab-df-quickchart-complete:disabled,\n",
              "  .colab-df-quickchart-complete:disabled:hover {\n",
              "    background-color: var(--disabled-bg-color);\n",
              "    fill: var(--disabled-fill-color);\n",
              "    box-shadow: none;\n",
              "  }\n",
              "\n",
              "  .colab-df-spinner {\n",
              "    border: 2px solid var(--fill-color);\n",
              "    border-color: transparent;\n",
              "    border-bottom-color: var(--fill-color);\n",
              "    animation:\n",
              "      spin 1s steps(1) infinite;\n",
              "  }\n",
              "\n",
              "  @keyframes spin {\n",
              "    0% {\n",
              "      border-color: transparent;\n",
              "      border-bottom-color: var(--fill-color);\n",
              "      border-left-color: var(--fill-color);\n",
              "    }\n",
              "    20% {\n",
              "      border-color: transparent;\n",
              "      border-left-color: var(--fill-color);\n",
              "      border-top-color: var(--fill-color);\n",
              "    }\n",
              "    30% {\n",
              "      border-color: transparent;\n",
              "      border-left-color: var(--fill-color);\n",
              "      border-top-color: var(--fill-color);\n",
              "      border-right-color: var(--fill-color);\n",
              "    }\n",
              "    40% {\n",
              "      border-color: transparent;\n",
              "      border-right-color: var(--fill-color);\n",
              "      border-top-color: var(--fill-color);\n",
              "    }\n",
              "    60% {\n",
              "      border-color: transparent;\n",
              "      border-right-color: var(--fill-color);\n",
              "    }\n",
              "    80% {\n",
              "      border-color: transparent;\n",
              "      border-right-color: var(--fill-color);\n",
              "      border-bottom-color: var(--fill-color);\n",
              "    }\n",
              "    90% {\n",
              "      border-color: transparent;\n",
              "      border-bottom-color: var(--fill-color);\n",
              "    }\n",
              "  }\n",
              "</style>\n",
              "\n",
              "  <script>\n",
              "    async function quickchart(key) {\n",
              "      const quickchartButtonEl =\n",
              "        document.querySelector('#' + key + ' button');\n",
              "      quickchartButtonEl.disabled = true;  // To prevent multiple clicks.\n",
              "      quickchartButtonEl.classList.add('colab-df-spinner');\n",
              "      try {\n",
              "        const charts = await google.colab.kernel.invokeFunction(\n",
              "            'suggestCharts', [key], {});\n",
              "      } catch (error) {\n",
              "        console.error('Error during call to suggestCharts:', error);\n",
              "      }\n",
              "      quickchartButtonEl.classList.remove('colab-df-spinner');\n",
              "      quickchartButtonEl.classList.add('colab-df-quickchart-complete');\n",
              "    }\n",
              "    (() => {\n",
              "      let quickchartButtonEl =\n",
              "        document.querySelector('#df-6a3a7e5a-026d-4043-8dcd-dd5d3e746b9c button');\n",
              "      quickchartButtonEl.style.display =\n",
              "        google.colab.kernel.accessAllowed ? 'block' : 'none';\n",
              "    })();\n",
              "  </script>\n",
              "</div>\n",
              "\n",
              "    </div>\n",
              "  </div>\n"
            ],
            "text/plain": [
              "             User-ID    Book-Rating\n",
              "count  433671.000000  433671.000000\n",
              "mean   135458.743451       7.601066\n",
              "std     80678.385078       1.843798\n",
              "min         8.000000       1.000000\n",
              "25%     66619.000000       7.000000\n",
              "50%    133184.000000       8.000000\n",
              "75%    205735.000000       9.000000\n",
              "max    278854.000000      10.000000"
            ]
          },
          "execution_count": 10,
          "metadata": {},
          "output_type": "execute_result"
        }
      ],
      "source": [
        "ratings.describe()"
      ]
    },
    {
      "cell_type": "markdown",
      "metadata": {},
      "source": [
        "Setelah melakukan pembersihan data, kita dapat melihat bahwa rata-rata rating yang diberikan oleh user adalah 7.6."
      ]
    },
    {
      "cell_type": "markdown",
      "metadata": {
        "id": "tt7YxyTO3eY9"
      },
      "source": [
        "#### Advanced EDA after cleaning"
      ]
    },
    {
      "cell_type": "code",
      "execution_count": 56,
      "metadata": {
        "colab": {
          "base_uri": "https://localhost:8080/",
          "height": 718
        },
        "id": "wpH0EYd13ggm",
        "outputId": "d8e61b83-c661-496d-f445-4b5ed0b0d20d"
      },
      "outputs": [
        {
          "data": {
            "image/png": "[encoded data removed]",
            "text/plain": [
              "<Figure size 1000x800 with 1 Axes>"
            ]
          },
          "metadata": {},
          "output_type": "display_data"
        }
      ],
      "source": [
        "plt.figure(figsize=(10, 8))\n",
        "ax = sns.countplot(x=ratings[\"Book-Rating\"], palette=\"coolwarm\", hue=ratings[\"Book-Rating\"])\n",
        "plt.xlabel(\"Book Rating\")\n",
        "plt.ylabel(\"Count\")\n",
        "plt.title(\"Distribution of Book Ratings\")\n",
        "plt.xticks(range(11))\n",
        "\n",
        "for p in ax.patches:\n",
        "    ax.annotate(f'{p.get_height()}', (p.get_x() + p.get_width() / 2., p.get_height()),\n",
        "                ha='center', va='center', xytext=(0, 10), textcoords='offset points')\n",
        "\n",
        "plt.show()"
      ]
    },
    {
      "cell_type": "markdown",
      "metadata": {},
      "source": [
        "Distribusi rating yang diberikan oleh user menunjukkan bahwa mayoritas user memberikan rating 8, diikuti oleh rating 10 dan rating 7."
      ]
    },
    {
      "cell_type": "markdown",
      "metadata": {
        "id": "PFqmeiDay4YN"
      },
      "source": [
        "### Users.csv\n",
        "\n",
        "Berdasarkan EDA yang telah dilakukan, terdapat missing values pada kolom `Age` sebanyak 110.762 data. Selain itu, data pada kolom `Age` memiliki rentang nilai yang tidak masuk akal yaitu dari 0 hingga 244. Kita akan melakukan cleaning data pada kolom `Age` dengan menghapus data yang tidak relevan dan mengisi missing values dengan median."
      ]
    },
    {
      "cell_type": "code",
      "execution_count": 10,
      "metadata": {
        "colab": {
          "base_uri": "https://localhost:8080/"
        },
        "id": "PGpthLJD30g9",
        "outputId": "fed551cd-9162-45ee-ba1f-9aff1d95559e"
      },
      "outputs": [
        {
          "name": "stdout",
          "output_type": "stream",
          "text": [
            "Missing Values in Users:\n",
            " User-ID          0\n",
            "Location         0\n",
            "Age         110762\n",
            "dtype: int64 \n",
            "\n",
            "Duplicated Data in Users:\n",
            " 0\n"
          ]
        }
      ],
      "source": [
        "print(\"Missing Values in Users:\\n\", users.isnull().sum(), \"\\n\")\n",
        "print(\"Duplicated Data in Users:\\n\", users.duplicated().sum())"
      ]
    },
    {
      "cell_type": "markdown",
      "metadata": {},
      "source": [
        "Kita hanya akan menggunakan data pengguna yang berusia antara 5 hingga 80 tahun, karena data di luar rentang tersebut tidak relevan dan mungkin merupakan data yang kurang valid."
      ]
    },
    {
      "cell_type": "code",
      "execution_count": 11,
      "metadata": {
        "colab": {
          "base_uri": "https://localhost:8080/"
        },
        "id": "ZNc8L8UX35pu",
        "outputId": "58210dab-caaf-4fc2-a970-7daebd71793e"
      },
      "outputs": [
        {
          "name": "stderr",
          "output_type": "stream",
          "text": [
            "<ipython-input-11-f6ffe211ec1d>:6: SettingWithCopyWarning: \n",
            "A value is trying to be set on a copy of a slice from a DataFrame.\n",
            "Try using .loc[row_indexer,col_indexer] = value instead\n",
            "\n",
            "See the caveats in the documentation: https://pandas.pydata.org/pandas-docs/stable/user_guide/indexing.html#returning-a-view-versus-a-copy\n",
            "  users['Age'] = users['Age'].fillna(median_age)\n"
          ]
        }
      ],
      "source": [
        "# Remove age outliers\n",
        "users = users[(users['Age'] >= 5) & (users['Age'] <= 80)]\n",
        "\n",
        "# Impute missing age values with the median\n",
        "median_age = round(users['Age'].median())\n",
        "users['Age'] = users['Age'].fillna(median_age)\n"
      ]
    },
    {
      "cell_type": "code",
      "execution_count": 13,
      "metadata": {
        "colab": {
          "base_uri": "https://localhost:8080/",
          "height": 300
        },
        "id": "kwtpIniR-l2N",
        "outputId": "1a9d672e-d20c-4200-8661-d43850a6f8ec"
      },
      "outputs": [
        {
          "data": {
            "application/vnd.google.colaboratory.intrinsic+json": {
              "summary": "{\n  \"name\": \"users\",\n  \"rows\": 8,\n  \"fields\": [\n    {\n      \"column\": \"User-ID\",\n      \"properties\": {\n        \"dtype\": \"number\",\n        \"std\": 86730.64404765377,\n        \"min\": 2.0,\n        \"max\": 278855.0,\n        \"num_unique_values\": 8,\n        \"samples\": [\n          139393.76410927335,\n          139358.0,\n          166628.0\n        ],\n        \"semantic_type\": \"\",\n        \"description\": \"\"\n      }\n    },\n    {\n      \"column\": \"Age\",\n      \"properties\": {\n        \"dtype\": \"number\",\n        \"std\": 58900.12089009459,\n        \"min\": 5.0,\n        \"max\": 166628.0,\n        \"num_unique_values\": 8,\n        \"samples\": [\n          34.678397388194064,\n          32.0,\n          166628.0\n        ],\n        \"semantic_type\": \"\",\n        \"description\": \"\"\n      }\n    }\n  ]\n}",
              "type": "dataframe"
            },
            "text/html": [
              "\n",
              "  <div id=\"df-da4df959-0dda-48d4-b3e0-7e931b629b19\" class=\"colab-df-container\">\n",
              "    <div>\n",
              "<style scoped>\n",
              "    .dataframe tbody tr th:only-of-type {\n",
              "        vertical-align: middle;\n",
              "    }\n",
              "\n",
              "    .dataframe tbody tr th {\n",
              "        vertical-align: top;\n",
              "    }\n",
              "\n",
              "    .dataframe thead th {\n",
              "        text-align: right;\n",
              "    }\n",
              "</style>\n",
              "<table border=\"1\" class=\"dataframe\">\n",
              "  <thead>\n",
              "    <tr style=\"text-align: right;\">\n",
              "      <th></th>\n",
              "      <th>User-ID</th>\n",
              "      <th>Age</th>\n",
              "    </tr>\n",
              "  </thead>\n",
              "  <tbody>\n",
              "    <tr>\n",
              "      <th>count</th>\n",
              "      <td>166628.000000</td>\n",
              "      <td>166628.000000</td>\n",
              "    </tr>\n",
              "    <tr>\n",
              "      <th>mean</th>\n",
              "      <td>139393.764109</td>\n",
              "      <td>34.678397</td>\n",
              "    </tr>\n",
              "    <tr>\n",
              "      <th>std</th>\n",
              "      <td>80553.911373</td>\n",
              "      <td>13.510476</td>\n",
              "    </tr>\n",
              "    <tr>\n",
              "      <th>min</th>\n",
              "      <td>2.000000</td>\n",
              "      <td>5.000000</td>\n",
              "    </tr>\n",
              "    <tr>\n",
              "      <th>25%</th>\n",
              "      <td>69912.500000</td>\n",
              "      <td>24.000000</td>\n",
              "    </tr>\n",
              "    <tr>\n",
              "      <th>50%</th>\n",
              "      <td>139358.000000</td>\n",
              "      <td>32.000000</td>\n",
              "    </tr>\n",
              "    <tr>\n",
              "      <th>75%</th>\n",
              "      <td>209156.500000</td>\n",
              "      <td>44.000000</td>\n",
              "    </tr>\n",
              "    <tr>\n",
              "      <th>max</th>\n",
              "      <td>278855.000000</td>\n",
              "      <td>80.000000</td>\n",
              "    </tr>\n",
              "  </tbody>\n",
              "</table>\n",
              "</div>\n",
              "    <div class=\"colab-df-buttons\">\n",
              "\n",
              "  <div class=\"colab-df-container\">\n",
              "    <button class=\"colab-df-convert\" onclick=\"convertToInteractive('df-da4df959-0dda-48d4-b3e0-7e931b629b19')\"\n",
              "            title=\"Convert this dataframe to an interactive table.\"\n",
              "            style=\"display:none;\">\n",
              "\n",
              "  <svg xmlns=\"http://www.w3.org/2000/svg\" height=\"24px\" viewBox=\"0 -960 960 960\">\n",
              "    <path d=\"M120-120v-720h720v720H120Zm60-500h600v-160H180v160Zm220 220h160v-160H400v160Zm0 220h160v-160H400v160ZM180-400h160v-160H180v160Zm440 0h160v-160H620v160ZM180-180h160v-160H180v160Zm440 0h160v-160H620v160Z\"/>\n",
              "  </svg>\n",
              "    </button>\n",
              "\n",
              "  <style>\n",
              "    .colab-df-container {\n",
              "      display:flex;\n",
              "      gap: 12px;\n",
              "    }\n",
              "\n",
              "    .colab-df-convert {\n",
              "      background-color: #E8F0FE;\n",
              "      border: none;\n",
              "      border-radius: 50%;\n",
              "      cursor: pointer;\n",
              "      display: none;\n",
              "      fill: #1967D2;\n",
              "      height: 32px;\n",
              "      padding: 0 0 0 0;\n",
              "      width: 32px;\n",
              "    }\n",
              "\n",
              "    .colab-df-convert:hover {\n",
              "      background-color: #E2EBFA;\n",
              "      box-shadow: 0px 1px 2px rgba(60, 64, 67, 0.3), 0px 1px 3px 1px rgba(60, 64, 67, 0.15);\n",
              "      fill: #174EA6;\n",
              "    }\n",
              "\n",
              "    .colab-df-buttons div {\n",
              "      margin-bottom: 4px;\n",
              "    }\n",
              "\n",
              "    [theme=dark] .colab-df-convert {\n",
              "      background-color: #3B4455;\n",
              "      fill: #D2E3FC;\n",
              "    }\n",
              "\n",
              "    [theme=dark] .colab-df-convert:hover {\n",
              "      background-color: #434B5C;\n",
              "      box-shadow: 0px 1px 3px 1px rgba(0, 0, 0, 0.15);\n",
              "      filter: drop-shadow(0px 1px 2px rgba(0, 0, 0, 0.3));\n",
              "      fill: #FFFFFF;\n",
              "    }\n",
              "  </style>\n",
              "\n",
              "    <script>\n",
              "      const buttonEl =\n",
              "        document.querySelector('#df-da4df959-0dda-48d4-b3e0-7e931b629b19 button.colab-df-convert');\n",
              "      buttonEl.style.display =\n",
              "        google.colab.kernel.accessAllowed ? 'block' : 'none';\n",
              "\n",
              "      async function convertToInteractive(key) {\n",
              "        const element = document.querySelector('#df-da4df959-0dda-48d4-b3e0-7e931b629b19');\n",
              "        const dataTable =\n",
              "          await google.colab.kernel.invokeFunction('convertToInteractive',\n",
              "                                                    [key], {});\n",
              "        if (!dataTable) return;\n",
              "\n",
              "        const docLinkHtml = 'Like what you see? Visit the ' +\n",
              "          '<a target=\"_blank\" href=https://colab.research.google.com/notebooks/data_table.ipynb>data table notebook</a>'\n",
              "          + ' to learn more about interactive tables.';\n",
              "        element.innerHTML = '';\n",
              "        dataTable['output_type'] = 'display_data';\n",
              "        await google.colab.output.renderOutput(dataTable, element);\n",
              "        const docLink = document.createElement('div');\n",
              "        docLink.innerHTML = docLinkHtml;\n",
              "        element.appendChild(docLink);\n",
              "      }\n",
              "    </script>\n",
              "  </div>\n",
              "\n",
              "\n",
              "<div id=\"df-a5b9f1f0-b86e-4e36-abe9-7ac47ec58709\">\n",
              "  <button class=\"colab-df-quickchart\" onclick=\"quickchart('df-a5b9f1f0-b86e-4e36-abe9-7ac47ec58709')\"\n",
              "            title=\"Suggest charts\"\n",
              "            style=\"display:none;\">\n",
              "\n",
              "<svg xmlns=\"http://www.w3.org/2000/svg\" height=\"24px\"viewBox=\"0 0 24 24\"\n",
              "     width=\"24px\">\n",
              "    <g>\n",
              "        <path d=\"M19 3H5c-1.1 0-2 .9-2 2v14c0 1.1.9 2 2 2h14c1.1 0 2-.9 2-2V5c0-1.1-.9-2-2-2zM9 17H7v-7h2v7zm4 0h-2V7h2v10zm4 0h-2v-4h2v4z\"/>\n",
              "    </g>\n",
              "</svg>\n",
              "  </button>\n",
              "\n",
              "<style>\n",
              "  .colab-df-quickchart {\n",
              "      --bg-color: #E8F0FE;\n",
              "      --fill-color: #1967D2;\n",
              "      --hover-bg-color: #E2EBFA;\n",
              "      --hover-fill-color: #174EA6;\n",
              "      --disabled-fill-color: #AAA;\n",
              "      --disabled-bg-color: #DDD;\n",
              "  }\n",
              "\n",
              "  [theme=dark] .colab-df-quickchart {\n",
              "      --bg-color: #3B4455;\n",
              "      --fill-color: #D2E3FC;\n",
              "      --hover-bg-color: #434B5C;\n",
              "      --hover-fill-color: #FFFFFF;\n",
              "      --disabled-bg-color: #3B4455;\n",
              "      --disabled-fill-color: #666;\n",
              "  }\n",
              "\n",
              "  .colab-df-quickchart {\n",
              "    background-color: var(--bg-color);\n",
              "    border: none;\n",
              "    border-radius: 50%;\n",
              "    cursor: pointer;\n",
              "    display: none;\n",
              "    fill: var(--fill-color);\n",
              "    height: 32px;\n",
              "    padding: 0;\n",
              "    width: 32px;\n",
              "  }\n",
              "\n",
              "  .colab-df-quickchart:hover {\n",
              "    background-color: var(--hover-bg-color);\n",
              "    box-shadow: 0 1px 2px rgba(60, 64, 67, 0.3), 0 1px 3px 1px rgba(60, 64, 67, 0.15);\n",
              "    fill: var(--button-hover-fill-color);\n",
              "  }\n",
              "\n",
              "  .colab-df-quickchart-complete:disabled,\n",
              "  .colab-df-quickchart-complete:disabled:hover {\n",
              "    background-color: var(--disabled-bg-color);\n",
              "    fill: var(--disabled-fill-color);\n",
              "    box-shadow: none;\n",
              "  }\n",
              "\n",
              "  .colab-df-spinner {\n",
              "    border: 2px solid var(--fill-color);\n",
              "    border-color: transparent;\n",
              "    border-bottom-color: var(--fill-color);\n",
              "    animation:\n",
              "      spin 1s steps(1) infinite;\n",
              "  }\n",
              "\n",
              "  @keyframes spin {\n",
              "    0% {\n",
              "      border-color: transparent;\n",
              "      border-bottom-color: var(--fill-color);\n",
              "      border-left-color: var(--fill-color);\n",
              "    }\n",
              "    20% {\n",
              "      border-color: transparent;\n",
              "      border-left-color: var(--fill-color);\n",
              "      border-top-color: var(--fill-color);\n",
              "    }\n",
              "    30% {\n",
              "      border-color: transparent;\n",
              "      border-left-color: var(--fill-color);\n",
              "      border-top-color: var(--fill-color);\n",
              "      border-right-color: var(--fill-color);\n",
              "    }\n",
              "    40% {\n",
              "      border-color: transparent;\n",
              "      border-right-color: var(--fill-color);\n",
              "      border-top-color: var(--fill-color);\n",
              "    }\n",
              "    60% {\n",
              "      border-color: transparent;\n",
              "      border-right-color: var(--fill-color);\n",
              "    }\n",
              "    80% {\n",
              "      border-color: transparent;\n",
              "      border-right-color: var(--fill-color);\n",
              "      border-bottom-color: var(--fill-color);\n",
              "    }\n",
              "    90% {\n",
              "      border-color: transparent;\n",
              "      border-bottom-color: var(--fill-color);\n",
              "    }\n",
              "  }\n",
              "</style>\n",
              "\n",
              "  <script>\n",
              "    async function quickchart(key) {\n",
              "      const quickchartButtonEl =\n",
              "        document.querySelector('#' + key + ' button');\n",
              "      quickchartButtonEl.disabled = true;  // To prevent multiple clicks.\n",
              "      quickchartButtonEl.classList.add('colab-df-spinner');\n",
              "      try {\n",
              "        const charts = await google.colab.kernel.invokeFunction(\n",
              "            'suggestCharts', [key], {});\n",
              "      } catch (error) {\n",
              "        console.error('Error during call to suggestCharts:', error);\n",
              "      }\n",
              "      quickchartButtonEl.classList.remove('colab-df-spinner');\n",
              "      quickchartButtonEl.classList.add('colab-df-quickchart-complete');\n",
              "    }\n",
              "    (() => {\n",
              "      let quickchartButtonEl =\n",
              "        document.querySelector('#df-a5b9f1f0-b86e-4e36-abe9-7ac47ec58709 button');\n",
              "      quickchartButtonEl.style.display =\n",
              "        google.colab.kernel.accessAllowed ? 'block' : 'none';\n",
              "    })();\n",
              "  </script>\n",
              "</div>\n",
              "\n",
              "    </div>\n",
              "  </div>\n"
            ],
            "text/plain": [
              "             User-ID            Age\n",
              "count  166628.000000  166628.000000\n",
              "mean   139393.764109      34.678397\n",
              "std     80553.911373      13.510476\n",
              "min         2.000000       5.000000\n",
              "25%     69912.500000      24.000000\n",
              "50%    139358.000000      32.000000\n",
              "75%    209156.500000      44.000000\n",
              "max    278855.000000      80.000000"
            ]
          },
          "execution_count": 13,
          "metadata": {},
          "output_type": "execute_result"
        }
      ],
      "source": [
        "users.describe()"
      ]
    },
    {
      "cell_type": "markdown",
      "metadata": {},
      "source": [
        "Berdasarkan data statistik deskriptif, kita dapat melihat bahwa usia pengguna memiliki rentang nilai yang lebih masuk akal yaitu dari 5 hingga 80 tahun. Selain itu, rata-rata usia pengguna adalah 34 tahun."
      ]
    },
    {
      "cell_type": "markdown",
      "metadata": {
        "id": "jcwe5kkZ52le"
      },
      "source": [
        "#### Advanced EDA After Cleaning"
      ]
    },
    {
      "cell_type": "code",
      "execution_count": 60,
      "metadata": {
        "colab": {
          "base_uri": "https://localhost:8080/",
          "height": 487
        },
        "id": "a2UmZIiH55wW",
        "outputId": "bf803168-868b-4acd-cd5c-ed49656e13f9"
      },
      "outputs": [
        {
          "data": {
            "image/png": "[encoded data removed]",
            "text/plain": [
              "<Figure size 1000x500 with 1 Axes>"
            ]
          },
          "metadata": {},
          "output_type": "display_data"
        }
      ],
      "source": [
        "plt.figure(figsize=(10, 5))\n",
        "sns.histplot(users[\"Age\"].dropna(), bins=30, kde=True)\n",
        "plt.xlabel(\"User Age\")\n",
        "plt.ylabel(\"Count\")\n",
        "plt.title(\"Distribution of User Ages\")\n",
        "plt.show()"
      ]
    },
    {
      "cell_type": "markdown",
      "metadata": {},
      "source": [
        "Distribusi data usia pengguna menunjukkan bahwa mayoritas pengguna berusia antara 20-30 tahun. Setelah dilakukan cleaning data, top 10 lokasi pengguna yang paling banyak terdaftar dalam dataset adalah `london, england, united kingdom` dengan jumlah 2506 pengguna."
      ]
    },
    {
      "cell_type": "code",
      "execution_count": 61,
      "metadata": {
        "colab": {
          "base_uri": "https://localhost:8080/",
          "height": 487
        },
        "id": "nbd42xzc56ON",
        "outputId": "50a13f8e-f8f9-4eab-ad6f-d0b1f4fb8834"
      },
      "outputs": [
        {
          "data": {
            "image/png": "[encoded data removed]",
            "text/plain": [
              "<Figure size 1000x500 with 1 Axes>"
            ]
          },
          "metadata": {},
          "output_type": "display_data"
        }
      ],
      "source": [
        "top_locations = users[\"Location\"].value_counts().head(10)\n",
        "plt.figure(figsize=(10, 5))\n",
        "sns.barplot(x=top_locations.values, y=top_locations.index, palette=\"magma\", hue=top_locations.index)\n",
        "plt.xlabel(\"Number of Users\")\n",
        "plt.ylabel(\"Location\")\n",
        "plt.title(\"Top 10 User Locations\")\n",
        "\n",
        "for i, v in enumerate(top_locations.values):\n",
        "    plt.text(v + 1, i, str(v), color='black', va='center')\n",
        "\n",
        "plt.show()"
      ]
    },
    {
      "cell_type": "markdown",
      "metadata": {
        "id": "w7FsgcK9-2k7"
      },
      "source": [
        "# Model Development dengan Content Based Filtering\n",
        "\n",
        "Pada tahap ini kita akan membuat model rekomendasi untuk content based filtering dengan TF-IDF berdasarkan kombinasi dari judul buku, penulis, dan penerbit. Kita akan menggunakan data dari file books.csv yang telah dibersihkan sebelumnya."
      ]
    },
    {
      "cell_type": "code",
      "execution_count": 12,
      "metadata": {
        "colab": {
          "base_uri": "https://localhost:8080/"
        },
        "id": "9cOHYf-i_t0d",
        "outputId": "6daaadf6-159b-45b3-b192-7c717a112728"
      },
      "outputs": [
        {
          "name": "stdout",
          "output_type": "stream",
          "text": [
            "<class 'pandas.core.frame.DataFrame'>\n",
            "Index: 265807 entries, 0 to 271359\n",
            "Data columns (total 5 columns):\n",
            " #   Column               Non-Null Count   Dtype \n",
            "---  ------               --------------   ----- \n",
            " 0   ISBN                 265807 non-null  object\n",
            " 1   Book-Title           265807 non-null  object\n",
            " 2   Book-Author          265807 non-null  object\n",
            " 3   Year-Of-Publication  265807 non-null  int64 \n",
            " 4   Publisher            265807 non-null  object\n",
            "dtypes: int64(1), object(4)\n",
            "memory usage: 12.2+ MB\n"
          ]
        }
      ],
      "source": [
        "books.info()"
      ]
    },
    {
      "cell_type": "markdown",
      "metadata": {},
      "source": [
        "Dikarenakan data yang digunakan terlalu besar, kita akan menggunakan 85.000 data acak dari file books.csv untuk membuat model rekomendasi."
      ]
    },
    {
      "cell_type": "code",
      "execution_count": 14,
      "metadata": {
        "id": "CIJP1gJSJU8e"
      },
      "outputs": [],
      "source": [
        "NUM_ROWS = 85000\n",
        "books_cbf = books.copy()\n",
        "books_cbf = books_cbf.sample(NUM_ROWS, random_state=42).reset_index(drop=True)"
      ]
    },
    {
      "cell_type": "code",
      "execution_count": 15,
      "metadata": {
        "colab": {
          "base_uri": "https://localhost:8080/",
          "height": 206
        },
        "id": "gADxZvQe_Yt8",
        "outputId": "3a01f885-005c-4b91-9cce-231217c56624"
      },
      "outputs": [
        {
          "data": {
            "application/vnd.google.colaboratory.intrinsic+json": {
              "summary": "{\n  \"name\": \"books_cbf\",\n  \"rows\": 5,\n  \"fields\": [\n    {\n      \"column\": \"ISBN\",\n      \"properties\": {\n        \"dtype\": \"string\",\n        \"num_unique_values\": 5,\n        \"samples\": [\n          \"0374147493\",\n          \"0140434925\",\n          \"0553275674\"\n        ],\n        \"semantic_type\": \"\",\n        \"description\": \"\"\n      }\n    },\n    {\n      \"column\": \"Book-Title\",\n      \"properties\": {\n        \"dtype\": \"string\",\n        \"num_unique_values\": 5,\n        \"samples\": [\n          \"Elizabeth: A Biography of Britain's Queen\",\n          \"Little Dorrit (Penguin Classics)\",\n          \"Double Love (Sweet Valley High, No. 1)\"\n        ],\n        \"semantic_type\": \"\",\n        \"description\": \"\"\n      }\n    },\n    {\n      \"column\": \"Book-Author\",\n      \"properties\": {\n        \"dtype\": \"string\",\n        \"num_unique_values\": 5,\n        \"samples\": [\n          \"Sarah Bradford\",\n          \"Charles Dickens\",\n          \"Francine Pascal\"\n        ],\n        \"semantic_type\": \"\",\n        \"description\": \"\"\n      }\n    },\n    {\n      \"column\": \"Year-Of-Publication\",\n      \"properties\": {\n        \"dtype\": \"number\",\n        \"std\": 7,\n        \"min\": 1984,\n        \"max\": 2003,\n        \"num_unique_values\": 5,\n        \"samples\": [\n          1996,\n          1998,\n          1984\n        ],\n        \"semantic_type\": \"\",\n        \"description\": \"\"\n      }\n    },\n    {\n      \"column\": \"Publisher\",\n      \"properties\": {\n        \"dtype\": \"string\",\n        \"num_unique_values\": 5,\n        \"samples\": [\n          \"Farrar Straus &amp; Giroux\",\n          \"Penguin Books\",\n          \"Sweet Valley\"\n        ],\n        \"semantic_type\": \"\",\n        \"description\": \"\"\n      }\n    }\n  ]\n}",
              "type": "dataframe"
            },
            "text/html": [
              "\n",
              "  <div id=\"df-c3be8e19-b685-4c9d-81f7-bf1e0ada5b24\" class=\"colab-df-container\">\n",
              "    <div>\n",
              "<style scoped>\n",
              "    .dataframe tbody tr th:only-of-type {\n",
              "        vertical-align: middle;\n",
              "    }\n",
              "\n",
              "    .dataframe tbody tr th {\n",
              "        vertical-align: top;\n",
              "    }\n",
              "\n",
              "    .dataframe thead th {\n",
              "        text-align: right;\n",
              "    }\n",
              "</style>\n",
              "<table border=\"1\" class=\"dataframe\">\n",
              "  <thead>\n",
              "    <tr style=\"text-align: right;\">\n",
              "      <th></th>\n",
              "      <th>ISBN</th>\n",
              "      <th>Book-Title</th>\n",
              "      <th>Book-Author</th>\n",
              "      <th>Year-Of-Publication</th>\n",
              "      <th>Publisher</th>\n",
              "    </tr>\n",
              "  </thead>\n",
              "  <tbody>\n",
              "    <tr>\n",
              "      <th>62695</th>\n",
              "      <td>0807220299</td>\n",
              "      <td>Harry Potter and the Order of the Phoenix (Boo...</td>\n",
              "      <td>J. K. Rowling</td>\n",
              "      <td>2003</td>\n",
              "      <td>Random House Audio Publishing Group</td>\n",
              "    </tr>\n",
              "    <tr>\n",
              "      <th>18297</th>\n",
              "      <td>0374147493</td>\n",
              "      <td>Elizabeth: A Biography of Britain's Queen</td>\n",
              "      <td>Sarah Bradford</td>\n",
              "      <td>1996</td>\n",
              "      <td>Farrar Straus &amp;amp; Giroux</td>\n",
              "    </tr>\n",
              "    <tr>\n",
              "      <th>70995</th>\n",
              "      <td>0553275674</td>\n",
              "      <td>Double Love (Sweet Valley High, No. 1)</td>\n",
              "      <td>Francine Pascal</td>\n",
              "      <td>1984</td>\n",
              "      <td>Sweet Valley</td>\n",
              "    </tr>\n",
              "    <tr>\n",
              "      <th>83927</th>\n",
              "      <td>0618056823</td>\n",
              "      <td>1919: Volume Two of the U.S.A. Trilogy</td>\n",
              "      <td>John Dos Passos</td>\n",
              "      <td>2000</td>\n",
              "      <td>Mariner Books</td>\n",
              "    </tr>\n",
              "    <tr>\n",
              "      <th>70315</th>\n",
              "      <td>0140434925</td>\n",
              "      <td>Little Dorrit (Penguin Classics)</td>\n",
              "      <td>Charles Dickens</td>\n",
              "      <td>1998</td>\n",
              "      <td>Penguin Books</td>\n",
              "    </tr>\n",
              "  </tbody>\n",
              "</table>\n",
              "</div>\n",
              "    <div class=\"colab-df-buttons\">\n",
              "\n",
              "  <div class=\"colab-df-container\">\n",
              "    <button class=\"colab-df-convert\" onclick=\"convertToInteractive('df-c3be8e19-b685-4c9d-81f7-bf1e0ada5b24')\"\n",
              "            title=\"Convert this dataframe to an interactive table.\"\n",
              "            style=\"display:none;\">\n",
              "\n",
              "  <svg xmlns=\"http://www.w3.org/2000/svg\" height=\"24px\" viewBox=\"0 -960 960 960\">\n",
              "    <path d=\"M120-120v-720h720v720H120Zm60-500h600v-160H180v160Zm220 220h160v-160H400v160Zm0 220h160v-160H400v160ZM180-400h160v-160H180v160Zm440 0h160v-160H620v160ZM180-180h160v-160H180v160Zm440 0h160v-160H620v160Z\"/>\n",
              "  </svg>\n",
              "    </button>\n",
              "\n",
              "  <style>\n",
              "    .colab-df-container {\n",
              "      display:flex;\n",
              "      gap: 12px;\n",
              "    }\n",
              "\n",
              "    .colab-df-convert {\n",
              "      background-color: #E8F0FE;\n",
              "      border: none;\n",
              "      border-radius: 50%;\n",
              "      cursor: pointer;\n",
              "      display: none;\n",
              "      fill: #1967D2;\n",
              "      height: 32px;\n",
              "      padding: 0 0 0 0;\n",
              "      width: 32px;\n",
              "    }\n",
              "\n",
              "    .colab-df-convert:hover {\n",
              "      background-color: #E2EBFA;\n",
              "      box-shadow: 0px 1px 2px rgba(60, 64, 67, 0.3), 0px 1px 3px 1px rgba(60, 64, 67, 0.15);\n",
              "      fill: #174EA6;\n",
              "    }\n",
              "\n",
              "    .colab-df-buttons div {\n",
              "      margin-bottom: 4px;\n",
              "    }\n",
              "\n",
              "    [theme=dark] .colab-df-convert {\n",
              "      background-color: #3B4455;\n",
              "      fill: #D2E3FC;\n",
              "    }\n",
              "\n",
              "    [theme=dark] .colab-df-convert:hover {\n",
              "      background-color: #434B5C;\n",
              "      box-shadow: 0px 1px 3px 1px rgba(0, 0, 0, 0.15);\n",
              "      filter: drop-shadow(0px 1px 2px rgba(0, 0, 0, 0.3));\n",
              "      fill: #FFFFFF;\n",
              "    }\n",
              "  </style>\n",
              "\n",
              "    <script>\n",
              "      const buttonEl =\n",
              "        document.querySelector('#df-c3be8e19-b685-4c9d-81f7-bf1e0ada5b24 button.colab-df-convert');\n",
              "      buttonEl.style.display =\n",
              "        google.colab.kernel.accessAllowed ? 'block' : 'none';\n",
              "\n",
              "      async function convertToInteractive(key) {\n",
              "        const element = document.querySelector('#df-c3be8e19-b685-4c9d-81f7-bf1e0ada5b24');\n",
              "        const dataTable =\n",
              "          await google.colab.kernel.invokeFunction('convertToInteractive',\n",
              "                                                    [key], {});\n",
              "        if (!dataTable) return;\n",
              "\n",
              "        const docLinkHtml = 'Like what you see? Visit the ' +\n",
              "          '<a target=\"_blank\" href=https://colab.research.google.com/notebooks/data_table.ipynb>data table notebook</a>'\n",
              "          + ' to learn more about interactive tables.';\n",
              "        element.innerHTML = '';\n",
              "        dataTable['output_type'] = 'display_data';\n",
              "        await google.colab.output.renderOutput(dataTable, element);\n",
              "        const docLink = document.createElement('div');\n",
              "        docLink.innerHTML = docLinkHtml;\n",
              "        element.appendChild(docLink);\n",
              "      }\n",
              "    </script>\n",
              "  </div>\n",
              "\n",
              "\n",
              "<div id=\"df-ea3b50ed-3647-4099-9663-bfa9932b7d30\">\n",
              "  <button class=\"colab-df-quickchart\" onclick=\"quickchart('df-ea3b50ed-3647-4099-9663-bfa9932b7d30')\"\n",
              "            title=\"Suggest charts\"\n",
              "            style=\"display:none;\">\n",
              "\n",
              "<svg xmlns=\"http://www.w3.org/2000/svg\" height=\"24px\"viewBox=\"0 0 24 24\"\n",
              "     width=\"24px\">\n",
              "    <g>\n",
              "        <path d=\"M19 3H5c-1.1 0-2 .9-2 2v14c0 1.1.9 2 2 2h14c1.1 0 2-.9 2-2V5c0-1.1-.9-2-2-2zM9 17H7v-7h2v7zm4 0h-2V7h2v10zm4 0h-2v-4h2v4z\"/>\n",
              "    </g>\n",
              "</svg>\n",
              "  </button>\n",
              "\n",
              "<style>\n",
              "  .colab-df-quickchart {\n",
              "      --bg-color: #E8F0FE;\n",
              "      --fill-color: #1967D2;\n",
              "      --hover-bg-color: #E2EBFA;\n",
              "      --hover-fill-color: #174EA6;\n",
              "      --disabled-fill-color: #AAA;\n",
              "      --disabled-bg-color: #DDD;\n",
              "  }\n",
              "\n",
              "  [theme=dark] .colab-df-quickchart {\n",
              "      --bg-color: #3B4455;\n",
              "      --fill-color: #D2E3FC;\n",
              "      --hover-bg-color: #434B5C;\n",
              "      --hover-fill-color: #FFFFFF;\n",
              "      --disabled-bg-color: #3B4455;\n",
              "      --disabled-fill-color: #666;\n",
              "  }\n",
              "\n",
              "  .colab-df-quickchart {\n",
              "    background-color: var(--bg-color);\n",
              "    border: none;\n",
              "    border-radius: 50%;\n",
              "    cursor: pointer;\n",
              "    display: none;\n",
              "    fill: var(--fill-color);\n",
              "    height: 32px;\n",
              "    padding: 0;\n",
              "    width: 32px;\n",
              "  }\n",
              "\n",
              "  .colab-df-quickchart:hover {\n",
              "    background-color: var(--hover-bg-color);\n",
              "    box-shadow: 0 1px 2px rgba(60, 64, 67, 0.3), 0 1px 3px 1px rgba(60, 64, 67, 0.15);\n",
              "    fill: var(--button-hover-fill-color);\n",
              "  }\n",
              "\n",
              "  .colab-df-quickchart-complete:disabled,\n",
              "  .colab-df-quickchart-complete:disabled:hover {\n",
              "    background-color: var(--disabled-bg-color);\n",
              "    fill: var(--disabled-fill-color);\n",
              "    box-shadow: none;\n",
              "  }\n",
              "\n",
              "  .colab-df-spinner {\n",
              "    border: 2px solid var(--fill-color);\n",
              "    border-color: transparent;\n",
              "    border-bottom-color: var(--fill-color);\n",
              "    animation:\n",
              "      spin 1s steps(1) infinite;\n",
              "  }\n",
              "\n",
              "  @keyframes spin {\n",
              "    0% {\n",
              "      border-color: transparent;\n",
              "      border-bottom-color: var(--fill-color);\n",
              "      border-left-color: var(--fill-color);\n",
              "    }\n",
              "    20% {\n",
              "      border-color: transparent;\n",
              "      border-left-color: var(--fill-color);\n",
              "      border-top-color: var(--fill-color);\n",
              "    }\n",
              "    30% {\n",
              "      border-color: transparent;\n",
              "      border-left-color: var(--fill-color);\n",
              "      border-top-color: var(--fill-color);\n",
              "      border-right-color: var(--fill-color);\n",
              "    }\n",
              "    40% {\n",
              "      border-color: transparent;\n",
              "      border-right-color: var(--fill-color);\n",
              "      border-top-color: var(--fill-color);\n",
              "    }\n",
              "    60% {\n",
              "      border-color: transparent;\n",
              "      border-right-color: var(--fill-color);\n",
              "    }\n",
              "    80% {\n",
              "      border-color: transparent;\n",
              "      border-right-color: var(--fill-color);\n",
              "      border-bottom-color: var(--fill-color);\n",
              "    }\n",
              "    90% {\n",
              "      border-color: transparent;\n",
              "      border-bottom-color: var(--fill-color);\n",
              "    }\n",
              "  }\n",
              "</style>\n",
              "\n",
              "  <script>\n",
              "    async function quickchart(key) {\n",
              "      const quickchartButtonEl =\n",
              "        document.querySelector('#' + key + ' button');\n",
              "      quickchartButtonEl.disabled = true;  // To prevent multiple clicks.\n",
              "      quickchartButtonEl.classList.add('colab-df-spinner');\n",
              "      try {\n",
              "        const charts = await google.colab.kernel.invokeFunction(\n",
              "            'suggestCharts', [key], {});\n",
              "      } catch (error) {\n",
              "        console.error('Error during call to suggestCharts:', error);\n",
              "      }\n",
              "      quickchartButtonEl.classList.remove('colab-df-spinner');\n",
              "      quickchartButtonEl.classList.add('colab-df-quickchart-complete');\n",
              "    }\n",
              "    (() => {\n",
              "      let quickchartButtonEl =\n",
              "        document.querySelector('#df-ea3b50ed-3647-4099-9663-bfa9932b7d30 button');\n",
              "      quickchartButtonEl.style.display =\n",
              "        google.colab.kernel.accessAllowed ? 'block' : 'none';\n",
              "    })();\n",
              "  </script>\n",
              "</div>\n",
              "\n",
              "    </div>\n",
              "  </div>\n"
            ],
            "text/plain": [
              "             ISBN                                         Book-Title  \\\n",
              "62695  0807220299  Harry Potter and the Order of the Phoenix (Boo...   \n",
              "18297  0374147493          Elizabeth: A Biography of Britain's Queen   \n",
              "70995  0553275674             Double Love (Sweet Valley High, No. 1)   \n",
              "83927  0618056823             1919: Volume Two of the U.S.A. Trilogy   \n",
              "70315  0140434925                   Little Dorrit (Penguin Classics)   \n",
              "\n",
              "           Book-Author  Year-Of-Publication  \\\n",
              "62695    J. K. Rowling                 2003   \n",
              "18297   Sarah Bradford                 1996   \n",
              "70995  Francine Pascal                 1984   \n",
              "83927  John Dos Passos                 2000   \n",
              "70315  Charles Dickens                 1998   \n",
              "\n",
              "                                 Publisher  \n",
              "62695  Random House Audio Publishing Group  \n",
              "18297           Farrar Straus &amp; Giroux  \n",
              "70995                         Sweet Valley  \n",
              "83927                        Mariner Books  \n",
              "70315                        Penguin Books  "
            ]
          },
          "execution_count": 15,
          "metadata": {},
          "output_type": "execute_result"
        }
      ],
      "source": [
        "books_cbf.sample(5)"
      ]
    },
    {
      "cell_type": "code",
      "execution_count": null,
      "metadata": {
        "colab": {
          "base_uri": "https://localhost:8080/",
          "height": 206
        },
        "id": "_bKURWjYDwZ_",
        "outputId": "de697eac-ae79-4caf-ce2d-276a479a97f7"
      },
      "outputs": [
        {
          "data": {
            "application/vnd.google.colaboratory.intrinsic+json": {
              "summary": "{\n  \"name\": \"books_cbf[[\\\"Book-Title\\\", \\\"content\\\"]]\",\n  \"rows\": 5,\n  \"fields\": [\n    {\n      \"column\": \"Book-Title\",\n      \"properties\": {\n        \"dtype\": \"string\",\n        \"num_unique_values\": 5,\n        \"samples\": [\n          \"The cold room\",\n          \"The North Dakota Joke Book\",\n          \"La Bruja Que Vino del Mar\"\n        ],\n        \"semantic_type\": \"\",\n        \"description\": \"\"\n      }\n    },\n    {\n      \"column\": \"content\",\n      \"properties\": {\n        \"dtype\": \"string\",\n        \"num_unique_values\": 5,\n        \"samples\": [\n          \"The cold room Jeffrey Caine Knopf : distributed by Random House\",\n          \"The North Dakota Joke Book Mike Dalton Jove Books\",\n          \"La Bruja Que Vino del Mar Victoria Holt Vergara Editor S.A.\"\n        ],\n        \"semantic_type\": \"\",\n        \"description\": \"\"\n      }\n    }\n  ]\n}",
              "type": "dataframe"
            },
            "text/html": [
              "\n",
              "  <div id=\"df-41e0a74e-7139-4768-b038-d1b4cc59a062\" class=\"colab-df-container\">\n",
              "    <div>\n",
              "<style scoped>\n",
              "    .dataframe tbody tr th:only-of-type {\n",
              "        vertical-align: middle;\n",
              "    }\n",
              "\n",
              "    .dataframe tbody tr th {\n",
              "        vertical-align: top;\n",
              "    }\n",
              "\n",
              "    .dataframe thead th {\n",
              "        text-align: right;\n",
              "    }\n",
              "</style>\n",
              "<table border=\"1\" class=\"dataframe\">\n",
              "  <thead>\n",
              "    <tr style=\"text-align: right;\">\n",
              "      <th></th>\n",
              "      <th>Book-Title</th>\n",
              "      <th>content</th>\n",
              "    </tr>\n",
              "  </thead>\n",
              "  <tbody>\n",
              "    <tr>\n",
              "      <th>0</th>\n",
              "      <td>The Case for Christianity (C.S. Lewis Classics)</td>\n",
              "      <td>The Case for Christianity (C.S. Lewis Classics...</td>\n",
              "    </tr>\n",
              "    <tr>\n",
              "      <th>1</th>\n",
              "      <td>The cold room</td>\n",
              "      <td>The cold room Jeffrey Caine Knopf : distribute...</td>\n",
              "    </tr>\n",
              "    <tr>\n",
              "      <th>2</th>\n",
              "      <td>La Bruja Que Vino del Mar</td>\n",
              "      <td>La Bruja Que Vino del Mar Victoria Holt Vergar...</td>\n",
              "    </tr>\n",
              "    <tr>\n",
              "      <th>3</th>\n",
              "      <td>Grapes (Fruit Shaped Books)</td>\n",
              "      <td>Grapes (Fruit Shaped Books) Susan Banta Wester...</td>\n",
              "    </tr>\n",
              "    <tr>\n",
              "      <th>4</th>\n",
              "      <td>The North Dakota Joke Book</td>\n",
              "      <td>The North Dakota Joke Book Mike Dalton Jove Books</td>\n",
              "    </tr>\n",
              "  </tbody>\n",
              "</table>\n",
              "</div>\n",
              "    <div class=\"colab-df-buttons\">\n",
              "\n",
              "  <div class=\"colab-df-container\">\n",
              "    <button class=\"colab-df-convert\" onclick=\"convertToInteractive('df-41e0a74e-7139-4768-b038-d1b4cc59a062')\"\n",
              "            title=\"Convert this dataframe to an interactive table.\"\n",
              "            style=\"display:none;\">\n",
              "\n",
              "  <svg xmlns=\"http://www.w3.org/2000/svg\" height=\"24px\" viewBox=\"0 -960 960 960\">\n",
              "    <path d=\"M120-120v-720h720v720H120Zm60-500h600v-160H180v160Zm220 220h160v-160H400v160Zm0 220h160v-160H400v160ZM180-400h160v-160H180v160Zm440 0h160v-160H620v160ZM180-180h160v-160H180v160Zm440 0h160v-160H620v160Z\"/>\n",
              "  </svg>\n",
              "    </button>\n",
              "\n",
              "  <style>\n",
              "    .colab-df-container {\n",
              "      display:flex;\n",
              "      gap: 12px;\n",
              "    }\n",
              "\n",
              "    .colab-df-convert {\n",
              "      background-color: #E8F0FE;\n",
              "      border: none;\n",
              "      border-radius: 50%;\n",
              "      cursor: pointer;\n",
              "      display: none;\n",
              "      fill: #1967D2;\n",
              "      height: 32px;\n",
              "      padding: 0 0 0 0;\n",
              "      width: 32px;\n",
              "    }\n",
              "\n",
              "    .colab-df-convert:hover {\n",
              "      background-color: #E2EBFA;\n",
              "      box-shadow: 0px 1px 2px rgba(60, 64, 67, 0.3), 0px 1px 3px 1px rgba(60, 64, 67, 0.15);\n",
              "      fill: #174EA6;\n",
              "    }\n",
              "\n",
              "    .colab-df-buttons div {\n",
              "      margin-bottom: 4px;\n",
              "    }\n",
              "\n",
              "    [theme=dark] .colab-df-convert {\n",
              "      background-color: #3B4455;\n",
              "      fill: #D2E3FC;\n",
              "    }\n",
              "\n",
              "    [theme=dark] .colab-df-convert:hover {\n",
              "      background-color: #434B5C;\n",
              "      box-shadow: 0px 1px 3px 1px rgba(0, 0, 0, 0.15);\n",
              "      filter: drop-shadow(0px 1px 2px rgba(0, 0, 0, 0.3));\n",
              "      fill: #FFFFFF;\n",
              "    }\n",
              "  </style>\n",
              "\n",
              "    <script>\n",
              "      const buttonEl =\n",
              "        document.querySelector('#df-41e0a74e-7139-4768-b038-d1b4cc59a062 button.colab-df-convert');\n",
              "      buttonEl.style.display =\n",
              "        google.colab.kernel.accessAllowed ? 'block' : 'none';\n",
              "\n",
              "      async function convertToInteractive(key) {\n",
              "        const element = document.querySelector('#df-41e0a74e-7139-4768-b038-d1b4cc59a062');\n",
              "        const dataTable =\n",
              "          await google.colab.kernel.invokeFunction('convertToInteractive',\n",
              "                                                    [key], {});\n",
              "        if (!dataTable) return;\n",
              "\n",
              "        const docLinkHtml = 'Like what you see? Visit the ' +\n",
              "          '<a target=\"_blank\" href=https://colab.research.google.com/notebooks/data_table.ipynb>data table notebook</a>'\n",
              "          + ' to learn more about interactive tables.';\n",
              "        element.innerHTML = '';\n",
              "        dataTable['output_type'] = 'display_data';\n",
              "        await google.colab.output.renderOutput(dataTable, element);\n",
              "        const docLink = document.createElement('div');\n",
              "        docLink.innerHTML = docLinkHtml;\n",
              "        element.appendChild(docLink);\n",
              "      }\n",
              "    </script>\n",
              "  </div>\n",
              "\n",
              "\n",
              "<div id=\"df-feadac51-70fa-4c20-987c-95775adb61a9\">\n",
              "  <button class=\"colab-df-quickchart\" onclick=\"quickchart('df-feadac51-70fa-4c20-987c-95775adb61a9')\"\n",
              "            title=\"Suggest charts\"\n",
              "            style=\"display:none;\">\n",
              "\n",
              "<svg xmlns=\"http://www.w3.org/2000/svg\" height=\"24px\"viewBox=\"0 0 24 24\"\n",
              "     width=\"24px\">\n",
              "    <g>\n",
              "        <path d=\"M19 3H5c-1.1 0-2 .9-2 2v14c0 1.1.9 2 2 2h14c1.1 0 2-.9 2-2V5c0-1.1-.9-2-2-2zM9 17H7v-7h2v7zm4 0h-2V7h2v10zm4 0h-2v-4h2v4z\"/>\n",
              "    </g>\n",
              "</svg>\n",
              "  </button>\n",
              "\n",
              "<style>\n",
              "  .colab-df-quickchart {\n",
              "      --bg-color: #E8F0FE;\n",
              "      --fill-color: #1967D2;\n",
              "      --hover-bg-color: #E2EBFA;\n",
              "      --hover-fill-color: #174EA6;\n",
              "      --disabled-fill-color: #AAA;\n",
              "      --disabled-bg-color: #DDD;\n",
              "  }\n",
              "\n",
              "  [theme=dark] .colab-df-quickchart {\n",
              "      --bg-color: #3B4455;\n",
              "      --fill-color: #D2E3FC;\n",
              "      --hover-bg-color: #434B5C;\n",
              "      --hover-fill-color: #FFFFFF;\n",
              "      --disabled-bg-color: #3B4455;\n",
              "      --disabled-fill-color: #666;\n",
              "  }\n",
              "\n",
              "  .colab-df-quickchart {\n",
              "    background-color: var(--bg-color);\n",
              "    border: none;\n",
              "    border-radius: 50%;\n",
              "    cursor: pointer;\n",
              "    display: none;\n",
              "    fill: var(--fill-color);\n",
              "    height: 32px;\n",
              "    padding: 0;\n",
              "    width: 32px;\n",
              "  }\n",
              "\n",
              "  .colab-df-quickchart:hover {\n",
              "    background-color: var(--hover-bg-color);\n",
              "    box-shadow: 0 1px 2px rgba(60, 64, 67, 0.3), 0 1px 3px 1px rgba(60, 64, 67, 0.15);\n",
              "    fill: var(--button-hover-fill-color);\n",
              "  }\n",
              "\n",
              "  .colab-df-quickchart-complete:disabled,\n",
              "  .colab-df-quickchart-complete:disabled:hover {\n",
              "    background-color: var(--disabled-bg-color);\n",
              "    fill: var(--disabled-fill-color);\n",
              "    box-shadow: none;\n",
              "  }\n",
              "\n",
              "  .colab-df-spinner {\n",
              "    border: 2px solid var(--fill-color);\n",
              "    border-color: transparent;\n",
              "    border-bottom-color: var(--fill-color);\n",
              "    animation:\n",
              "      spin 1s steps(1) infinite;\n",
              "  }\n",
              "\n",
              "  @keyframes spin {\n",
              "    0% {\n",
              "      border-color: transparent;\n",
              "      border-bottom-color: var(--fill-color);\n",
              "      border-left-color: var(--fill-color);\n",
              "    }\n",
              "    20% {\n",
              "      border-color: transparent;\n",
              "      border-left-color: var(--fill-color);\n",
              "      border-top-color: var(--fill-color);\n",
              "    }\n",
              "    30% {\n",
              "      border-color: transparent;\n",
              "      border-left-color: var(--fill-color);\n",
              "      border-top-color: var(--fill-color);\n",
              "      border-right-color: var(--fill-color);\n",
              "    }\n",
              "    40% {\n",
              "      border-color: transparent;\n",
              "      border-right-color: var(--fill-color);\n",
              "      border-top-color: var(--fill-color);\n",
              "    }\n",
              "    60% {\n",
              "      border-color: transparent;\n",
              "      border-right-color: var(--fill-color);\n",
              "    }\n",
              "    80% {\n",
              "      border-color: transparent;\n",
              "      border-right-color: var(--fill-color);\n",
              "      border-bottom-color: var(--fill-color);\n",
              "    }\n",
              "    90% {\n",
              "      border-color: transparent;\n",
              "      border-bottom-color: var(--fill-color);\n",
              "    }\n",
              "  }\n",
              "</style>\n",
              "\n",
              "  <script>\n",
              "    async function quickchart(key) {\n",
              "      const quickchartButtonEl =\n",
              "        document.querySelector('#' + key + ' button');\n",
              "      quickchartButtonEl.disabled = true;  // To prevent multiple clicks.\n",
              "      quickchartButtonEl.classList.add('colab-df-spinner');\n",
              "      try {\n",
              "        const charts = await google.colab.kernel.invokeFunction(\n",
              "            'suggestCharts', [key], {});\n",
              "      } catch (error) {\n",
              "        console.error('Error during call to suggestCharts:', error);\n",
              "      }\n",
              "      quickchartButtonEl.classList.remove('colab-df-spinner');\n",
              "      quickchartButtonEl.classList.add('colab-df-quickchart-complete');\n",
              "    }\n",
              "    (() => {\n",
              "      let quickchartButtonEl =\n",
              "        document.querySelector('#df-feadac51-70fa-4c20-987c-95775adb61a9 button');\n",
              "      quickchartButtonEl.style.display =\n",
              "        google.colab.kernel.accessAllowed ? 'block' : 'none';\n",
              "    })();\n",
              "  </script>\n",
              "</div>\n",
              "\n",
              "    </div>\n",
              "  </div>\n"
            ],
            "text/plain": [
              "                                        Book-Title  \\\n",
              "0  The Case for Christianity (C.S. Lewis Classics)   \n",
              "1                                    The cold room   \n",
              "2                        La Bruja Que Vino del Mar   \n",
              "3                      Grapes (Fruit Shaped Books)   \n",
              "4                       The North Dakota Joke Book   \n",
              "\n",
              "                                             content  \n",
              "0  The Case for Christianity (C.S. Lewis Classics...  \n",
              "1  The cold room Jeffrey Caine Knopf : distribute...  \n",
              "2  La Bruja Que Vino del Mar Victoria Holt Vergar...  \n",
              "3  Grapes (Fruit Shaped Books) Susan Banta Wester...  \n",
              "4  The North Dakota Joke Book Mike Dalton Jove Books  "
            ]
          },
          "execution_count": 16,
          "metadata": {},
          "output_type": "execute_result"
        }
      ],
      "source": [
        "# Combine 'Book-Title', 'Book-Author', and 'Publisher' into 'content'\n",
        "books_cbf[\"content\"] = books_cbf[\"Book-Title\"] + \" \" + books_cbf[\"Book-Author\"] + \" \" + books_cbf[\"Publisher\"]\n",
        "books_cbf[[\"Book-Title\", \"content\"]].head()\n"
      ]
    },
    {
      "cell_type": "markdown",
      "metadata": {
        "id": "MFv2fkvqAHbR"
      },
      "source": [
        "## TF-IDF\n",
        "\n",
        "Kita akan menggunakan TF-IDF untuk mengubah kombinasi fitur penulis, penerbit dan judul buku menjadi representasi numeric, sehingga nantinya akan dihitung menggunakan cosine similarity untuk mendapatkan rekomendasi."
      ]
    },
    {
      "cell_type": "code",
      "execution_count": 17,
      "metadata": {
        "id": "gE7XYZlIAwnM"
      },
      "outputs": [],
      "source": [
        "# Vectorize\n",
        "tfidf = TfidfVectorizer(stop_words='english')\n",
        "tfidf_matrix = tfidf.fit_transform(books_cbf['content'].astype(str))"
      ]
    },
    {
      "cell_type": "markdown",
      "metadata": {
        "id": "pYO0Po5jAI-E"
      },
      "source": [
        "## Cosine Similarity\n",
        "\n",
        "Setelah fitur diubah menjadi representasi numerik, langkah selanjutnya adalah menghitung kemiripan antar buku menggunakan Cosine Similarity. Semakin mirip dua buku berdasarkan fitur mereka, semakin tinggi skor kemiripan. Kita menggunakan parameter dense_output=False untuk menghemat memori, agar notebook tidak crash."
      ]
    },
    {
      "cell_type": "code",
      "execution_count": 18,
      "metadata": {
        "id": "ojc8UyDOBxc8"
      },
      "outputs": [],
      "source": [
        "cosine_sim = cosine_similarity(tfidf_matrix, tfidf_matrix, dense_output=False)"
      ]
    },
    {
      "cell_type": "markdown",
      "metadata": {
        "id": "OiO-Ho65ALKL"
      },
      "source": [
        "## Get Recommendation\n",
        "\n",
        "Buat fungsi untuk memberikan rekomendasi buku berdasarkan judul yang diberikan. Fungsi ini akan mencari buku yang memiliki skor kemiripan tertinggi dengan buku yang dicari."
      ]
    },
    {
      "cell_type": "code",
      "execution_count": null,
      "metadata": {
        "id": "m0u_R_MsB16E"
      },
      "outputs": [],
      "source": [
        "def get_recommendations(book_title, books, cosine_sim, k=10):\n",
        "    idx = books[books[\"Book-Title\"].str.lower().str.strip() == book_title.lower().strip()].index\n",
        "    if len(idx) == 0:\n",
        "        return \"Buku tidak ditemukan dalam dataset!\"\n",
        "\n",
        "    idx = idx[0]\n",
        "    similarity_scores = cosine_sim[idx].toarray().flatten()\n",
        "    similar_indices = np.argsort(similarity_scores)[::-1][1:k+1]\n",
        "\n",
        "    recommended_books = books.iloc[similar_indices].copy()\n",
        "    recommended_books[\"Similarity\"] = similarity_scores[similar_indices]\n",
        "\n",
        "    return recommended_books"
      ]
    },
    {
      "cell_type": "markdown",
      "metadata": {},
      "source": [
        "Kita akan mencoba memberikan rekomendasi buku berdasarkan judul `High Society` dengan 10 rekomendasi buku yang memiliki skor kemiripan tertinggi."
      ]
    },
    {
      "cell_type": "code",
      "execution_count": 38,
      "metadata": {
        "colab": {
          "base_uri": "https://localhost:8080/",
          "height": 363
        },
        "id": "YyrQl-7sB3_U",
        "outputId": "e1b028ea-11ec-4729-ad07-7e3eab448f8e"
      },
      "outputs": [
        {
          "data": {
            "application/vnd.google.colaboratory.intrinsic+json": {
              "summary": "{\n  \"name\": \"recommended_books\",\n  \"rows\": 10,\n  \"fields\": [\n    {\n      \"column\": \"ISBN\",\n      \"properties\": {\n        \"dtype\": \"string\",\n        \"num_unique_values\": 10,\n        \"samples\": [\n          \"055299863X\",\n          \"1856851273\",\n          \"0751510114\"\n        ],\n        \"semantic_type\": \"\",\n        \"description\": \"\"\n      }\n    },\n    {\n      \"column\": \"Book-Title\",\n      \"properties\": {\n        \"dtype\": \"string\",\n        \"num_unique_values\": 10,\n        \"samples\": [\n          \"Marlene Dietrich Lived Here\",\n          \"Elton, My Elton\",\n          \"Gridlock\"\n        ],\n        \"semantic_type\": \"\",\n        \"description\": \"\"\n      }\n    },\n    {\n      \"column\": \"Book-Author\",\n      \"properties\": {\n        \"dtype\": \"string\",\n        \"num_unique_values\": 5,\n        \"samples\": [\n          \"Gary Clarke\",\n          \"Claire Calman\",\n          \"Day Taylor\"\n        ],\n        \"semantic_type\": \"\",\n        \"description\": \"\"\n      }\n    },\n    {\n      \"column\": \"Year-Of-Publication\",\n      \"properties\": {\n        \"dtype\": \"number\",\n        \"std\": 6,\n        \"min\": 1984,\n        \"max\": 2003,\n        \"num_unique_values\": 8,\n        \"samples\": [\n          1996,\n          1999,\n          1989\n        ],\n        \"semantic_type\": \"\",\n        \"description\": \"\"\n      }\n    },\n    {\n      \"column\": \"Publisher\",\n      \"properties\": {\n        \"dtype\": \"string\",\n        \"num_unique_values\": 8,\n        \"samples\": [\n          \"Blake Publishing Ltd\",\n          \"Acacia Press, Inc.\",\n          \"Warner Books\"\n        ],\n        \"semantic_type\": \"\",\n        \"description\": \"\"\n      }\n    },\n    {\n      \"column\": \"content\",\n      \"properties\": {\n        \"dtype\": \"string\",\n        \"num_unique_values\": 10,\n        \"samples\": [\n          \"Marlene Dietrich Lived Here Eleanor Bailey Black Swan Books, Limited\",\n          \"Elton, My Elton Gary Clarke Blake Publishing Ltd\",\n          \"Gridlock Ben Elton Acacia Press, Inc.\"\n        ],\n        \"semantic_type\": \"\",\n        \"description\": \"\"\n      }\n    },\n    {\n      \"column\": \"Similarity\",\n      \"properties\": {\n        \"dtype\": \"number\",\n        \"std\": 0.03297538158904107,\n        \"min\": 0.34779032498328644,\n        \"max\": 0.4660233934355019,\n        \"num_unique_values\": 10,\n        \"samples\": [\n          0.353247254486831,\n          0.39500595699997204,\n          0.3762296020630288\n        ],\n        \"semantic_type\": \"\",\n        \"description\": \"\"\n      }\n    }\n  ]\n}",
              "type": "dataframe",
              "variable_name": "recommended_books"
            },
            "text/html": [
              "\n",
              "  <div id=\"df-3ea5636e-a4ff-4b23-accf-666d25fbec60\" class=\"colab-df-container\">\n",
              "    <div>\n",
              "<style scoped>\n",
              "    .dataframe tbody tr th:only-of-type {\n",
              "        vertical-align: middle;\n",
              "    }\n",
              "\n",
              "    .dataframe tbody tr th {\n",
              "        vertical-align: top;\n",
              "    }\n",
              "\n",
              "    .dataframe thead th {\n",
              "        text-align: right;\n",
              "    }\n",
              "</style>\n",
              "<table border=\"1\" class=\"dataframe\">\n",
              "  <thead>\n",
              "    <tr style=\"text-align: right;\">\n",
              "      <th></th>\n",
              "      <th>ISBN</th>\n",
              "      <th>Book-Title</th>\n",
              "      <th>Book-Author</th>\n",
              "      <th>Year-Of-Publication</th>\n",
              "      <th>Publisher</th>\n",
              "      <th>content</th>\n",
              "      <th>Similarity</th>\n",
              "    </tr>\n",
              "  </thead>\n",
              "  <tbody>\n",
              "    <tr>\n",
              "      <th>32908</th>\n",
              "      <td>0751501999</td>\n",
              "      <td>Stark</td>\n",
              "      <td>Ben Elton</td>\n",
              "      <td>1989</td>\n",
              "      <td>Warner Books</td>\n",
              "      <td>Stark Ben Elton Warner Books</td>\n",
              "      <td>0.466023</td>\n",
              "    </tr>\n",
              "    <tr>\n",
              "      <th>49928</th>\n",
              "      <td>1856851273</td>\n",
              "      <td>Elton, My Elton</td>\n",
              "      <td>Gary Clarke</td>\n",
              "      <td>1996</td>\n",
              "      <td>Blake Publishing Ltd</td>\n",
              "      <td>Elton, My Elton Gary Clarke Blake Publishing Ltd</td>\n",
              "      <td>0.395006</td>\n",
              "    </tr>\n",
              "    <tr>\n",
              "      <th>37612</th>\n",
              "      <td>0671718177</td>\n",
              "      <td>This Other Eden</td>\n",
              "      <td>Ben Elton</td>\n",
              "      <td>1993</td>\n",
              "      <td>Simon &amp;amp; Schuster (Trade Division)</td>\n",
              "      <td>This Other Eden Ben Elton Simon &amp;amp; Schuster...</td>\n",
              "      <td>0.387760</td>\n",
              "    </tr>\n",
              "    <tr>\n",
              "      <th>63152</th>\n",
              "      <td>0385334524</td>\n",
              "      <td>Blast from the Past</td>\n",
              "      <td>Ben Elton</td>\n",
              "      <td>2000</td>\n",
              "      <td>Delta</td>\n",
              "      <td>Blast from the Past Ben Elton Delta</td>\n",
              "      <td>0.385531</td>\n",
              "    </tr>\n",
              "    <tr>\n",
              "      <th>56063</th>\n",
              "      <td>0552146986</td>\n",
              "      <td>Inconceivable</td>\n",
              "      <td>Ben Elton</td>\n",
              "      <td>2000</td>\n",
              "      <td>Bantam Doubleday Dell</td>\n",
              "      <td>Inconceivable Ben Elton Bantam Doubleday Dell</td>\n",
              "      <td>0.380187</td>\n",
              "    </tr>\n",
              "    <tr>\n",
              "      <th>81516</th>\n",
              "      <td>0751510114</td>\n",
              "      <td>Gridlock</td>\n",
              "      <td>Ben Elton</td>\n",
              "      <td>1992</td>\n",
              "      <td>Acacia Press, Inc.</td>\n",
              "      <td>Gridlock Ben Elton Acacia Press, Inc.</td>\n",
              "      <td>0.376230</td>\n",
              "    </tr>\n",
              "    <tr>\n",
              "      <th>6134</th>\n",
              "      <td>0552998338</td>\n",
              "      <td>Blast From the Past</td>\n",
              "      <td>Ben Elton</td>\n",
              "      <td>1999</td>\n",
              "      <td>Bantam Doubleday Dell</td>\n",
              "      <td>Blast From the Past Ben Elton Bantam Doubleday...</td>\n",
              "      <td>0.371029</td>\n",
              "    </tr>\n",
              "    <tr>\n",
              "      <th>77057</th>\n",
              "      <td>0440106117</td>\n",
              "      <td>The Black Swan</td>\n",
              "      <td>Day Taylor</td>\n",
              "      <td>1984</td>\n",
              "      <td>Bantam Books (Mm)</td>\n",
              "      <td>The Black Swan Day Taylor Bantam Books (Mm)</td>\n",
              "      <td>0.362999</td>\n",
              "    </tr>\n",
              "    <tr>\n",
              "      <th>58165</th>\n",
              "      <td>055299863X</td>\n",
              "      <td>Marlene Dietrich Lived Here</td>\n",
              "      <td>Eleanor Bailey</td>\n",
              "      <td>2003</td>\n",
              "      <td>Black Swan Books, Limited</td>\n",
              "      <td>Marlene Dietrich Lived Here Eleanor Bailey Bla...</td>\n",
              "      <td>0.353247</td>\n",
              "    </tr>\n",
              "    <tr>\n",
              "      <th>60988</th>\n",
              "      <td>0552770973</td>\n",
              "      <td>I Like It Like That</td>\n",
              "      <td>Claire Calman</td>\n",
              "      <td>2003</td>\n",
              "      <td>Black Swan Books, Limited</td>\n",
              "      <td>I Like It Like That Claire Calman Black Swan B...</td>\n",
              "      <td>0.347790</td>\n",
              "    </tr>\n",
              "  </tbody>\n",
              "</table>\n",
              "</div>\n",
              "    <div class=\"colab-df-buttons\">\n",
              "\n",
              "  <div class=\"colab-df-container\">\n",
              "    <button class=\"colab-df-convert\" onclick=\"convertToInteractive('df-3ea5636e-a4ff-4b23-accf-666d25fbec60')\"\n",
              "            title=\"Convert this dataframe to an interactive table.\"\n",
              "            style=\"display:none;\">\n",
              "\n",
              "  <svg xmlns=\"http://www.w3.org/2000/svg\" height=\"24px\" viewBox=\"0 -960 960 960\">\n",
              "    <path d=\"M120-120v-720h720v720H120Zm60-500h600v-160H180v160Zm220 220h160v-160H400v160Zm0 220h160v-160H400v160ZM180-400h160v-160H180v160Zm440 0h160v-160H620v160ZM180-180h160v-160H180v160Zm440 0h160v-160H620v160Z\"/>\n",
              "  </svg>\n",
              "    </button>\n",
              "\n",
              "  <style>\n",
              "    .colab-df-container {\n",
              "      display:flex;\n",
              "      gap: 12px;\n",
              "    }\n",
              "\n",
              "    .colab-df-convert {\n",
              "      background-color: #E8F0FE;\n",
              "      border: none;\n",
              "      border-radius: 50%;\n",
              "      cursor: pointer;\n",
              "      display: none;\n",
              "      fill: #1967D2;\n",
              "      height: 32px;\n",
              "      padding: 0 0 0 0;\n",
              "      width: 32px;\n",
              "    }\n",
              "\n",
              "    .colab-df-convert:hover {\n",
              "      background-color: #E2EBFA;\n",
              "      box-shadow: 0px 1px 2px rgba(60, 64, 67, 0.3), 0px 1px 3px 1px rgba(60, 64, 67, 0.15);\n",
              "      fill: #174EA6;\n",
              "    }\n",
              "\n",
              "    .colab-df-buttons div {\n",
              "      margin-bottom: 4px;\n",
              "    }\n",
              "\n",
              "    [theme=dark] .colab-df-convert {\n",
              "      background-color: #3B4455;\n",
              "      fill: #D2E3FC;\n",
              "    }\n",
              "\n",
              "    [theme=dark] .colab-df-convert:hover {\n",
              "      background-color: #434B5C;\n",
              "      box-shadow: 0px 1px 3px 1px rgba(0, 0, 0, 0.15);\n",
              "      filter: drop-shadow(0px 1px 2px rgba(0, 0, 0, 0.3));\n",
              "      fill: #FFFFFF;\n",
              "    }\n",
              "  </style>\n",
              "\n",
              "    <script>\n",
              "      const buttonEl =\n",
              "        document.querySelector('#df-3ea5636e-a4ff-4b23-accf-666d25fbec60 button.colab-df-convert');\n",
              "      buttonEl.style.display =\n",
              "        google.colab.kernel.accessAllowed ? 'block' : 'none';\n",
              "\n",
              "      async function convertToInteractive(key) {\n",
              "        const element = document.querySelector('#df-3ea5636e-a4ff-4b23-accf-666d25fbec60');\n",
              "        const dataTable =\n",
              "          await google.colab.kernel.invokeFunction('convertToInteractive',\n",
              "                                                    [key], {});\n",
              "        if (!dataTable) return;\n",
              "\n",
              "        const docLinkHtml = 'Like what you see? Visit the ' +\n",
              "          '<a target=\"_blank\" href=https://colab.research.google.com/notebooks/data_table.ipynb>data table notebook</a>'\n",
              "          + ' to learn more about interactive tables.';\n",
              "        element.innerHTML = '';\n",
              "        dataTable['output_type'] = 'display_data';\n",
              "        await google.colab.output.renderOutput(dataTable, element);\n",
              "        const docLink = document.createElement('div');\n",
              "        docLink.innerHTML = docLinkHtml;\n",
              "        element.appendChild(docLink);\n",
              "      }\n",
              "    </script>\n",
              "  </div>\n",
              "\n",
              "\n",
              "<div id=\"df-c8321f13-fc00-4363-8521-dc3c6f1d05a0\">\n",
              "  <button class=\"colab-df-quickchart\" onclick=\"quickchart('df-c8321f13-fc00-4363-8521-dc3c6f1d05a0')\"\n",
              "            title=\"Suggest charts\"\n",
              "            style=\"display:none;\">\n",
              "\n",
              "<svg xmlns=\"http://www.w3.org/2000/svg\" height=\"24px\"viewBox=\"0 0 24 24\"\n",
              "     width=\"24px\">\n",
              "    <g>\n",
              "        <path d=\"M19 3H5c-1.1 0-2 .9-2 2v14c0 1.1.9 2 2 2h14c1.1 0 2-.9 2-2V5c0-1.1-.9-2-2-2zM9 17H7v-7h2v7zm4 0h-2V7h2v10zm4 0h-2v-4h2v4z\"/>\n",
              "    </g>\n",
              "</svg>\n",
              "  </button>\n",
              "\n",
              "<style>\n",
              "  .colab-df-quickchart {\n",
              "      --bg-color: #E8F0FE;\n",
              "      --fill-color: #1967D2;\n",
              "      --hover-bg-color: #E2EBFA;\n",
              "      --hover-fill-color: #174EA6;\n",
              "      --disabled-fill-color: #AAA;\n",
              "      --disabled-bg-color: #DDD;\n",
              "  }\n",
              "\n",
              "  [theme=dark] .colab-df-quickchart {\n",
              "      --bg-color: #3B4455;\n",
              "      --fill-color: #D2E3FC;\n",
              "      --hover-bg-color: #434B5C;\n",
              "      --hover-fill-color: #FFFFFF;\n",
              "      --disabled-bg-color: #3B4455;\n",
              "      --disabled-fill-color: #666;\n",
              "  }\n",
              "\n",
              "  .colab-df-quickchart {\n",
              "    background-color: var(--bg-color);\n",
              "    border: none;\n",
              "    border-radius: 50%;\n",
              "    cursor: pointer;\n",
              "    display: none;\n",
              "    fill: var(--fill-color);\n",
              "    height: 32px;\n",
              "    padding: 0;\n",
              "    width: 32px;\n",
              "  }\n",
              "\n",
              "  .colab-df-quickchart:hover {\n",
              "    background-color: var(--hover-bg-color);\n",
              "    box-shadow: 0 1px 2px rgba(60, 64, 67, 0.3), 0 1px 3px 1px rgba(60, 64, 67, 0.15);\n",
              "    fill: var(--button-hover-fill-color);\n",
              "  }\n",
              "\n",
              "  .colab-df-quickchart-complete:disabled,\n",
              "  .colab-df-quickchart-complete:disabled:hover {\n",
              "    background-color: var(--disabled-bg-color);\n",
              "    fill: var(--disabled-fill-color);\n",
              "    box-shadow: none;\n",
              "  }\n",
              "\n",
              "  .colab-df-spinner {\n",
              "    border: 2px solid var(--fill-color);\n",
              "    border-color: transparent;\n",
              "    border-bottom-color: var(--fill-color);\n",
              "    animation:\n",
              "      spin 1s steps(1) infinite;\n",
              "  }\n",
              "\n",
              "  @keyframes spin {\n",
              "    0% {\n",
              "      border-color: transparent;\n",
              "      border-bottom-color: var(--fill-color);\n",
              "      border-left-color: var(--fill-color);\n",
              "    }\n",
              "    20% {\n",
              "      border-color: transparent;\n",
              "      border-left-color: var(--fill-color);\n",
              "      border-top-color: var(--fill-color);\n",
              "    }\n",
              "    30% {\n",
              "      border-color: transparent;\n",
              "      border-left-color: var(--fill-color);\n",
              "      border-top-color: var(--fill-color);\n",
              "      border-right-color: var(--fill-color);\n",
              "    }\n",
              "    40% {\n",
              "      border-color: transparent;\n",
              "      border-right-color: var(--fill-color);\n",
              "      border-top-color: var(--fill-color);\n",
              "    }\n",
              "    60% {\n",
              "      border-color: transparent;\n",
              "      border-right-color: var(--fill-color);\n",
              "    }\n",
              "    80% {\n",
              "      border-color: transparent;\n",
              "      border-right-color: var(--fill-color);\n",
              "      border-bottom-color: var(--fill-color);\n",
              "    }\n",
              "    90% {\n",
              "      border-color: transparent;\n",
              "      border-bottom-color: var(--fill-color);\n",
              "    }\n",
              "  }\n",
              "</style>\n",
              "\n",
              "  <script>\n",
              "    async function quickchart(key) {\n",
              "      const quickchartButtonEl =\n",
              "        document.querySelector('#' + key + ' button');\n",
              "      quickchartButtonEl.disabled = true;  // To prevent multiple clicks.\n",
              "      quickchartButtonEl.classList.add('colab-df-spinner');\n",
              "      try {\n",
              "        const charts = await google.colab.kernel.invokeFunction(\n",
              "            'suggestCharts', [key], {});\n",
              "      } catch (error) {\n",
              "        console.error('Error during call to suggestCharts:', error);\n",
              "      }\n",
              "      quickchartButtonEl.classList.remove('colab-df-spinner');\n",
              "      quickchartButtonEl.classList.add('colab-df-quickchart-complete');\n",
              "    }\n",
              "    (() => {\n",
              "      let quickchartButtonEl =\n",
              "        document.querySelector('#df-c8321f13-fc00-4363-8521-dc3c6f1d05a0 button');\n",
              "      quickchartButtonEl.style.display =\n",
              "        google.colab.kernel.accessAllowed ? 'block' : 'none';\n",
              "    })();\n",
              "  </script>\n",
              "</div>\n",
              "\n",
              "  <div id=\"id_0c7a3db1-3021-4d46-ae10-05614a66d95a\">\n",
              "    <style>\n",
              "      .colab-df-generate {\n",
              "        background-color: #E8F0FE;\n",
              "        border: none;\n",
              "        border-radius: 50%;\n",
              "        cursor: pointer;\n",
              "        display: none;\n",
              "        fill: #1967D2;\n",
              "        height: 32px;\n",
              "        padding: 0 0 0 0;\n",
              "        width: 32px;\n",
              "      }\n",
              "\n",
              "      .colab-df-generate:hover {\n",
              "        background-color: #E2EBFA;\n",
              "        box-shadow: 0px 1px 2px rgba(60, 64, 67, 0.3), 0px 1px 3px 1px rgba(60, 64, 67, 0.15);\n",
              "        fill: #174EA6;\n",
              "      }\n",
              "\n",
              "      [theme=dark] .colab-df-generate {\n",
              "        background-color: #3B4455;\n",
              "        fill: #D2E3FC;\n",
              "      }\n",
              "\n",
              "      [theme=dark] .colab-df-generate:hover {\n",
              "        background-color: #434B5C;\n",
              "        box-shadow: 0px 1px 3px 1px rgba(0, 0, 0, 0.15);\n",
              "        filter: drop-shadow(0px 1px 2px rgba(0, 0, 0, 0.3));\n",
              "        fill: #FFFFFF;\n",
              "      }\n",
              "    </style>\n",
              "    <button class=\"colab-df-generate\" onclick=\"generateWithVariable('recommended_books')\"\n",
              "            title=\"Generate code using this dataframe.\"\n",
              "            style=\"display:none;\">\n",
              "\n",
              "  <svg xmlns=\"http://www.w3.org/2000/svg\" height=\"24px\"viewBox=\"0 0 24 24\"\n",
              "       width=\"24px\">\n",
              "    <path d=\"M7,19H8.4L18.45,9,17,7.55,7,17.6ZM5,21V16.75L18.45,3.32a2,2,0,0,1,2.83,0l1.4,1.43a1.91,1.91,0,0,1,.58,1.4,1.91,1.91,0,0,1-.58,1.4L9.25,21ZM18.45,9,17,7.55Zm-12,3A5.31,5.31,0,0,0,4.9,8.1,5.31,5.31,0,0,0,1,6.5,5.31,5.31,0,0,0,4.9,4.9,5.31,5.31,0,0,0,6.5,1,5.31,5.31,0,0,0,8.1,4.9,5.31,5.31,0,0,0,12,6.5,5.46,5.46,0,0,0,6.5,12Z\"/>\n",
              "  </svg>\n",
              "    </button>\n",
              "    <script>\n",
              "      (() => {\n",
              "      const buttonEl =\n",
              "        document.querySelector('#id_0c7a3db1-3021-4d46-ae10-05614a66d95a button.colab-df-generate');\n",
              "      buttonEl.style.display =\n",
              "        google.colab.kernel.accessAllowed ? 'block' : 'none';\n",
              "\n",
              "      buttonEl.onclick = () => {\n",
              "        google.colab.notebook.generateWithVariable('recommended_books');\n",
              "      }\n",
              "      })();\n",
              "    </script>\n",
              "  </div>\n",
              "\n",
              "    </div>\n",
              "  </div>\n"
            ],
            "text/plain": [
              "             ISBN                   Book-Title     Book-Author  \\\n",
              "32908  0751501999                        Stark       Ben Elton   \n",
              "49928  1856851273              Elton, My Elton     Gary Clarke   \n",
              "37612  0671718177              This Other Eden       Ben Elton   \n",
              "63152  0385334524          Blast from the Past       Ben Elton   \n",
              "56063  0552146986                Inconceivable       Ben Elton   \n",
              "81516  0751510114                     Gridlock       Ben Elton   \n",
              "6134   0552998338          Blast From the Past       Ben Elton   \n",
              "77057  0440106117               The Black Swan      Day Taylor   \n",
              "58165  055299863X  Marlene Dietrich Lived Here  Eleanor Bailey   \n",
              "60988  0552770973          I Like It Like That   Claire Calman   \n",
              "\n",
              "       Year-Of-Publication                              Publisher  \\\n",
              "32908                 1989                           Warner Books   \n",
              "49928                 1996                   Blake Publishing Ltd   \n",
              "37612                 1993  Simon &amp; Schuster (Trade Division)   \n",
              "63152                 2000                                  Delta   \n",
              "56063                 2000                  Bantam Doubleday Dell   \n",
              "81516                 1992                     Acacia Press, Inc.   \n",
              "6134                  1999                  Bantam Doubleday Dell   \n",
              "77057                 1984                      Bantam Books (Mm)   \n",
              "58165                 2003              Black Swan Books, Limited   \n",
              "60988                 2003              Black Swan Books, Limited   \n",
              "\n",
              "                                                 content  Similarity  \n",
              "32908                       Stark Ben Elton Warner Books    0.466023  \n",
              "49928   Elton, My Elton Gary Clarke Blake Publishing Ltd    0.395006  \n",
              "37612  This Other Eden Ben Elton Simon &amp; Schuster...    0.387760  \n",
              "63152                Blast from the Past Ben Elton Delta    0.385531  \n",
              "56063      Inconceivable Ben Elton Bantam Doubleday Dell    0.380187  \n",
              "81516              Gridlock Ben Elton Acacia Press, Inc.    0.376230  \n",
              "6134   Blast From the Past Ben Elton Bantam Doubleday...    0.371029  \n",
              "77057        The Black Swan Day Taylor Bantam Books (Mm)    0.362999  \n",
              "58165  Marlene Dietrich Lived Here Eleanor Bailey Bla...    0.353247  \n",
              "60988  I Like It Like That Claire Calman Black Swan B...    0.347790  "
            ]
          },
          "execution_count": 38,
          "metadata": {},
          "output_type": "execute_result"
        }
      ],
      "source": [
        "BOOK_TITLE_PREDICT = 'High Society'\n",
        "recommended_books = get_recommendations(BOOK_TITLE_PREDICT, books_cbf, cosine_sim, k=10)\n",
        "recommended_books"
      ]
    },
    {
      "cell_type": "markdown",
      "metadata": {
        "id": "OUK-vj-EE5x0"
      },
      "source": [
        "Yeay! Akhirnya kita berhasil membuat sistem rekomendasi content based filetering dengan TF-IDF. Kita telah berhasil memberikan rekomendasi buku berdasarkan judul dengan memanfaatkan fitur-fitur yang ada pada dataset books.csv."
      ]
    },
    {
      "cell_type": "markdown",
      "metadata": {
        "id": "K6YjFlaQi144"
      },
      "source": [
        "## Content Based Filtering Evaluation\n",
        "\n",
        "Untuk mengevaluasi model content based filtering yang telah dibuat, kita akan menggunakan metode evaluasi precision at k. Kita akan membandingkan rekomendasi yang diberikan oleh model dengan rekomendasi yang seharusnya diberikan."
      ]
    },
    {
      "cell_type": "code",
      "execution_count": null,
      "metadata": {
        "colab": {
          "base_uri": "https://localhost:8080/"
        },
        "id": "mli_PUQZi1Yo",
        "outputId": "c6158ef3-5130-4e78-c58a-c232b48b18d5"
      },
      "outputs": [
        {
          "name": "stdout",
          "output_type": "stream",
          "text": [
            "Precision@10: 0.80\n",
            "\n",
            "Evaluation Detail:\n",
            "Book to Search: High Society\n",
            "\n",
            "Top 10 books with title, author and publisher similarities:\n",
            "Title: Stark\n",
            "Author: Ben Elton\n",
            "Publisher: Warner Books\n",
            "--------------------------------------------------\n",
            "Title: Elton, My Elton\n",
            "Author: Gary Clarke\n",
            "Publisher: Blake Publishing Ltd\n",
            "--------------------------------------------------\n",
            "Title: This Other Eden\n",
            "Author: Ben Elton\n",
            "Publisher: Simon &amp; Schuster (Trade Division)\n",
            "--------------------------------------------------\n",
            "Title: Blast from the Past\n",
            "Author: Ben Elton\n",
            "Publisher: Delta\n",
            "--------------------------------------------------\n",
            "Title: Inconceivable\n",
            "Author: Ben Elton\n",
            "Publisher: Bantam Doubleday Dell\n",
            "--------------------------------------------------\n",
            "Title: Gridlock\n",
            "Author: Ben Elton\n",
            "Publisher: Acacia Press, Inc.\n",
            "--------------------------------------------------\n",
            "Title: Blast From the Past\n",
            "Author: Ben Elton\n",
            "Publisher: Bantam Doubleday Dell\n",
            "--------------------------------------------------\n",
            "Title: The Black Swan\n",
            "Author: Day Taylor\n",
            "Publisher: Bantam Books (Mm)\n",
            "--------------------------------------------------\n",
            "Title: Marlene Dietrich Lived Here\n",
            "Author: Eleanor Bailey\n",
            "Publisher: Black Swan Books, Limited\n",
            "--------------------------------------------------\n",
            "Title: I Like It Like That\n",
            "Author: Claire Calman\n",
            "Publisher: Black Swan Books, Limited\n",
            "--------------------------------------------------\n"
          ]
        }
      ],
      "source": [
        "def precision_at_k(recommended_books, base_book, k=5):\n",
        "    relevant = 0\n",
        "    top_k_recommendations = recommended_books.head(k)\n",
        "\n",
        "    for _, book in top_k_recommendations.iterrows():\n",
        "        if (book['Book-Title'] == base_book['Book-Title']) or (book['Book-Author'] == base_book['Book-Author']) or (book['Publisher'] == base_book['Publisher']):\n",
        "            relevant += 1\n",
        "\n",
        "    return relevant / k\n",
        "\n",
        "# ** Evaluasi Precision@K **\n",
        "base_book = books_cbf[books_cbf['Book-Title'].str.lower() == BOOK_TITLE_PREDICT.lower().strip()].iloc[0]\n",
        "precision = precision_at_k(recommended_books, base_book, k=10)\n",
        "print(f\"Precision@10: {precision:.2f}\")\n",
        "\n",
        "print(\"\\nEvaluation Detail:\")\n",
        "print(\"Book to Search:\", BOOK_TITLE_PREDICT)\n",
        "print(\"\\nTop 10 books with title, author and publisher similarities:\")\n",
        "for _, data in recommended_books.head(10).iterrows():\n",
        "    print(f\"Title: {data['Book-Title']}\")\n",
        "    print(f\"Author: {data['Book-Author']}\")\n",
        "    print(f\"Publisher: {data['Publisher']}\")\n",
        "    print(\"-\" * 50)"
      ]
    },
    {
      "cell_type": "markdown",
      "metadata": {
        "id": "lNUxKJDokmG5"
      },
      "source": [
        "Hasil precision menunjukan angka 0.80 dari 10 rekomendasi yang diberikan oleh model, 8 di antaranya adalah rekomendasi yang relevan. Hal ini menunjukkan bahwa model content based filtering yang telah dibuat memiliki tingkat akurasi yang baik dalam memberikan rekomendasi buku."
      ]
    },
    {
      "cell_type": "markdown",
      "metadata": {
        "id": "M-NOl2ARF4Ks"
      },
      "source": [
        "# Model Development dengan Collaborative Filtering"
      ]
    },
    {
      "cell_type": "markdown",
      "metadata": {
        "id": "YmNw61swNKON"
      },
      "source": [
        "## Data Preaparation\n",
        "\n",
        "Sebelum melakukan pembuatan model, kita harus memastikan bahwa data telah bersih dari duplicated data dan missing values"
      ]
    },
    {
      "cell_type": "code",
      "execution_count": 41,
      "metadata": {
        "colab": {
          "base_uri": "https://localhost:8080/",
          "height": 178
        },
        "id": "coSnog7SF42k",
        "outputId": "160dbc08-cdc6-4df2-ce53-b0355b9ffce1"
      },
      "outputs": [
        {
          "data": {
            "text/html": [
              "<div>\n",
              "<style scoped>\n",
              "    .dataframe tbody tr th:only-of-type {\n",
              "        vertical-align: middle;\n",
              "    }\n",
              "\n",
              "    .dataframe tbody tr th {\n",
              "        vertical-align: top;\n",
              "    }\n",
              "\n",
              "    .dataframe thead th {\n",
              "        text-align: right;\n",
              "    }\n",
              "</style>\n",
              "<table border=\"1\" class=\"dataframe\">\n",
              "  <thead>\n",
              "    <tr style=\"text-align: right;\">\n",
              "      <th></th>\n",
              "      <th>0</th>\n",
              "    </tr>\n",
              "  </thead>\n",
              "  <tbody>\n",
              "    <tr>\n",
              "      <th>User-ID</th>\n",
              "      <td>0</td>\n",
              "    </tr>\n",
              "    <tr>\n",
              "      <th>ISBN</th>\n",
              "      <td>0</td>\n",
              "    </tr>\n",
              "    <tr>\n",
              "      <th>Book-Rating</th>\n",
              "      <td>0</td>\n",
              "    </tr>\n",
              "  </tbody>\n",
              "</table>\n",
              "</div><br><label><b>dtype:</b> int64</label>"
            ],
            "text/plain": [
              "User-ID        0\n",
              "ISBN           0\n",
              "Book-Rating    0\n",
              "dtype: int64"
            ]
          },
          "execution_count": 41,
          "metadata": {},
          "output_type": "execute_result"
        }
      ],
      "source": [
        "# Missing Values data Rating\n",
        "ratings.isnull().sum()"
      ]
    },
    {
      "cell_type": "markdown",
      "metadata": {
        "id": "X2DQZozCPh4t"
      },
      "source": [
        "Tidak terdapat missing values pada file rating.csv"
      ]
    },
    {
      "cell_type": "code",
      "execution_count": 58,
      "metadata": {
        "colab": {
          "base_uri": "https://localhost:8080/"
        },
        "id": "zzl1O0n6F_e8",
        "outputId": "9fd618f5-e2e2-424d-8279-fa73e8f968e9"
      },
      "outputs": [
        {
          "data": {
            "text/plain": [
              "0"
            ]
          },
          "execution_count": 58,
          "metadata": {},
          "output_type": "execute_result"
        }
      ],
      "source": [
        "ratings.duplicated().sum()"
      ]
    },
    {
      "cell_type": "markdown",
      "metadata": {
        "id": "WIjlhrj4Nb6t"
      },
      "source": [
        "### Encoding User-ID dan ISBN\n",
        "\n",
        "Pada tahap ini kita akan melakukan encoding pada kolom User-ID dan ISBN untuk mempermudah proses modeling. Hal ini dilakukan dengan mengubah User-ID dan ISBN menjadi kategori yang unik."
      ]
    },
    {
      "cell_type": "code",
      "execution_count": null,
      "metadata": {
        "id": "V6ZgEI1LNkSN"
      },
      "outputs": [],
      "source": [
        "# Encoding User-ID and ISBN\n",
        "user_ids = ratings['User-ID'].unique().tolist()\n",
        "book_ids = ratings['ISBN'].unique().tolist()\n",
        "\n",
        "user_to_user_encoded = {x: i for i, x in enumerate(user_ids)}\n",
        "book_to_book_encoded = {x: i for i, x in enumerate(book_ids)}"
      ]
    },
    {
      "cell_type": "markdown",
      "metadata": {
        "id": "s1Yeo9fKK6zT"
      },
      "source": [
        "Encoding dilakukan untuk mengubah data kategorikal, seperti User-ID dan ISBN, menjadi format numerik agar dapat diproses oleh model machine learning"
      ]
    },
    {
      "cell_type": "code",
      "execution_count": 47,
      "metadata": {
        "colab": {
          "base_uri": "https://localhost:8080/"
        },
        "id": "RJDzjUoVRuvF",
        "outputId": "47cfdb7b-b3c9-4328-b99f-a1d5963f951b"
      },
      "outputs": [
        {
          "name": "stdout",
          "output_type": "stream",
          "text": [
            "total user encoded: 77805\n",
            "total book encoded: 185973\n"
          ]
        }
      ],
      "source": [
        "# Mapping to dataframe\n",
        "ratings['user'] = ratings['User-ID'].map(user_to_user_encoded)\n",
        "ratings['book'] = ratings['ISBN'].map(book_to_book_encoded)\n",
        "\n",
        "num_users = len(user_to_user_encoded)\n",
        "num_books = len(book_to_book_encoded)\n",
        "\n",
        "print(f\"total user encoded: {num_users}\")\n",
        "print(f\"total book encoded: {num_books}\")"
      ]
    },
    {
      "cell_type": "markdown",
      "metadata": {
        "id": "giJCzVwoK7rj"
      },
      "source": [
        "Terdapat 77.805 unique User-ID dan 185.973 unique ISBN dalam dataset"
      ]
    },
    {
      "cell_type": "markdown",
      "metadata": {
        "id": "SMx33i5qNkqs"
      },
      "source": [
        "### Normalisasi Rating\n",
        "Mengubah nilai rating ke skala antara 0 dan 1 untuk memudahkan proses pelatihan model."
      ]
    },
    {
      "cell_type": "code",
      "execution_count": 48,
      "metadata": {
        "id": "l6JhAvRiNoWU"
      },
      "outputs": [],
      "source": [
        "min_rating = ratings['Book-Rating'].min()\n",
        "max_rating = ratings['Book-Rating'].max()\n",
        "ratings['Book-Rating'] = (ratings['Book-Rating'] - min_rating) / (max_rating - min_rating)"
      ]
    },
    {
      "cell_type": "markdown",
      "metadata": {
        "id": "NEvqfAmONolW"
      },
      "source": [
        "## Membagi data menjadi training dan validation\n",
        "\n",
        "Membagi dataset menjadi:\n",
        "- 80% data training untuk melatih model.\n",
        "- 20% data validation untuk mengevaluasi performa model selama pelatihan.\n",
        "\n",
        "- x_train dan x_val: Berisi pasangan user dan book.\n",
        "- y_train dan y_val: Berisi rating yang menjadi target."
      ]
    },
    {
      "cell_type": "markdown",
      "metadata": {},
      "source": [
        "Acak data sebelum membagi dataset menjadi training dan validation untuk menghindari bias."
      ]
    },
    {
      "cell_type": "code",
      "execution_count": 49,
      "metadata": {
        "colab": {
          "base_uri": "https://localhost:8080/",
          "height": 424
        },
        "id": "i1cO47zVuxVw",
        "outputId": "2dd67b0b-7d9e-4ac3-ce27-23a9d694da6e"
      },
      "outputs": [
        {
          "data": {
            "application/vnd.google.colaboratory.intrinsic+json": {
              "type": "dataframe",
              "variable_name": "ratings"
            },
            "text/html": [
              "\n",
              "  <div id=\"df-d099dd49-e632-4cbc-a941-b7f004510cd7\" class=\"colab-df-container\">\n",
              "    <div>\n",
              "<style scoped>\n",
              "    .dataframe tbody tr th:only-of-type {\n",
              "        vertical-align: middle;\n",
              "    }\n",
              "\n",
              "    .dataframe tbody tr th {\n",
              "        vertical-align: top;\n",
              "    }\n",
              "\n",
              "    .dataframe thead th {\n",
              "        text-align: right;\n",
              "    }\n",
              "</style>\n",
              "<table border=\"1\" class=\"dataframe\">\n",
              "  <thead>\n",
              "    <tr style=\"text-align: right;\">\n",
              "      <th></th>\n",
              "      <th>User-ID</th>\n",
              "      <th>ISBN</th>\n",
              "      <th>Book-Rating</th>\n",
              "      <th>user</th>\n",
              "      <th>book</th>\n",
              "    </tr>\n",
              "  </thead>\n",
              "  <tbody>\n",
              "    <tr>\n",
              "      <th>144846</th>\n",
              "      <td>32440</td>\n",
              "      <td>0380018179</td>\n",
              "      <td>0.777778</td>\n",
              "      <td>9713</td>\n",
              "      <td>1013</td>\n",
              "    </tr>\n",
              "    <tr>\n",
              "      <th>211411</th>\n",
              "      <td>49144</td>\n",
              "      <td>8422641127</td>\n",
              "      <td>0.444444</td>\n",
              "      <td>14390</td>\n",
              "      <td>54663</td>\n",
              "    </tr>\n",
              "    <tr>\n",
              "      <th>647520</th>\n",
              "      <td>156424</td>\n",
              "      <td>3442453844</td>\n",
              "      <td>0.666667</td>\n",
              "      <td>44370</td>\n",
              "      <td>127953</td>\n",
              "    </tr>\n",
              "    <tr>\n",
              "      <th>30124</th>\n",
              "      <td>7125</td>\n",
              "      <td>0060586125</td>\n",
              "      <td>0.777778</td>\n",
              "      <td>2587</td>\n",
              "      <td>10359</td>\n",
              "    </tr>\n",
              "    <tr>\n",
              "      <th>1052982</th>\n",
              "      <td>251606</td>\n",
              "      <td>0316789844</td>\n",
              "      <td>0.777778</td>\n",
              "      <td>70897</td>\n",
              "      <td>7053</td>\n",
              "    </tr>\n",
              "    <tr>\n",
              "      <th>...</th>\n",
              "      <td>...</td>\n",
              "      <td>...</td>\n",
              "      <td>...</td>\n",
              "      <td>...</td>\n",
              "      <td>...</td>\n",
              "    </tr>\n",
              "    <tr>\n",
              "      <th>658592</th>\n",
              "      <td>159834</td>\n",
              "      <td>0441132456</td>\n",
              "      <td>0.666667</td>\n",
              "      <td>45235</td>\n",
              "      <td>70428</td>\n",
              "    </tr>\n",
              "    <tr>\n",
              "      <th>958724</th>\n",
              "      <td>231613</td>\n",
              "      <td>0747542333</td>\n",
              "      <td>0.444444</td>\n",
              "      <td>65186</td>\n",
              "      <td>33018</td>\n",
              "    </tr>\n",
              "    <tr>\n",
              "      <th>335707</th>\n",
              "      <td>79923</td>\n",
              "      <td>0440206154</td>\n",
              "      <td>0.777778</td>\n",
              "      <td>22993</td>\n",
              "      <td>6822</td>\n",
              "    </tr>\n",
              "    <tr>\n",
              "      <th>373697</th>\n",
              "      <td>89610</td>\n",
              "      <td>8880891960</td>\n",
              "      <td>0.444444</td>\n",
              "      <td>25753</td>\n",
              "      <td>84887</td>\n",
              "    </tr>\n",
              "    <tr>\n",
              "      <th>309662</th>\n",
              "      <td>74170</td>\n",
              "      <td>0061020656</td>\n",
              "      <td>0.777778</td>\n",
              "      <td>21414</td>\n",
              "      <td>43793</td>\n",
              "    </tr>\n",
              "  </tbody>\n",
              "</table>\n",
              "<p>433671 rows × 5 columns</p>\n",
              "</div>\n",
              "    <div class=\"colab-df-buttons\">\n",
              "\n",
              "  <div class=\"colab-df-container\">\n",
              "    <button class=\"colab-df-convert\" onclick=\"convertToInteractive('df-d099dd49-e632-4cbc-a941-b7f004510cd7')\"\n",
              "            title=\"Convert this dataframe to an interactive table.\"\n",
              "            style=\"display:none;\">\n",
              "\n",
              "  <svg xmlns=\"http://www.w3.org/2000/svg\" height=\"24px\" viewBox=\"0 -960 960 960\">\n",
              "    <path d=\"M120-120v-720h720v720H120Zm60-500h600v-160H180v160Zm220 220h160v-160H400v160Zm0 220h160v-160H400v160ZM180-400h160v-160H180v160Zm440 0h160v-160H620v160ZM180-180h160v-160H180v160Zm440 0h160v-160H620v160Z\"/>\n",
              "  </svg>\n",
              "    </button>\n",
              "\n",
              "  <style>\n",
              "    .colab-df-container {\n",
              "      display:flex;\n",
              "      gap: 12px;\n",
              "    }\n",
              "\n",
              "    .colab-df-convert {\n",
              "      background-color: #E8F0FE;\n",
              "      border: none;\n",
              "      border-radius: 50%;\n",
              "      cursor: pointer;\n",
              "      display: none;\n",
              "      fill: #1967D2;\n",
              "      height: 32px;\n",
              "      padding: 0 0 0 0;\n",
              "      width: 32px;\n",
              "    }\n",
              "\n",
              "    .colab-df-convert:hover {\n",
              "      background-color: #E2EBFA;\n",
              "      box-shadow: 0px 1px 2px rgba(60, 64, 67, 0.3), 0px 1px 3px 1px rgba(60, 64, 67, 0.15);\n",
              "      fill: #174EA6;\n",
              "    }\n",
              "\n",
              "    .colab-df-buttons div {\n",
              "      margin-bottom: 4px;\n",
              "    }\n",
              "\n",
              "    [theme=dark] .colab-df-convert {\n",
              "      background-color: #3B4455;\n",
              "      fill: #D2E3FC;\n",
              "    }\n",
              "\n",
              "    [theme=dark] .colab-df-convert:hover {\n",
              "      background-color: #434B5C;\n",
              "      box-shadow: 0px 1px 3px 1px rgba(0, 0, 0, 0.15);\n",
              "      filter: drop-shadow(0px 1px 2px rgba(0, 0, 0, 0.3));\n",
              "      fill: #FFFFFF;\n",
              "    }\n",
              "  </style>\n",
              "\n",
              "    <script>\n",
              "      const buttonEl =\n",
              "        document.querySelector('#df-d099dd49-e632-4cbc-a941-b7f004510cd7 button.colab-df-convert');\n",
              "      buttonEl.style.display =\n",
              "        google.colab.kernel.accessAllowed ? 'block' : 'none';\n",
              "\n",
              "      async function convertToInteractive(key) {\n",
              "        const element = document.querySelector('#df-d099dd49-e632-4cbc-a941-b7f004510cd7');\n",
              "        const dataTable =\n",
              "          await google.colab.kernel.invokeFunction('convertToInteractive',\n",
              "                                                    [key], {});\n",
              "        if (!dataTable) return;\n",
              "\n",
              "        const docLinkHtml = 'Like what you see? Visit the ' +\n",
              "          '<a target=\"_blank\" href=https://colab.research.google.com/notebooks/data_table.ipynb>data table notebook</a>'\n",
              "          + ' to learn more about interactive tables.';\n",
              "        element.innerHTML = '';\n",
              "        dataTable['output_type'] = 'display_data';\n",
              "        await google.colab.output.renderOutput(dataTable, element);\n",
              "        const docLink = document.createElement('div');\n",
              "        docLink.innerHTML = docLinkHtml;\n",
              "        element.appendChild(docLink);\n",
              "      }\n",
              "    </script>\n",
              "  </div>\n",
              "\n",
              "\n",
              "<div id=\"df-6a269c5e-bb82-45a9-a331-6611af6a5dbe\">\n",
              "  <button class=\"colab-df-quickchart\" onclick=\"quickchart('df-6a269c5e-bb82-45a9-a331-6611af6a5dbe')\"\n",
              "            title=\"Suggest charts\"\n",
              "            style=\"display:none;\">\n",
              "\n",
              "<svg xmlns=\"http://www.w3.org/2000/svg\" height=\"24px\"viewBox=\"0 0 24 24\"\n",
              "     width=\"24px\">\n",
              "    <g>\n",
              "        <path d=\"M19 3H5c-1.1 0-2 .9-2 2v14c0 1.1.9 2 2 2h14c1.1 0 2-.9 2-2V5c0-1.1-.9-2-2-2zM9 17H7v-7h2v7zm4 0h-2V7h2v10zm4 0h-2v-4h2v4z\"/>\n",
              "    </g>\n",
              "</svg>\n",
              "  </button>\n",
              "\n",
              "<style>\n",
              "  .colab-df-quickchart {\n",
              "      --bg-color: #E8F0FE;\n",
              "      --fill-color: #1967D2;\n",
              "      --hover-bg-color: #E2EBFA;\n",
              "      --hover-fill-color: #174EA6;\n",
              "      --disabled-fill-color: #AAA;\n",
              "      --disabled-bg-color: #DDD;\n",
              "  }\n",
              "\n",
              "  [theme=dark] .colab-df-quickchart {\n",
              "      --bg-color: #3B4455;\n",
              "      --fill-color: #D2E3FC;\n",
              "      --hover-bg-color: #434B5C;\n",
              "      --hover-fill-color: #FFFFFF;\n",
              "      --disabled-bg-color: #3B4455;\n",
              "      --disabled-fill-color: #666;\n",
              "  }\n",
              "\n",
              "  .colab-df-quickchart {\n",
              "    background-color: var(--bg-color);\n",
              "    border: none;\n",
              "    border-radius: 50%;\n",
              "    cursor: pointer;\n",
              "    display: none;\n",
              "    fill: var(--fill-color);\n",
              "    height: 32px;\n",
              "    padding: 0;\n",
              "    width: 32px;\n",
              "  }\n",
              "\n",
              "  .colab-df-quickchart:hover {\n",
              "    background-color: var(--hover-bg-color);\n",
              "    box-shadow: 0 1px 2px rgba(60, 64, 67, 0.3), 0 1px 3px 1px rgba(60, 64, 67, 0.15);\n",
              "    fill: var(--button-hover-fill-color);\n",
              "  }\n",
              "\n",
              "  .colab-df-quickchart-complete:disabled,\n",
              "  .colab-df-quickchart-complete:disabled:hover {\n",
              "    background-color: var(--disabled-bg-color);\n",
              "    fill: var(--disabled-fill-color);\n",
              "    box-shadow: none;\n",
              "  }\n",
              "\n",
              "  .colab-df-spinner {\n",
              "    border: 2px solid var(--fill-color);\n",
              "    border-color: transparent;\n",
              "    border-bottom-color: var(--fill-color);\n",
              "    animation:\n",
              "      spin 1s steps(1) infinite;\n",
              "  }\n",
              "\n",
              "  @keyframes spin {\n",
              "    0% {\n",
              "      border-color: transparent;\n",
              "      border-bottom-color: var(--fill-color);\n",
              "      border-left-color: var(--fill-color);\n",
              "    }\n",
              "    20% {\n",
              "      border-color: transparent;\n",
              "      border-left-color: var(--fill-color);\n",
              "      border-top-color: var(--fill-color);\n",
              "    }\n",
              "    30% {\n",
              "      border-color: transparent;\n",
              "      border-left-color: var(--fill-color);\n",
              "      border-top-color: var(--fill-color);\n",
              "      border-right-color: var(--fill-color);\n",
              "    }\n",
              "    40% {\n",
              "      border-color: transparent;\n",
              "      border-right-color: var(--fill-color);\n",
              "      border-top-color: var(--fill-color);\n",
              "    }\n",
              "    60% {\n",
              "      border-color: transparent;\n",
              "      border-right-color: var(--fill-color);\n",
              "    }\n",
              "    80% {\n",
              "      border-color: transparent;\n",
              "      border-right-color: var(--fill-color);\n",
              "      border-bottom-color: var(--fill-color);\n",
              "    }\n",
              "    90% {\n",
              "      border-color: transparent;\n",
              "      border-bottom-color: var(--fill-color);\n",
              "    }\n",
              "  }\n",
              "</style>\n",
              "\n",
              "  <script>\n",
              "    async function quickchart(key) {\n",
              "      const quickchartButtonEl =\n",
              "        document.querySelector('#' + key + ' button');\n",
              "      quickchartButtonEl.disabled = true;  // To prevent multiple clicks.\n",
              "      quickchartButtonEl.classList.add('colab-df-spinner');\n",
              "      try {\n",
              "        const charts = await google.colab.kernel.invokeFunction(\n",
              "            'suggestCharts', [key], {});\n",
              "      } catch (error) {\n",
              "        console.error('Error during call to suggestCharts:', error);\n",
              "      }\n",
              "      quickchartButtonEl.classList.remove('colab-df-spinner');\n",
              "      quickchartButtonEl.classList.add('colab-df-quickchart-complete');\n",
              "    }\n",
              "    (() => {\n",
              "      let quickchartButtonEl =\n",
              "        document.querySelector('#df-6a269c5e-bb82-45a9-a331-6611af6a5dbe button');\n",
              "      quickchartButtonEl.style.display =\n",
              "        google.colab.kernel.accessAllowed ? 'block' : 'none';\n",
              "    })();\n",
              "  </script>\n",
              "</div>\n",
              "\n",
              "  <div id=\"id_970e29d6-5d5b-4217-8cf9-f760822380b2\">\n",
              "    <style>\n",
              "      .colab-df-generate {\n",
              "        background-color: #E8F0FE;\n",
              "        border: none;\n",
              "        border-radius: 50%;\n",
              "        cursor: pointer;\n",
              "        display: none;\n",
              "        fill: #1967D2;\n",
              "        height: 32px;\n",
              "        padding: 0 0 0 0;\n",
              "        width: 32px;\n",
              "      }\n",
              "\n",
              "      .colab-df-generate:hover {\n",
              "        background-color: #E2EBFA;\n",
              "        box-shadow: 0px 1px 2px rgba(60, 64, 67, 0.3), 0px 1px 3px 1px rgba(60, 64, 67, 0.15);\n",
              "        fill: #174EA6;\n",
              "      }\n",
              "\n",
              "      [theme=dark] .colab-df-generate {\n",
              "        background-color: #3B4455;\n",
              "        fill: #D2E3FC;\n",
              "      }\n",
              "\n",
              "      [theme=dark] .colab-df-generate:hover {\n",
              "        background-color: #434B5C;\n",
              "        box-shadow: 0px 1px 3px 1px rgba(0, 0, 0, 0.15);\n",
              "        filter: drop-shadow(0px 1px 2px rgba(0, 0, 0, 0.3));\n",
              "        fill: #FFFFFF;\n",
              "      }\n",
              "    </style>\n",
              "    <button class=\"colab-df-generate\" onclick=\"generateWithVariable('ratings')\"\n",
              "            title=\"Generate code using this dataframe.\"\n",
              "            style=\"display:none;\">\n",
              "\n",
              "  <svg xmlns=\"http://www.w3.org/2000/svg\" height=\"24px\"viewBox=\"0 0 24 24\"\n",
              "       width=\"24px\">\n",
              "    <path d=\"M7,19H8.4L18.45,9,17,7.55,7,17.6ZM5,21V16.75L18.45,3.32a2,2,0,0,1,2.83,0l1.4,1.43a1.91,1.91,0,0,1,.58,1.4,1.91,1.91,0,0,1-.58,1.4L9.25,21ZM18.45,9,17,7.55Zm-12,3A5.31,5.31,0,0,0,4.9,8.1,5.31,5.31,0,0,0,1,6.5,5.31,5.31,0,0,0,4.9,4.9,5.31,5.31,0,0,0,6.5,1,5.31,5.31,0,0,0,8.1,4.9,5.31,5.31,0,0,0,12,6.5,5.46,5.46,0,0,0,6.5,12Z\"/>\n",
              "  </svg>\n",
              "    </button>\n",
              "    <script>\n",
              "      (() => {\n",
              "      const buttonEl =\n",
              "        document.querySelector('#id_970e29d6-5d5b-4217-8cf9-f760822380b2 button.colab-df-generate');\n",
              "      buttonEl.style.display =\n",
              "        google.colab.kernel.accessAllowed ? 'block' : 'none';\n",
              "\n",
              "      buttonEl.onclick = () => {\n",
              "        google.colab.notebook.generateWithVariable('ratings');\n",
              "      }\n",
              "      })();\n",
              "    </script>\n",
              "  </div>\n",
              "\n",
              "    </div>\n",
              "  </div>\n"
            ],
            "text/plain": [
              "         User-ID        ISBN  Book-Rating   user    book\n",
              "144846     32440  0380018179     0.777778   9713    1013\n",
              "211411     49144  8422641127     0.444444  14390   54663\n",
              "647520    156424  3442453844     0.666667  44370  127953\n",
              "30124       7125  0060586125     0.777778   2587   10359\n",
              "1052982   251606  0316789844     0.777778  70897    7053\n",
              "...          ...         ...          ...    ...     ...\n",
              "658592    159834  0441132456     0.666667  45235   70428\n",
              "958724    231613  0747542333     0.444444  65186   33018\n",
              "335707     79923  0440206154     0.777778  22993    6822\n",
              "373697     89610  8880891960     0.444444  25753   84887\n",
              "309662     74170  0061020656     0.777778  21414   43793\n",
              "\n",
              "[433671 rows x 5 columns]"
            ]
          },
          "execution_count": 49,
          "metadata": {},
          "output_type": "execute_result"
        }
      ],
      "source": [
        "ratings = ratings.sample(frac=1, random_state=42)\n",
        "ratings"
      ]
    },
    {
      "cell_type": "code",
      "execution_count": 50,
      "metadata": {
        "id": "u78o2tRYNsD9"
      },
      "outputs": [],
      "source": [
        "train_indices = int(0.8 * ratings.shape[0])\n",
        "x_train, x_val = ratings[['user', 'book']].values[:train_indices], ratings[['user', 'book']].values[train_indices:]\n",
        "y_train, y_val = ratings['Book-Rating'].values[:train_indices], ratings['Book-Rating'].values[train_indices:]"
      ]
    },
    {
      "cell_type": "markdown",
      "metadata": {
        "id": "ZvLQ6b-_NxjF"
      },
      "source": [
        "## Membangun Model Collaborative Filtering menggunakan TensorFlow\n",
        "Membuat arsitektur model dengan:\n",
        "\n",
        "- Embedding Layer:\n",
        "Digunakan untuk memetakan user dan book ke dalam vektor berdimensi rendah.\n",
        "- Dot Product:\n",
        "Menghitung kesamaan antara vektor user dan book.\n",
        "- Bias:\n",
        "Menambahkan nilai bias ke hasil prediksi untuk menangkap kecenderungan individu."
      ]
    },
    {
      "cell_type": "code",
      "execution_count": 51,
      "metadata": {
        "id": "4jGLaMN9NzWl"
      },
      "outputs": [],
      "source": [
        "class RecommenderNet(tf.keras.Model):\n",
        "    def __init__(self, num_users, num_books, embedding_size):\n",
        "        super(RecommenderNet, self).__init__()\n",
        "        self.user_embedding = layers.Embedding(num_users, embedding_size, embeddings_initializer='he_normal')\n",
        "        self.book_embedding = layers.Embedding(num_books, embedding_size, embeddings_initializer='he_normal')\n",
        "        self.user_bias = layers.Embedding(num_users, 1)\n",
        "        self.book_bias = layers.Embedding(num_books, 1)\n",
        "\n",
        "    def call(self, inputs):\n",
        "        user_vector = self.user_embedding(inputs[:, 0])\n",
        "        book_vector = self.book_embedding(inputs[:, 1])\n",
        "        user_bias = self.user_bias(inputs[:, 0])\n",
        "        book_bias = self.book_bias(inputs[:, 1])\n",
        "\n",
        "        dot_product = tf.tensordot(user_vector, book_vector, 2)\n",
        "        output = dot_product + user_bias + book_bias\n",
        "        return tf.nn.sigmoid(output)"
      ]
    },
    {
      "cell_type": "markdown",
      "metadata": {
        "id": "9K2jNRR3N1Zd"
      },
      "source": [
        "## Menyiapkan model\n",
        "\n",
        "Model ini menggunakan Mean Squared Error (MSE) sebagai loss function, Adam sebagai optimizer, dan Root Mean Squared Error (RMSE) sebagai metrics evaluation."
      ]
    },
    {
      "cell_type": "code",
      "execution_count": 52,
      "metadata": {
        "id": "gpdo-JwIN2vl"
      },
      "outputs": [],
      "source": [
        "embedding_size = 35\n",
        "model = RecommenderNet(num_users, num_books, embedding_size)\n",
        "\n",
        "model.compile(\n",
        "    loss='mse',\n",
        "    optimizer=tf.keras.optimizers.Adam(learning_rate=0.0001),\n",
        "    metrics=[tf.keras.metrics.RootMeanSquaredError()]\n",
        ")"
      ]
    },
    {
      "cell_type": "markdown",
      "metadata": {
        "id": "R_NbfSmeTPTN"
      },
      "source": [
        "- Ukuran Embedding:\n",
        "Mengatur dimensi embedding untuk user dan book.\n",
        "- Kompilasi Model:\n",
        "  - Loss: Menggunakan mean squared error sebagai loss function karena rating bersifat continuous.\n",
        "  - Optimizer: Adam digunakan untuk memperbarui bobot secara efisien.\n"
      ]
    },
    {
      "cell_type": "markdown",
      "metadata": {
        "id": "9xWHve1PN4cN"
      },
      "source": [
        "## Melatih Model\n",
        "Langkah berikutnya, mulailah proses training."
      ]
    },
    {
      "cell_type": "code",
      "execution_count": 53,
      "metadata": {
        "colab": {
          "base_uri": "https://localhost:8080/"
        },
        "id": "1yBJo0d8N5Vl",
        "outputId": "8352742b-c9ab-4939-bbad-6ad3baf94e27"
      },
      "outputs": [
        {
          "name": "stdout",
          "output_type": "stream",
          "text": [
            "Epoch 1/5\n",
            "\u001b[1m5421/5421\u001b[0m \u001b[32m━━━━━━━━━━━━━━━━━━━━\u001b[0m\u001b[37m\u001b[0m \u001b[1m33s\u001b[0m 5ms/step - loss: 0.0948 - root_mean_squared_error: 0.3079 - val_loss: 0.0867 - val_root_mean_squared_error: 0.2944\n",
            "Epoch 2/5\n",
            "\u001b[1m5421/5421\u001b[0m \u001b[32m━━━━━━━━━━━━━━━━━━━━\u001b[0m\u001b[37m\u001b[0m \u001b[1m39s\u001b[0m 5ms/step - loss: 0.0710 - root_mean_squared_error: 0.2663 - val_loss: 0.0507 - val_root_mean_squared_error: 0.2251\n",
            "Epoch 3/5\n",
            "\u001b[1m5421/5421\u001b[0m \u001b[32m━━━━━━━━━━━━━━━━━━━━\u001b[0m\u001b[37m\u001b[0m \u001b[1m24s\u001b[0m 4ms/step - loss: 0.0413 - root_mean_squared_error: 0.2032 - val_loss: 0.0476 - val_root_mean_squared_error: 0.2182\n",
            "Epoch 4/5\n",
            "\u001b[1m5421/5421\u001b[0m \u001b[32m━━━━━━━━━━━━━━━━━━━━\u001b[0m\u001b[37m\u001b[0m \u001b[1m26s\u001b[0m 5ms/step - loss: 0.0394 - root_mean_squared_error: 0.1985 - val_loss: 0.0474 - val_root_mean_squared_error: 0.2177\n",
            "Epoch 5/5\n",
            "\u001b[1m5421/5421\u001b[0m \u001b[32m━━━━━━━━━━━━━━━━━━━━\u001b[0m\u001b[37m\u001b[0m \u001b[1m27s\u001b[0m 5ms/step - loss: 0.0382 - root_mean_squared_error: 0.1955 - val_loss: 0.0470 - val_root_mean_squared_error: 0.2168\n"
          ]
        }
      ],
      "source": [
        "history = model.fit(\n",
        "    x_train, y_train,\n",
        "    batch_size=64,\n",
        "    epochs=5,\n",
        "    validation_data=(x_val, y_val)\n",
        ")"
      ]
    },
    {
      "cell_type": "markdown",
      "metadata": {
        "id": "DpvUOOR0N69d"
      },
      "source": [
        "## Visualisasi Hasil Training"
      ]
    },
    {
      "cell_type": "code",
      "execution_count": 54,
      "metadata": {
        "colab": {
          "base_uri": "https://localhost:8080/",
          "height": 472
        },
        "id": "XYstO30-N8sG",
        "outputId": "60a14760-d44a-4295-d1b7-e806eb6657b3"
      },
      "outputs": [
        {
          "data": {
            "image/png": "[encoded data removed]",
            "text/plain": [
              "<Figure size 640x480 with 1 Axes>"
            ]
          },
          "metadata": {},
          "output_type": "display_data"
        }
      ],
      "source": [
        "plt.plot(history.history['root_mean_squared_error'])\n",
        "plt.plot(history.history['val_root_mean_squared_error'])\n",
        "plt.title('Model Training vs Validation RMSE')\n",
        "plt.ylabel('Root Mean Squared Error')\n",
        "plt.xlabel('Epoch')\n",
        "plt.legend(['Train', 'Validation'])\n",
        "plt.show()"
      ]
    },
    {
      "cell_type": "markdown",
      "metadata": {},
      "source": [
        "Berdasarkan visualisasi data di atas, kita dapat melihat bahwa model telah belajar dengan baik dan loss-nya menurun seiring dengan epoch yang berjalan. Model memiliki root mean squared error sebesar 0.1955 pada data training dan 0.2168 pada data validation. Hal ini menunjukkan bahwa model memiliki performa yang baik dalam memprediksi rating buku."
      ]
    },
    {
      "cell_type": "markdown",
      "metadata": {
        "id": "5I2p5HTyN9NV"
      },
      "source": [
        "## Membuat Rekomendasi untuk Pengguna\n",
        "\n",
        "Membuat function untuk mendapatkan rekomendasi bagi pengguna\n",
        "1. Mengambil buku yang belum dibaca oleh pengguna.\n",
        "2. Menggunakan model untuk memprediksi rating setiap buku yang belum dibaca.\n",
        "3. Memilih buku dengan rating prediksi tertinggi sebagai rekomendasi."
      ]
    },
    {
      "cell_type": "code",
      "execution_count": 55,
      "metadata": {
        "id": "EVG_CR9mOBk9"
      },
      "outputs": [],
      "source": [
        "def get_book_recommendations(user_id, model, ratings, books, user_to_user_encoded, book_to_book_encoded, num_recommendations=10):\n",
        "    user_idx = user_to_user_encoded[user_id]\n",
        "    user_book_ids = set(ratings[ratings['User-ID'] == user_id]['ISBN'])\n",
        "    all_book_ids = set(book_to_book_encoded.keys())\n",
        "    unvisited_book_ids = list(all_book_ids - user_book_ids)\n",
        "    unvisited_books_idx = [book_to_book_encoded[bid] for bid in unvisited_book_ids]\n",
        "\n",
        "    user_book_pairs = np.hstack((\n",
        "        np.full((len(unvisited_books_idx), 1), user_idx),\n",
        "        np.array(unvisited_books_idx).reshape(-1, 1)\n",
        "    ))\n",
        "\n",
        "    predicted_ratings = model.predict(user_book_pairs).flatten()\n",
        "    top_indices = predicted_ratings.argsort()[-num_recommendations * 2:][::-1]  # Ambil lebih banyak untuk menghindari error\n",
        "    recommended_book_ids = [unvisited_book_ids[idx] for idx in top_indices]\n",
        "    predicted_ratings = predicted_ratings[top_indices]\n",
        "\n",
        "    recommendations = []\n",
        "    for book_id, pred_rating in zip(recommended_book_ids, predicted_ratings):\n",
        "        book_info = books[books['ISBN'] == book_id]\n",
        "        if book_info.empty:\n",
        "            continue\n",
        "        book_info = book_info.iloc[0]\n",
        "\n",
        "        recommendations.append({\n",
        "            'ISBN': book_id,\n",
        "            'Title': book_info['Book-Title'],\n",
        "            'Author': book_info['Book-Author'],\n",
        "            'Year': book_info['Year-Of-Publication'],\n",
        "            'Publisher': book_info['Publisher'],\n",
        "            'Predicted Rating': float(pred_rating * 10)\n",
        "        })\n",
        "\n",
        "        if len(recommendations) >= num_recommendations:\n",
        "            break\n",
        "\n",
        "    return recommendations"
      ]
    },
    {
      "cell_type": "markdown",
      "metadata": {
        "id": "Giz0XHQGODye"
      },
      "source": [
        "## Test Rekomendasi\n",
        "\n",
        "Menampilkan 10 buku rekomendasi untuk pengguna tertentu berdasarkan prediksi rating tertinggi."
      ]
    },
    {
      "cell_type": "code",
      "execution_count": null,
      "metadata": {
        "colab": {
          "base_uri": "https://localhost:8080/"
        },
        "id": "kg4MdDGLODot",
        "outputId": "2aedac97-d6ef-4ef4-b5a7-800b3a82454b"
      },
      "outputs": [
        {
          "name": "stdout",
          "output_type": "stream",
          "text": [
            "\u001b[1m5812/5812\u001b[0m \u001b[32m━━━━━━━━━━━━━━━━━━━━\u001b[0m\u001b[37m\u001b[0m \u001b[1m8s\u001b[0m 1ms/step\n",
            "\n",
            " User profiles: \n",
            "--------------------------------------------------------------------------------\n",
            "User ID: 276760\n",
            "Location: santander, n/a, spain\n",
            "Age: 25.0\n",
            "--------------------------------------------------------------------------------\n",
            "\n",
            "Top 10 Book Recommendations for User 276760:\n",
            "--------------------------------------------------------------------------------\n",
            "1. Harry Potter and the Sorcerer's Stone (Harry Potter (Paperback)) by J. K. Rowling\n",
            "   Year: 1999, Publisher: Arthur A. Levine Books\n",
            "   Predicted Rating: 6.01\n",
            "--------------------------------------------------------------------------------\n",
            "2. To Kill a Mockingbird by Harper Lee\n",
            "   Year: 1988, Publisher: Little Brown &amp; Company\n",
            "   Predicted Rating: 5.92\n",
            "--------------------------------------------------------------------------------\n",
            "3. The Da Vinci Code by Dan Brown\n",
            "   Year: 2003, Publisher: Doubleday\n",
            "   Predicted Rating: 5.85\n",
            "--------------------------------------------------------------------------------\n",
            "4. Harry Potter and the Order of the Phoenix (Book 5) by J. K. Rowling\n",
            "   Year: 2003, Publisher: Scholastic\n",
            "   Predicted Rating: 5.83\n",
            "--------------------------------------------------------------------------------\n",
            "5. Harry Potter and the Chamber of Secrets (Book 2) by J. K. Rowling\n",
            "   Year: 2000, Publisher: Scholastic\n",
            "   Predicted Rating: 5.81\n",
            "--------------------------------------------------------------------------------\n",
            "6. The Lovely Bones: A Novel by Alice Sebold\n",
            "   Year: 2002, Publisher: Little, Brown\n",
            "   Predicted Rating: 5.79\n",
            "--------------------------------------------------------------------------------\n",
            "7. The Secret Life of Bees by Sue Monk Kidd\n",
            "   Year: 2003, Publisher: Penguin Books\n",
            "   Predicted Rating: 5.79\n",
            "--------------------------------------------------------------------------------\n",
            "8. Harry Potter and the Goblet of Fire (Book 4) by J. K. Rowling\n",
            "   Year: 2000, Publisher: Scholastic\n",
            "   Predicted Rating: 5.77\n",
            "--------------------------------------------------------------------------------\n",
            "9. Harry Potter and the Prisoner of Azkaban (Book 3) by J. K. Rowling\n",
            "   Year: 1999, Publisher: Scholastic\n",
            "   Predicted Rating: 5.76\n",
            "--------------------------------------------------------------------------------\n",
            "10. Tuesdays with Morrie: An Old Man, a Young Man, and Life's Greatest Lesson by MITCH ALBOM\n",
            "   Year: 1997, Publisher: Doubleday\n",
            "   Predicted Rating: 5.73\n",
            "--------------------------------------------------------------------------------\n"
          ]
        }
      ],
      "source": [
        "# Get recommendations for a user\n",
        "user_id = 276760\n",
        "recommendations = get_book_recommendations(\n",
        "    user_id=user_id,\n",
        "    model=model,\n",
        "    ratings=ratings,\n",
        "    books=books,\n",
        "    user_to_user_encoded=user_to_user_encoded,\n",
        "    book_to_book_encoded=book_to_book_encoded\n",
        ")\n",
        "\n",
        "# Show recommendations\n",
        "print(f\"\\nUser profiles: \")\n",
        "print(\"-\" * 80)\n",
        "user_profile = users[users['User-ID'] == user_id].iloc[0]\n",
        "print(f\"User ID: {user_id}\")\n",
        "print(f\"Location: {user_profile['Location']}\")\n",
        "print(f\"Age: {user_profile['Age']}\")\n",
        "print(\"-\" * 80)\n",
        "print(f\"\\nTop 10 Book Recommendations for User {user_id}:\")\n",
        "print(\"-\" * 80)\n",
        "for i, rec in enumerate(recommendations, 1):\n",
        "    print(f\"{i}. {rec['Title']} by {rec['Author']}\")\n",
        "    print(f\"   Year: {rec['Year']}, Publisher: {rec['Publisher']}\")\n",
        "    print(f\"   Predicted Rating: {rec['Predicted Rating']:.2f}\")\n",
        "    print(\"-\" * 80)\n"
      ]
    },
    {
      "cell_type": "markdown",
      "metadata": {},
      "source": [
        "Kita sudah berhasil membuat model collaborative filtering menggunakan TensorFlow dan memberikan rekomendasi buku berdasarkan prediksi rating tertinggi. Model ini dapat memberikan rekomendasi buku kepada pengguna dengan akurasi yang sangat baik."
      ]
    }
  ],
  "metadata": {
    "accelerator": "GPU",
    "colab": {
      "gpuType": "T4",
      "provenance": []
    },
    "kernelspec": {
      "display_name": "Python 3",
      "name": "python3"
    },
    "language_info": {
      "name": "python"
    }
  },
  "nbformat": 4,
  "nbformat_minor": 0
}
